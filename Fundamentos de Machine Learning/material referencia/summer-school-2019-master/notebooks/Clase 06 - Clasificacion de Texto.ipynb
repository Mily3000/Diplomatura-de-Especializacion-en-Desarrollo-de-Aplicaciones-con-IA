{
 "cells": [
  {
   "cell_type": "code",
   "execution_count": 1,
   "metadata": {},
   "outputs": [],
   "source": [
    "import pandas as pd"
   ]
  },
  {
   "cell_type": "code",
   "execution_count": 2,
   "metadata": {},
   "outputs": [],
   "source": [
    "train = pd.read_excel('train_universidad.xlsx', sheet_name=1)"
   ]
  },
  {
   "cell_type": "code",
   "execution_count": 3,
   "metadata": {},
   "outputs": [
    {
     "data": {
      "text/html": [
       "<div>\n",
       "<style scoped>\n",
       "    .dataframe tbody tr th:only-of-type {\n",
       "        vertical-align: middle;\n",
       "    }\n",
       "\n",
       "    .dataframe tbody tr th {\n",
       "        vertical-align: top;\n",
       "    }\n",
       "\n",
       "    .dataframe thead th {\n",
       "        text-align: right;\n",
       "    }\n",
       "</style>\n",
       "<table border=\"1\" class=\"dataframe\">\n",
       "  <thead>\n",
       "    <tr style=\"text-align: right;\">\n",
       "      <th></th>\n",
       "      <th>COD_ENCUESTADO</th>\n",
       "      <th>Nombre Campus</th>\n",
       "      <th>NIVEL ACTUAL</th>\n",
       "      <th>Clave de carrera</th>\n",
       "      <th>Ciclo</th>\n",
       "      <th>COMENTARIO</th>\n",
       "      <th>IND_GEA</th>\n",
       "      <th>IND_DELEGADO</th>\n",
       "      <th>CANT_CURSOS_MATRICU_SIN_INGLES</th>\n",
       "      <th>UOD_depostista_ind_deportista</th>\n",
       "      <th>NPS</th>\n",
       "    </tr>\n",
       "  </thead>\n",
       "  <tbody>\n",
       "    <tr>\n",
       "      <th>2368</th>\n",
       "      <td>7088</td>\n",
       "      <td>1</td>\n",
       "      <td>AC</td>\n",
       "      <td>25</td>\n",
       "      <td>4</td>\n",
       "      <td>En el sistema de cursos mas habilitaciones de...</td>\n",
       "      <td>NaN</td>\n",
       "      <td>NaN</td>\n",
       "      <td>5.0</td>\n",
       "      <td>NaN</td>\n",
       "      <td>3</td>\n",
       "    </tr>\n",
       "    <tr>\n",
       "      <th>7370</th>\n",
       "      <td>21906</td>\n",
       "      <td>4</td>\n",
       "      <td>AC</td>\n",
       "      <td>25</td>\n",
       "      <td>1</td>\n",
       "      <td>Mucha mora</td>\n",
       "      <td>NaN</td>\n",
       "      <td>NaN</td>\n",
       "      <td>4.0</td>\n",
       "      <td>NaN</td>\n",
       "      <td>2</td>\n",
       "    </tr>\n",
       "    <tr>\n",
       "      <th>11966</th>\n",
       "      <td>3668</td>\n",
       "      <td>2</td>\n",
       "      <td>AC</td>\n",
       "      <td>26</td>\n",
       "      <td>1</td>\n",
       "      <td>En primer lugar,aumentaria las becas para est...</td>\n",
       "      <td>NaN</td>\n",
       "      <td>NaN</td>\n",
       "      <td>5.0</td>\n",
       "      <td>NaN</td>\n",
       "      <td>3</td>\n",
       "    </tr>\n",
       "    <tr>\n",
       "      <th>11613</th>\n",
       "      <td>30435</td>\n",
       "      <td>4</td>\n",
       "      <td>PRESENCIAL</td>\n",
       "      <td>213</td>\n",
       "      <td>1</td>\n",
       "      <td>Los tópicos de las materias deberian ser con ...</td>\n",
       "      <td>NaN</td>\n",
       "      <td>NaN</td>\n",
       "      <td>NaN</td>\n",
       "      <td>NaN</td>\n",
       "      <td>3</td>\n",
       "    </tr>\n",
       "    <tr>\n",
       "      <th>13547</th>\n",
       "      <td>7550</td>\n",
       "      <td>3</td>\n",
       "      <td>AC</td>\n",
       "      <td>21</td>\n",
       "      <td>2</td>\n",
       "      <td>ampliar el comedor universitario y los cubilos</td>\n",
       "      <td>NaN</td>\n",
       "      <td>NaN</td>\n",
       "      <td>6.0</td>\n",
       "      <td>NaN</td>\n",
       "      <td>3</td>\n",
       "    </tr>\n",
       "  </tbody>\n",
       "</table>\n",
       "</div>"
      ],
      "text/plain": [
       "       COD_ENCUESTADO  Nombre Campus NIVEL ACTUAL  Clave de carrera  Ciclo  \\\n",
       "2368             7088              1           AC                25      4   \n",
       "7370            21906              4           AC                25      1   \n",
       "11966            3668              2           AC                26      1   \n",
       "11613           30435              4   PRESENCIAL               213      1   \n",
       "13547            7550              3           AC                21      2   \n",
       "\n",
       "                                              COMENTARIO IND_GEA IND_DELEGADO  \\\n",
       "2368    En el sistema de cursos mas habilitaciones de...     NaN          NaN   \n",
       "7370                                          Mucha mora     NaN          NaN   \n",
       "11966   En primer lugar,aumentaria las becas para est...     NaN          NaN   \n",
       "11613   Los tópicos de las materias deberian ser con ...     NaN          NaN   \n",
       "13547     ampliar el comedor universitario y los cubilos     NaN          NaN   \n",
       "\n",
       "       CANT_CURSOS_MATRICU_SIN_INGLES UOD_depostista_ind_deportista  NPS  \n",
       "2368                              5.0                           NaN    3  \n",
       "7370                              4.0                           NaN    2  \n",
       "11966                             5.0                           NaN    3  \n",
       "11613                             NaN                           NaN    3  \n",
       "13547                             6.0                           NaN    3  "
      ]
     },
     "execution_count": 3,
     "metadata": {},
     "output_type": "execute_result"
    }
   ],
   "source": [
    "train.sample(5)"
   ]
  },
  {
   "cell_type": "code",
   "execution_count": 13,
   "metadata": {},
   "outputs": [
    {
     "data": {
      "text/html": [
       "<div>\n",
       "<style scoped>\n",
       "    .dataframe tbody tr th:only-of-type {\n",
       "        vertical-align: middle;\n",
       "    }\n",
       "\n",
       "    .dataframe tbody tr th {\n",
       "        vertical-align: top;\n",
       "    }\n",
       "\n",
       "    .dataframe thead th {\n",
       "        text-align: right;\n",
       "    }\n",
       "</style>\n",
       "<table border=\"1\" class=\"dataframe\">\n",
       "  <thead>\n",
       "    <tr style=\"text-align: right;\">\n",
       "      <th></th>\n",
       "      <th>count</th>\n",
       "      <th>unique</th>\n",
       "      <th>top</th>\n",
       "      <th>freq</th>\n",
       "      <th>mean</th>\n",
       "      <th>std</th>\n",
       "      <th>min</th>\n",
       "      <th>25%</th>\n",
       "      <th>50%</th>\n",
       "      <th>75%</th>\n",
       "      <th>max</th>\n",
       "    </tr>\n",
       "  </thead>\n",
       "  <tbody>\n",
       "    <tr>\n",
       "      <th>COD_ENCUESTADO</th>\n",
       "      <td>20000</td>\n",
       "      <td>20000</td>\n",
       "      <td>6026</td>\n",
       "      <td>1</td>\n",
       "      <td>NaN</td>\n",
       "      <td>NaN</td>\n",
       "      <td>NaN</td>\n",
       "      <td>NaN</td>\n",
       "      <td>NaN</td>\n",
       "      <td>NaN</td>\n",
       "      <td>NaN</td>\n",
       "    </tr>\n",
       "    <tr>\n",
       "      <th>Nombre Campus</th>\n",
       "      <td>20000</td>\n",
       "      <td>4</td>\n",
       "      <td>3</td>\n",
       "      <td>8361</td>\n",
       "      <td>NaN</td>\n",
       "      <td>NaN</td>\n",
       "      <td>NaN</td>\n",
       "      <td>NaN</td>\n",
       "      <td>NaN</td>\n",
       "      <td>NaN</td>\n",
       "      <td>NaN</td>\n",
       "    </tr>\n",
       "    <tr>\n",
       "      <th>NIVEL ACTUAL</th>\n",
       "      <td>20000</td>\n",
       "      <td>4</td>\n",
       "      <td>AC</td>\n",
       "      <td>14990</td>\n",
       "      <td>NaN</td>\n",
       "      <td>NaN</td>\n",
       "      <td>NaN</td>\n",
       "      <td>NaN</td>\n",
       "      <td>NaN</td>\n",
       "      <td>NaN</td>\n",
       "      <td>NaN</td>\n",
       "    </tr>\n",
       "    <tr>\n",
       "      <th>Clave de carrera</th>\n",
       "      <td>20000</td>\n",
       "      <td>72</td>\n",
       "      <td>5</td>\n",
       "      <td>1616</td>\n",
       "      <td>NaN</td>\n",
       "      <td>NaN</td>\n",
       "      <td>NaN</td>\n",
       "      <td>NaN</td>\n",
       "      <td>NaN</td>\n",
       "      <td>NaN</td>\n",
       "      <td>NaN</td>\n",
       "    </tr>\n",
       "    <tr>\n",
       "      <th>Ciclo</th>\n",
       "      <td>20000</td>\n",
       "      <td>NaN</td>\n",
       "      <td>NaN</td>\n",
       "      <td>NaN</td>\n",
       "      <td>3.0524</td>\n",
       "      <td>2.35532</td>\n",
       "      <td>1</td>\n",
       "      <td>1</td>\n",
       "      <td>2</td>\n",
       "      <td>4</td>\n",
       "      <td>14</td>\n",
       "    </tr>\n",
       "    <tr>\n",
       "      <th>COMENTARIO</th>\n",
       "      <td>20000</td>\n",
       "      <td>17611</td>\n",
       "      <td>La enseñanza</td>\n",
       "      <td>111</td>\n",
       "      <td>NaN</td>\n",
       "      <td>NaN</td>\n",
       "      <td>NaN</td>\n",
       "      <td>NaN</td>\n",
       "      <td>NaN</td>\n",
       "      <td>NaN</td>\n",
       "      <td>NaN</td>\n",
       "    </tr>\n",
       "    <tr>\n",
       "      <th>IND_GEA</th>\n",
       "      <td>20000</td>\n",
       "      <td>2</td>\n",
       "      <td>False</td>\n",
       "      <td>19701</td>\n",
       "      <td>NaN</td>\n",
       "      <td>NaN</td>\n",
       "      <td>NaN</td>\n",
       "      <td>NaN</td>\n",
       "      <td>NaN</td>\n",
       "      <td>NaN</td>\n",
       "      <td>NaN</td>\n",
       "    </tr>\n",
       "    <tr>\n",
       "      <th>IND_DELEGADO</th>\n",
       "      <td>20000</td>\n",
       "      <td>2</td>\n",
       "      <td>False</td>\n",
       "      <td>16468</td>\n",
       "      <td>NaN</td>\n",
       "      <td>NaN</td>\n",
       "      <td>NaN</td>\n",
       "      <td>NaN</td>\n",
       "      <td>NaN</td>\n",
       "      <td>NaN</td>\n",
       "      <td>NaN</td>\n",
       "    </tr>\n",
       "    <tr>\n",
       "      <th>CANT_CURSOS_MATRICU_SIN_INGLES</th>\n",
       "      <td>20000</td>\n",
       "      <td>NaN</td>\n",
       "      <td>NaN</td>\n",
       "      <td>NaN</td>\n",
       "      <td>4.6974</td>\n",
       "      <td>1.54329</td>\n",
       "      <td>0</td>\n",
       "      <td>4</td>\n",
       "      <td>5</td>\n",
       "      <td>6</td>\n",
       "      <td>10</td>\n",
       "    </tr>\n",
       "    <tr>\n",
       "      <th>UOD_depostista_ind_deportista</th>\n",
       "      <td>20000</td>\n",
       "      <td>2</td>\n",
       "      <td>False</td>\n",
       "      <td>19852</td>\n",
       "      <td>NaN</td>\n",
       "      <td>NaN</td>\n",
       "      <td>NaN</td>\n",
       "      <td>NaN</td>\n",
       "      <td>NaN</td>\n",
       "      <td>NaN</td>\n",
       "      <td>NaN</td>\n",
       "    </tr>\n",
       "    <tr>\n",
       "      <th>NPS</th>\n",
       "      <td>20000</td>\n",
       "      <td>NaN</td>\n",
       "      <td>NaN</td>\n",
       "      <td>NaN</td>\n",
       "      <td>3.12335</td>\n",
       "      <td>0.858587</td>\n",
       "      <td>1</td>\n",
       "      <td>3</td>\n",
       "      <td>3</td>\n",
       "      <td>4</td>\n",
       "      <td>4</td>\n",
       "    </tr>\n",
       "  </tbody>\n",
       "</table>\n",
       "</div>"
      ],
      "text/plain": [
       "                                count unique            top   freq     mean  \\\n",
       "COD_ENCUESTADO                  20000  20000           6026      1      NaN   \n",
       "Nombre Campus                   20000      4              3   8361      NaN   \n",
       "NIVEL ACTUAL                    20000      4             AC  14990      NaN   \n",
       "Clave de carrera                20000     72              5   1616      NaN   \n",
       "Ciclo                           20000    NaN            NaN    NaN   3.0524   \n",
       "COMENTARIO                      20000  17611   La enseñanza    111      NaN   \n",
       "IND_GEA                         20000      2          False  19701      NaN   \n",
       "IND_DELEGADO                    20000      2          False  16468      NaN   \n",
       "CANT_CURSOS_MATRICU_SIN_INGLES  20000    NaN            NaN    NaN   4.6974   \n",
       "UOD_depostista_ind_deportista   20000      2          False  19852      NaN   \n",
       "NPS                             20000    NaN            NaN    NaN  3.12335   \n",
       "\n",
       "                                     std  min  25%  50%  75%  max  \n",
       "COD_ENCUESTADO                       NaN  NaN  NaN  NaN  NaN  NaN  \n",
       "Nombre Campus                        NaN  NaN  NaN  NaN  NaN  NaN  \n",
       "NIVEL ACTUAL                         NaN  NaN  NaN  NaN  NaN  NaN  \n",
       "Clave de carrera                     NaN  NaN  NaN  NaN  NaN  NaN  \n",
       "Ciclo                            2.35532    1    1    2    4   14  \n",
       "COMENTARIO                           NaN  NaN  NaN  NaN  NaN  NaN  \n",
       "IND_GEA                              NaN  NaN  NaN  NaN  NaN  NaN  \n",
       "IND_DELEGADO                         NaN  NaN  NaN  NaN  NaN  NaN  \n",
       "CANT_CURSOS_MATRICU_SIN_INGLES   1.54329    0    4    5    6   10  \n",
       "UOD_depostista_ind_deportista        NaN  NaN  NaN  NaN  NaN  NaN  \n",
       "NPS                             0.858587    1    3    3    4    4  "
      ]
     },
     "execution_count": 13,
     "metadata": {},
     "output_type": "execute_result"
    }
   ],
   "source": [
    "train.describe(include='all').T"
   ]
  },
  {
   "cell_type": "code",
   "execution_count": 5,
   "metadata": {},
   "outputs": [],
   "source": [
    "cat_cols = ['COD_ENCUESTADO', 'Nombre Campus', 'NIVEL ACTUAL', 'Clave de carrera']"
   ]
  },
  {
   "cell_type": "code",
   "execution_count": 6,
   "metadata": {},
   "outputs": [],
   "source": [
    "for c in cat_cols:\n",
    "    train[c] = train[c].astype(str)"
   ]
  },
  {
   "cell_type": "code",
   "execution_count": 8,
   "metadata": {},
   "outputs": [],
   "source": [
    "binary_cols = ['IND_GEA', 'IND_DELEGADO', 'UOD_depostista_ind_deportista']"
   ]
  },
  {
   "cell_type": "code",
   "execution_count": 9,
   "metadata": {},
   "outputs": [],
   "source": [
    "for c in binary_cols:\n",
    "    train[c] = train[c].notnull()"
   ]
  },
  {
   "cell_type": "code",
   "execution_count": 12,
   "metadata": {},
   "outputs": [],
   "source": [
    "train.fillna(0, inplace=True)"
   ]
  },
  {
   "cell_type": "code",
   "execution_count": 16,
   "metadata": {},
   "outputs": [],
   "source": [
    "%matplotlib inline\n",
    "import matplotlib.pyplot as plt\n",
    "import seaborn as sns\n",
    "sns.set()"
   ]
  },
  {
   "cell_type": "code",
   "execution_count": 17,
   "metadata": {},
   "outputs": [
    {
     "data": {
      "image/png": "[encoded data removed]",
      "text/plain": [
       "<Figure size 432x288 with 1 Axes>"
      ]
     },
     "metadata": {},
     "output_type": "display_data"
    }
   ],
   "source": [
    "sns.countplot(train.NPS);"
   ]
  },
  {
   "cell_type": "code",
   "execution_count": 18,
   "metadata": {},
   "outputs": [
    {
     "data": {
      "text/plain": [
       "3    0.40680\n",
       "4    0.38480\n",
       "2    0.15535\n",
       "1    0.05305\n",
       "Name: NPS, dtype: float64"
      ]
     },
     "execution_count": 18,
     "metadata": {},
     "output_type": "execute_result"
    }
   ],
   "source": [
    "train.NPS.value_counts(normalize=True)"
   ]
  },
  {
   "cell_type": "markdown",
   "metadata": {},
   "source": [
    "# Baseline "
   ]
  },
  {
   "cell_type": "code",
   "execution_count": 20,
   "metadata": {},
   "outputs": [],
   "source": [
    "cols = [c for c in train if c not in ['COD_ENCUESTADO', 'NPS', 'COMENTARIO']]"
   ]
  },
  {
   "cell_type": "code",
   "execution_count": 26,
   "metadata": {},
   "outputs": [],
   "source": [
    "X, y = train[cols].copy(), train.NPS"
   ]
  },
  {
   "cell_type": "code",
   "execution_count": 40,
   "metadata": {},
   "outputs": [
    {
     "data": {
      "text/html": [
       "<div>\n",
       "<style scoped>\n",
       "    .dataframe tbody tr th:only-of-type {\n",
       "        vertical-align: middle;\n",
       "    }\n",
       "\n",
       "    .dataframe tbody tr th {\n",
       "        vertical-align: top;\n",
       "    }\n",
       "\n",
       "    .dataframe thead th {\n",
       "        text-align: right;\n",
       "    }\n",
       "</style>\n",
       "<table border=\"1\" class=\"dataframe\">\n",
       "  <thead>\n",
       "    <tr style=\"text-align: right;\">\n",
       "      <th></th>\n",
       "      <th>Nombre Campus</th>\n",
       "      <th>NIVEL ACTUAL</th>\n",
       "      <th>Clave de carrera</th>\n",
       "      <th>Ciclo</th>\n",
       "      <th>IND_GEA</th>\n",
       "      <th>IND_DELEGADO</th>\n",
       "      <th>CANT_CURSOS_MATRICU_SIN_INGLES</th>\n",
       "      <th>UOD_depostista_ind_deportista</th>\n",
       "    </tr>\n",
       "  </thead>\n",
       "  <tbody>\n",
       "    <tr>\n",
       "      <th>0</th>\n",
       "      <td>1</td>\n",
       "      <td>0</td>\n",
       "      <td>3</td>\n",
       "      <td>2</td>\n",
       "      <td>False</td>\n",
       "      <td>True</td>\n",
       "      <td>6.0</td>\n",
       "      <td>False</td>\n",
       "    </tr>\n",
       "    <tr>\n",
       "      <th>1</th>\n",
       "      <td>3</td>\n",
       "      <td>0</td>\n",
       "      <td>25</td>\n",
       "      <td>1</td>\n",
       "      <td>False</td>\n",
       "      <td>True</td>\n",
       "      <td>5.0</td>\n",
       "      <td>False</td>\n",
       "    </tr>\n",
       "    <tr>\n",
       "      <th>2</th>\n",
       "      <td>4</td>\n",
       "      <td>0</td>\n",
       "      <td>31</td>\n",
       "      <td>1</td>\n",
       "      <td>False</td>\n",
       "      <td>False</td>\n",
       "      <td>5.0</td>\n",
       "      <td>False</td>\n",
       "    </tr>\n",
       "    <tr>\n",
       "      <th>3</th>\n",
       "      <td>4</td>\n",
       "      <td>0</td>\n",
       "      <td>28</td>\n",
       "      <td>6</td>\n",
       "      <td>True</td>\n",
       "      <td>False</td>\n",
       "      <td>6.0</td>\n",
       "      <td>False</td>\n",
       "    </tr>\n",
       "    <tr>\n",
       "      <th>4</th>\n",
       "      <td>3</td>\n",
       "      <td>0</td>\n",
       "      <td>34</td>\n",
       "      <td>1</td>\n",
       "      <td>False</td>\n",
       "      <td>False</td>\n",
       "      <td>6.0</td>\n",
       "      <td>False</td>\n",
       "    </tr>\n",
       "  </tbody>\n",
       "</table>\n",
       "</div>"
      ],
      "text/plain": [
       "   Nombre Campus  NIVEL ACTUAL  Clave de carrera  Ciclo  IND_GEA  \\\n",
       "0              1             0                 3      2    False   \n",
       "1              3             0                25      1    False   \n",
       "2              4             0                31      1    False   \n",
       "3              4             0                28      6     True   \n",
       "4              3             0                34      1    False   \n",
       "\n",
       "   IND_DELEGADO  CANT_CURSOS_MATRICU_SIN_INGLES  UOD_depostista_ind_deportista  \n",
       "0          True                             6.0                          False  \n",
       "1          True                             5.0                          False  \n",
       "2         False                             5.0                          False  \n",
       "3         False                             6.0                          False  \n",
       "4         False                             6.0                          False  "
      ]
     },
     "execution_count": 40,
     "metadata": {},
     "output_type": "execute_result"
    }
   ],
   "source": [
    "X.head()"
   ]
  },
  {
   "cell_type": "code",
   "execution_count": 28,
   "metadata": {},
   "outputs": [],
   "source": [
    "from sklearn.preprocessing import LabelEncoder"
   ]
  },
  {
   "cell_type": "code",
   "execution_count": 29,
   "metadata": {},
   "outputs": [],
   "source": [
    "lencoder = LabelEncoder()\n",
    "X['NIVEL ACTUAL'] = lencoder.fit_transform(X['NIVEL ACTUAL'])"
   ]
  },
  {
   "cell_type": "code",
   "execution_count": 32,
   "metadata": {},
   "outputs": [],
   "source": [
    "cat_cols = ['Nombre Campus', 'Clave de carrera']"
   ]
  },
  {
   "cell_type": "code",
   "execution_count": 33,
   "metadata": {},
   "outputs": [],
   "source": [
    "for c in cat_cols:\n",
    "    X[c] = X[c].astype(int)"
   ]
  },
  {
   "cell_type": "markdown",
   "metadata": {},
   "source": [
    "## Model"
   ]
  },
  {
   "cell_type": "code",
   "execution_count": 36,
   "metadata": {},
   "outputs": [],
   "source": [
    "from sklearn.model_selection import KFold\n",
    "kfolds = KFold(n_splits=5, shuffle=True, random_state=42)"
   ]
  },
  {
   "cell_type": "code",
   "execution_count": 37,
   "metadata": {},
   "outputs": [],
   "source": [
    "from lightgbm import LGBMClassifier\n",
    "model = LGBMClassifier()"
   ]
  },
  {
   "cell_type": "code",
   "execution_count": 39,
   "metadata": {},
   "outputs": [],
   "source": [
    "from sklearn.model_selection import cross_validate"
   ]
  },
  {
   "cell_type": "code",
   "execution_count": 41,
   "metadata": {},
   "outputs": [
    {
     "name": "stdout",
     "output_type": "stream",
     "text": [
      "CPU times: user 16.1 s, sys: 342 ms, total: 16.5 s\n",
      "Wall time: 2.35 s\n"
     ]
    }
   ],
   "source": [
    "%%time\n",
    "results = cross_validate(model, X, y, scoring='neg_log_loss', cv=kfolds,\n",
    "                         return_train_score=True)"
   ]
  },
  {
   "cell_type": "code",
   "execution_count": 43,
   "metadata": {},
   "outputs": [
    {
     "data": {
      "text/html": [
       "<div>\n",
       "<style scoped>\n",
       "    .dataframe tbody tr th:only-of-type {\n",
       "        vertical-align: middle;\n",
       "    }\n",
       "\n",
       "    .dataframe tbody tr th {\n",
       "        vertical-align: top;\n",
       "    }\n",
       "\n",
       "    .dataframe thead th {\n",
       "        text-align: right;\n",
       "    }\n",
       "</style>\n",
       "<table border=\"1\" class=\"dataframe\">\n",
       "  <thead>\n",
       "    <tr style=\"text-align: right;\">\n",
       "      <th></th>\n",
       "      <th>fit_time</th>\n",
       "      <th>score_time</th>\n",
       "      <th>test_score</th>\n",
       "      <th>train_score</th>\n",
       "    </tr>\n",
       "  </thead>\n",
       "  <tbody>\n",
       "    <tr>\n",
       "      <th>0</th>\n",
       "      <td>0.552034</td>\n",
       "      <td>0.024303</td>\n",
       "      <td>-1.179061</td>\n",
       "      <td>-1.087184</td>\n",
       "    </tr>\n",
       "    <tr>\n",
       "      <th>1</th>\n",
       "      <td>0.282376</td>\n",
       "      <td>0.025822</td>\n",
       "      <td>-1.188940</td>\n",
       "      <td>-1.084105</td>\n",
       "    </tr>\n",
       "    <tr>\n",
       "      <th>2</th>\n",
       "      <td>0.304246</td>\n",
       "      <td>0.021132</td>\n",
       "      <td>-1.169105</td>\n",
       "      <td>-1.088551</td>\n",
       "    </tr>\n",
       "    <tr>\n",
       "      <th>3</th>\n",
       "      <td>0.312581</td>\n",
       "      <td>0.034014</td>\n",
       "      <td>-1.149714</td>\n",
       "      <td>-1.093459</td>\n",
       "    </tr>\n",
       "    <tr>\n",
       "      <th>4</th>\n",
       "      <td>0.375620</td>\n",
       "      <td>0.020907</td>\n",
       "      <td>-1.163037</td>\n",
       "      <td>-1.091426</td>\n",
       "    </tr>\n",
       "  </tbody>\n",
       "</table>\n",
       "</div>"
      ],
      "text/plain": [
       "   fit_time  score_time  test_score  train_score\n",
       "0  0.552034    0.024303   -1.179061    -1.087184\n",
       "1  0.282376    0.025822   -1.188940    -1.084105\n",
       "2  0.304246    0.021132   -1.169105    -1.088551\n",
       "3  0.312581    0.034014   -1.149714    -1.093459\n",
       "4  0.375620    0.020907   -1.163037    -1.091426"
      ]
     },
     "execution_count": 43,
     "metadata": {},
     "output_type": "execute_result"
    }
   ],
   "source": [
    "pd.DataFrame(results)"
   ]
  },
  {
   "cell_type": "markdown",
   "metadata": {},
   "source": [
    "# Text processing"
   ]
  },
  {
   "cell_type": "code",
   "execution_count": 45,
   "metadata": {},
   "outputs": [],
   "source": [
    "desc = train.COMENTARIO[52]"
   ]
  },
  {
   "cell_type": "code",
   "execution_count": 46,
   "metadata": {},
   "outputs": [
    {
     "data": {
      "text/plain": [
       "' La enseñanza y temas son engaña muchachosel curso de calculo que toma 6 meses en otras universidades y en la universidad lo meten en una semana ,lo mismo para los otros cursos de ciencias. LLos pagos deberian bajarlos si desean hacer su metodo blended El acceso a las sede de la misma universidad luego de quitar las sede de alquiler , se convierte en dolor de cabeza para poder llegar . slds No hablo con el higado deberian preocuparse por el futuro de un pais y ser justos con la enseñanza, no es del todo didáctico'"
      ]
     },
     "execution_count": 46,
     "metadata": {},
     "output_type": "execute_result"
    }
   ],
   "source": [
    "desc"
   ]
  },
  {
   "cell_type": "code",
   "execution_count": 49,
   "metadata": {},
   "outputs": [],
   "source": [
    "import unicodedata"
   ]
  },
  {
   "cell_type": "code",
   "execution_count": 67,
   "metadata": {},
   "outputs": [],
   "source": [
    "def clean(s):\n",
    "    s = s.lower()\n",
    "    s = unicodedata.normalize('NFKD', s) \\\n",
    "                   .encode('ascii', 'ignore') \\\n",
    "                   .decode('utf-8', 'ignore')\n",
    "    s = re.sub('[^a-z]+', ' ', s)\n",
    "    s = s.strip()\n",
    "    return s"
   ]
  },
  {
   "cell_type": "code",
   "execution_count": 63,
   "metadata": {},
   "outputs": [
    {
     "data": {
      "text/plain": [
       "['ñ', 'ñ', '6', ',', '.', ',', '.', 'ñ', ',', 'á']"
      ]
     },
     "execution_count": 63,
     "metadata": {},
     "output_type": "execute_result"
    }
   ],
   "source": [
    "import re\n",
    "re.findall('[^a-z ]', desc.lower())"
   ]
  },
  {
   "cell_type": "code",
   "execution_count": 68,
   "metadata": {},
   "outputs": [
    {
     "data": {
      "text/plain": [
       "'la ensenanza y temas son engana muchachosel curso de calculo que toma meses en otras universidades y en la universidad lo meten en una semana lo mismo para los otros cursos de ciencias llos pagos deberian bajarlos si desean hacer su metodo blended el acceso a las sede de la misma universidad luego de quitar las sede de alquiler se convierte en dolor de cabeza para poder llegar slds no hablo con el higado deberian preocuparse por el futuro de un pais y ser justos con la ensenanza no es del todo didactico'"
      ]
     },
     "execution_count": 68,
     "metadata": {},
     "output_type": "execute_result"
    }
   ],
   "source": [
    "clean(desc)"
   ]
  },
  {
   "cell_type": "code",
   "execution_count": 69,
   "metadata": {},
   "outputs": [],
   "source": [
    "train['clean_comment'] = train.COMENTARIO.apply(clean)"
   ]
  },
  {
   "cell_type": "code",
   "execution_count": 72,
   "metadata": {},
   "outputs": [],
   "source": [
    "train['len_comment'] = train.clean_comment.apply(len)"
   ]
  },
  {
   "cell_type": "code",
   "execution_count": 78,
   "metadata": {},
   "outputs": [],
   "source": [
    "train['nwords_comment'] = train.clean_comment.apply(lambda x: len(x.split()))"
   ]
  },
  {
   "cell_type": "code",
   "execution_count": 80,
   "metadata": {},
   "outputs": [
    {
     "data": {
      "image/png": "[encoded data removed]",
      "text/plain": [
       "<Figure size 432x288 with 1 Axes>"
      ]
     },
     "metadata": {},
     "output_type": "display_data"
    }
   ],
   "source": [
    "sns.boxplot('NPS', 'len_comment', data=train);"
   ]
  },
  {
   "cell_type": "code",
   "execution_count": 81,
   "metadata": {},
   "outputs": [
    {
     "data": {
      "image/png": "[encoded data removed]",
      "text/plain": [
       "<Figure size 432x288 with 1 Axes>"
      ]
     },
     "metadata": {},
     "output_type": "display_data"
    }
   ],
   "source": [
    "sns.boxplot('NPS', 'nwords_comment', data=train);"
   ]
  },
  {
   "cell_type": "code",
   "execution_count": 82,
   "metadata": {},
   "outputs": [
    {
     "data": {
      "image/png": "[encoded data removed]",
      "text/plain": [
       "<Figure size 432x288 with 1 Axes>"
      ]
     },
     "metadata": {},
     "output_type": "display_data"
    }
   ],
   "source": [
    "sns.regplot('len_comment', 'nwords_comment', data=train);"
   ]
  },
  {
   "cell_type": "code",
   "execution_count": 83,
   "metadata": {},
   "outputs": [],
   "source": [
    "from collections import Counter"
   ]
  },
  {
   "cell_type": "code",
   "execution_count": 93,
   "metadata": {},
   "outputs": [],
   "source": [
    "counter = Counter()\n",
    "for desc in train.clean_comment:\n",
    "    counter.update(desc.split())"
   ]
  },
  {
   "cell_type": "code",
   "execution_count": 95,
   "metadata": {},
   "outputs": [
    {
     "data": {
      "text/plain": [
       "[('de', 13130),\n",
       " ('la', 11678),\n",
       " ('que', 8273),\n",
       " ('y', 8078),\n",
       " ('en', 7201),\n",
       " ('los', 7197),\n",
       " ('el', 5916),\n",
       " ('no', 4584),\n",
       " ('es', 4086),\n",
       " ('a', 3602)]"
      ]
     },
     "execution_count": 95,
     "metadata": {},
     "output_type": "execute_result"
    }
   ],
   "source": [
    "counter.most_common(10)"
   ]
  },
  {
   "cell_type": "code",
   "execution_count": 96,
   "metadata": {},
   "outputs": [
    {
     "data": {
      "text/plain": [
       "[('retroactivos', 1),\n",
       " ('desordenan', 1),\n",
       " ('primos', 1),\n",
       " ('justificada', 1),\n",
       " ('ceder', 1),\n",
       " ('hipercalorico', 1),\n",
       " ('proteico', 1),\n",
       " ('estabilizan', 1),\n",
       " ('counters', 1),\n",
       " ('registrada', 1)]"
      ]
     },
     "execution_count": 96,
     "metadata": {},
     "output_type": "execute_result"
    }
   ],
   "source": [
    "counter.most_common()[-10:]"
   ]
  },
  {
   "cell_type": "code",
   "execution_count": 101,
   "metadata": {},
   "outputs": [
    {
     "data": {
      "text/plain": [
       "(11333, 251571)"
      ]
     },
     "execution_count": 101,
     "metadata": {},
     "output_type": "execute_result"
    }
   ],
   "source": [
    "len(counter), sum(counter.values())"
   ]
  },
  {
   "cell_type": "markdown",
   "metadata": {},
   "source": [
    "## Vectorization"
   ]
  },
  {
   "cell_type": "code",
   "execution_count": 102,
   "metadata": {},
   "outputs": [],
   "source": [
    "from sklearn.feature_extraction.text import CountVectorizer"
   ]
  },
  {
   "cell_type": "code",
   "execution_count": 103,
   "metadata": {},
   "outputs": [],
   "source": [
    "vectorizer = CountVectorizer()"
   ]
  },
  {
   "cell_type": "code",
   "execution_count": 107,
   "metadata": {},
   "outputs": [],
   "source": [
    "X_count = vectorizer.fit_transform(train.clean_comment)"
   ]
  },
  {
   "cell_type": "code",
   "execution_count": 108,
   "metadata": {},
   "outputs": [
    {
     "data": {
      "text/plain": [
       "(20000, 11309)"
      ]
     },
     "execution_count": 108,
     "metadata": {},
     "output_type": "execute_result"
    }
   ],
   "source": [
    "X_count.shape"
   ]
  },
  {
   "cell_type": "code",
   "execution_count": 123,
   "metadata": {},
   "outputs": [],
   "source": [
    "from stop_words import get_stop_words\n",
    "stopwords = get_stop_words('spanish')"
   ]
  },
  {
   "cell_type": "code",
   "execution_count": 125,
   "metadata": {},
   "outputs": [],
   "source": [
    "from sklearn.feature_extraction.text import TfidfVectorizer\n",
    "vectorizer = TfidfVectorizer(max_df=0.8, min_df=10, stop_words=stopwords)\n",
    "X_tfidf = vectorizer.fit_transform(train.clean_comment)"
   ]
  },
  {
   "cell_type": "code",
   "execution_count": 126,
   "metadata": {},
   "outputs": [
    {
     "data": {
      "text/plain": [
       "(20000, 1555)"
      ]
     },
     "execution_count": 126,
     "metadata": {},
     "output_type": "execute_result"
    }
   ],
   "source": [
    "X_tfidf.shape"
   ]
  },
  {
   "cell_type": "code",
   "execution_count": 127,
   "metadata": {},
   "outputs": [
    {
     "data": {
      "text/plain": [
       "['gusta',\n",
       " 'metodo',\n",
       " 'blended',\n",
       " 'hace',\n",
       " 'bien',\n",
       " 'profesores',\n",
       " 'metodos',\n",
       " 'ensenanza',\n",
       " 'buena',\n",
       " 'uso']"
      ]
     },
     "execution_count": 127,
     "metadata": {},
     "output_type": "execute_result"
    }
   ],
   "source": [
    "list(vectorizer.vocabulary_.keys())[:10]"
   ]
  },
  {
   "cell_type": "markdown",
   "metadata": {},
   "source": [
    "## Only text"
   ]
  },
  {
   "cell_type": "code",
   "execution_count": 128,
   "metadata": {},
   "outputs": [],
   "source": [
    "from sklearn.model_selection import KFold\n",
    "from sklearn.model_selection import cross_validate\n",
    "from lightgbm import LGBMClassifier\n",
    "kfolds = KFold(n_splits=5, shuffle=True, random_state=42)\n",
    "model = LGBMClassifier()"
   ]
  },
  {
   "cell_type": "code",
   "execution_count": 129,
   "metadata": {},
   "outputs": [
    {
     "name": "stdout",
     "output_type": "stream",
     "text": [
      "CPU times: user 1min 56s, sys: 1.72 s, total: 1min 58s\n",
      "Wall time: 15.3 s\n"
     ]
    }
   ],
   "source": [
    "%%time\n",
    "results = cross_validate(model, X_tfidf, y, scoring='neg_log_loss', cv=kfolds,\n",
    "                         return_train_score=True)"
   ]
  },
  {
   "cell_type": "code",
   "execution_count": 130,
   "metadata": {},
   "outputs": [
    {
     "data": {
      "text/html": [
       "<div>\n",
       "<style scoped>\n",
       "    .dataframe tbody tr th:only-of-type {\n",
       "        vertical-align: middle;\n",
       "    }\n",
       "\n",
       "    .dataframe tbody tr th {\n",
       "        vertical-align: top;\n",
       "    }\n",
       "\n",
       "    .dataframe thead th {\n",
       "        text-align: right;\n",
       "    }\n",
       "</style>\n",
       "<table border=\"1\" class=\"dataframe\">\n",
       "  <thead>\n",
       "    <tr style=\"text-align: right;\">\n",
       "      <th></th>\n",
       "      <th>fit_time</th>\n",
       "      <th>score_time</th>\n",
       "      <th>test_score</th>\n",
       "      <th>train_score</th>\n",
       "    </tr>\n",
       "  </thead>\n",
       "  <tbody>\n",
       "    <tr>\n",
       "      <th>0</th>\n",
       "      <td>2.718781</td>\n",
       "      <td>0.029073</td>\n",
       "      <td>-0.835978</td>\n",
       "      <td>-0.691337</td>\n",
       "    </tr>\n",
       "    <tr>\n",
       "      <th>1</th>\n",
       "      <td>3.072236</td>\n",
       "      <td>0.026225</td>\n",
       "      <td>-0.846042</td>\n",
       "      <td>-0.687465</td>\n",
       "    </tr>\n",
       "    <tr>\n",
       "      <th>2</th>\n",
       "      <td>2.922515</td>\n",
       "      <td>0.026842</td>\n",
       "      <td>-0.841537</td>\n",
       "      <td>-0.686480</td>\n",
       "    </tr>\n",
       "    <tr>\n",
       "      <th>3</th>\n",
       "      <td>2.776228</td>\n",
       "      <td>0.041837</td>\n",
       "      <td>-0.827133</td>\n",
       "      <td>-0.689893</td>\n",
       "    </tr>\n",
       "    <tr>\n",
       "      <th>4</th>\n",
       "      <td>3.141959</td>\n",
       "      <td>0.026131</td>\n",
       "      <td>-0.844811</td>\n",
       "      <td>-0.685813</td>\n",
       "    </tr>\n",
       "  </tbody>\n",
       "</table>\n",
       "</div>"
      ],
      "text/plain": [
       "   fit_time  score_time  test_score  train_score\n",
       "0  2.718781    0.029073   -0.835978    -0.691337\n",
       "1  3.072236    0.026225   -0.846042    -0.687465\n",
       "2  2.922515    0.026842   -0.841537    -0.686480\n",
       "3  2.776228    0.041837   -0.827133    -0.689893\n",
       "4  3.141959    0.026131   -0.844811    -0.685813"
      ]
     },
     "execution_count": 130,
     "metadata": {},
     "output_type": "execute_result"
    }
   ],
   "source": [
    "pd.DataFrame(results)"
   ]
  },
  {
   "cell_type": "markdown",
   "metadata": {},
   "source": [
    "## All data"
   ]
  },
  {
   "cell_type": "code",
   "execution_count": 133,
   "metadata": {},
   "outputs": [],
   "source": [
    "X['nwords_comment'] = train.nwords_comment"
   ]
  },
  {
   "cell_type": "code",
   "execution_count": 137,
   "metadata": {},
   "outputs": [
    {
     "data": {
      "text/plain": [
       "((20000, 9), (20000, 1555))"
      ]
     },
     "execution_count": 137,
     "metadata": {},
     "output_type": "execute_result"
    }
   ],
   "source": [
    "X.shape, X_tfidf.shape"
   ]
  },
  {
   "cell_type": "code",
   "execution_count": 135,
   "metadata": {},
   "outputs": [],
   "source": [
    "import numpy as np"
   ]
  },
  {
   "cell_type": "code",
   "execution_count": 139,
   "metadata": {},
   "outputs": [],
   "source": [
    "X_all = np.concatenate([X, X_tfidf.toarray()], axis=1)"
   ]
  },
  {
   "cell_type": "code",
   "execution_count": 140,
   "metadata": {},
   "outputs": [
    {
     "data": {
      "text/plain": [
       "(20000, 1564)"
      ]
     },
     "execution_count": 140,
     "metadata": {},
     "output_type": "execute_result"
    }
   ],
   "source": [
    "X_all.shape"
   ]
  },
  {
   "cell_type": "code",
   "execution_count": 141,
   "metadata": {},
   "outputs": [
    {
     "name": "stdout",
     "output_type": "stream",
     "text": [
      "CPU times: user 2min 13s, sys: 3.58 s, total: 2min 16s\n",
      "Wall time: 21.2 s\n"
     ]
    }
   ],
   "source": [
    "%%time\n",
    "results = cross_validate(model, X_all, y, scoring='neg_log_loss', cv=kfolds,\n",
    "                         return_train_score=True)"
   ]
  },
  {
   "cell_type": "code",
   "execution_count": 142,
   "metadata": {},
   "outputs": [
    {
     "data": {
      "text/html": [
       "<div>\n",
       "<style scoped>\n",
       "    .dataframe tbody tr th:only-of-type {\n",
       "        vertical-align: middle;\n",
       "    }\n",
       "\n",
       "    .dataframe tbody tr th {\n",
       "        vertical-align: top;\n",
       "    }\n",
       "\n",
       "    .dataframe thead th {\n",
       "        text-align: right;\n",
       "    }\n",
       "</style>\n",
       "<table border=\"1\" class=\"dataframe\">\n",
       "  <thead>\n",
       "    <tr style=\"text-align: right;\">\n",
       "      <th></th>\n",
       "      <th>fit_time</th>\n",
       "      <th>score_time</th>\n",
       "      <th>test_score</th>\n",
       "      <th>train_score</th>\n",
       "    </tr>\n",
       "  </thead>\n",
       "  <tbody>\n",
       "    <tr>\n",
       "      <th>0</th>\n",
       "      <td>3.543465</td>\n",
       "      <td>0.166368</td>\n",
       "      <td>-0.825188</td>\n",
       "      <td>-0.667496</td>\n",
       "    </tr>\n",
       "    <tr>\n",
       "      <th>1</th>\n",
       "      <td>3.519968</td>\n",
       "      <td>0.157277</td>\n",
       "      <td>-0.839881</td>\n",
       "      <td>-0.663324</td>\n",
       "    </tr>\n",
       "    <tr>\n",
       "      <th>2</th>\n",
       "      <td>3.436368</td>\n",
       "      <td>0.157068</td>\n",
       "      <td>-0.832872</td>\n",
       "      <td>-0.662793</td>\n",
       "    </tr>\n",
       "    <tr>\n",
       "      <th>3</th>\n",
       "      <td>3.126264</td>\n",
       "      <td>0.158365</td>\n",
       "      <td>-0.813828</td>\n",
       "      <td>-0.667165</td>\n",
       "    </tr>\n",
       "    <tr>\n",
       "      <th>4</th>\n",
       "      <td>3.301155</td>\n",
       "      <td>0.164188</td>\n",
       "      <td>-0.831430</td>\n",
       "      <td>-0.663257</td>\n",
       "    </tr>\n",
       "  </tbody>\n",
       "</table>\n",
       "</div>"
      ],
      "text/plain": [
       "   fit_time  score_time  test_score  train_score\n",
       "0  3.543465    0.166368   -0.825188    -0.667496\n",
       "1  3.519968    0.157277   -0.839881    -0.663324\n",
       "2  3.436368    0.157068   -0.832872    -0.662793\n",
       "3  3.126264    0.158365   -0.813828    -0.667165\n",
       "4  3.301155    0.164188   -0.831430    -0.663257"
      ]
     },
     "execution_count": 142,
     "metadata": {},
     "output_type": "execute_result"
    }
   ],
   "source": [
    "pd.DataFrame(results)"
   ]
  },
  {
   "cell_type": "markdown",
   "metadata": {},
   "source": [
    "# Train all data"
   ]
  },
  {
   "cell_type": "code",
   "execution_count": 146,
   "metadata": {},
   "outputs": [],
   "source": [
    "train = pd.read_excel('train_universidad.xlsx', sheet_name=1)"
   ]
  },
  {
   "cell_type": "code",
   "execution_count": 148,
   "metadata": {},
   "outputs": [],
   "source": [
    "train.columns = ['_'.join(c.strip().lower().split()) for c in train]"
   ]
  },
  {
   "cell_type": "code",
   "execution_count": 150,
   "metadata": {},
   "outputs": [],
   "source": [
    "import re, unicodedata\n",
    "from sklearn.preprocessing import LabelEncoder\n",
    "from sklearn.feature_extraction.text import TfidfVectorizer\n",
    "\n",
    "def clean(s):\n",
    "    s = s.lower()\n",
    "    s = unicodedata.normalize('NFKD', s).encode('ascii', 'ignore') \\\n",
    "                   .decode('utf-8', 'ignore')\n",
    "    s = re.sub('[^a-z]+', ' ', s)\n",
    "    return s.strip()"
   ]
  },
  {
   "cell_type": "code",
   "execution_count": 151,
   "metadata": {},
   "outputs": [],
   "source": [
    "cols = [c for c in train if c not in ['cod_encuestado', 'comentario', 'nps']]\n",
    "X, y = train[cols].copy(), train.nps"
   ]
  },
  {
   "cell_type": "code",
   "execution_count": 152,
   "metadata": {},
   "outputs": [],
   "source": [
    "binary_cols = ['ind_gea', 'ind_delegado', 'uod_depostista_ind_deportista']\n",
    "for c in binary_cols:\n",
    "    X[c] = X[c].notnull()\n",
    "X.fillna(0, inplace=True)"
   ]
  },
  {
   "cell_type": "code",
   "execution_count": 153,
   "metadata": {},
   "outputs": [],
   "source": [
    "lencoders = {}\n",
    "cat_cols = ['nombre_campus', 'nivel_actual', 'clave_de_carrera']\n",
    "for c in cat_cols:\n",
    "    lencoders[c] = LabelEncoder()\n",
    "    X[c] = lencoders[c].fit_transform(X[c])"
   ]
  },
  {
   "cell_type": "code",
   "execution_count": 154,
   "metadata": {},
   "outputs": [],
   "source": [
    "X['nwords_comment'] = train.comentario.apply(lambda x: len(x.split()))"
   ]
  },
  {
   "cell_type": "code",
   "execution_count": 155,
   "metadata": {},
   "outputs": [],
   "source": [
    "clean_comments = train.comentario.apply(clean)\n",
    "vectorizer = TfidfVectorizer(max_df=0.7, min_df=10, stop_words=stopwords)\n",
    "X_tfidf = vectorizer.fit_transform(clean_comments)"
   ]
  },
  {
   "cell_type": "code",
   "execution_count": 156,
   "metadata": {},
   "outputs": [
    {
     "data": {
      "text/plain": [
       "(20000, 1564)"
      ]
     },
     "execution_count": 156,
     "metadata": {},
     "output_type": "execute_result"
    }
   ],
   "source": [
    "X_all = np.concatenate([X, X_tfidf.toarray()], axis=1)\n",
    "X_all.shape"
   ]
  },
  {
   "cell_type": "code",
   "execution_count": 157,
   "metadata": {},
   "outputs": [],
   "source": [
    "from lightgbm import LGBMClassifier\n",
    "model = LGBMClassifier()"
   ]
  },
  {
   "cell_type": "code",
   "execution_count": 158,
   "metadata": {},
   "outputs": [
    {
     "data": {
      "text/plain": [
       "LGBMClassifier(boosting_type='gbdt', class_weight=None, colsample_bytree=1.0,\n",
       "        importance_type='split', learning_rate=0.1, max_depth=-1,\n",
       "        min_child_samples=20, min_child_weight=0.001, min_split_gain=0.0,\n",
       "        n_estimators=100, n_jobs=-1, num_leaves=31, objective=None,\n",
       "        random_state=None, reg_alpha=0.0, reg_lambda=0.0, silent=True,\n",
       "        subsample=1.0, subsample_for_bin=200000, subsample_freq=0)"
      ]
     },
     "execution_count": 158,
     "metadata": {},
     "output_type": "execute_result"
    }
   ],
   "source": [
    "model.fit(X_all, y)"
   ]
  },
  {
   "cell_type": "markdown",
   "metadata": {},
   "source": [
    "## Feature importance"
   ]
  },
  {
   "cell_type": "code",
   "execution_count": 160,
   "metadata": {},
   "outputs": [],
   "source": [
    "imp = pd.DataFrame()\n",
    "imp['feature'] = X.columns.tolist() + \\\n",
    "                [f'tfidf_{c}' for c in vectorizer.get_feature_names()]\n",
    "imp['importance'] = model.feature_importances_"
   ]
  },
  {
   "cell_type": "code",
   "execution_count": 161,
   "metadata": {},
   "outputs": [
    {
     "data": {
      "text/html": [
       "<div>\n",
       "<style scoped>\n",
       "    .dataframe tbody tr th:only-of-type {\n",
       "        vertical-align: middle;\n",
       "    }\n",
       "\n",
       "    .dataframe tbody tr th {\n",
       "        vertical-align: top;\n",
       "    }\n",
       "\n",
       "    .dataframe thead th {\n",
       "        text-align: right;\n",
       "    }\n",
       "</style>\n",
       "<table border=\"1\" class=\"dataframe\">\n",
       "  <thead>\n",
       "    <tr style=\"text-align: right;\">\n",
       "      <th></th>\n",
       "      <th>feature</th>\n",
       "      <th>importance</th>\n",
       "    </tr>\n",
       "  </thead>\n",
       "  <tbody>\n",
       "    <tr>\n",
       "      <th>8</th>\n",
       "      <td>nwords_comment</td>\n",
       "      <td>371</td>\n",
       "    </tr>\n",
       "    <tr>\n",
       "      <th>2</th>\n",
       "      <td>clave_de_carrera</td>\n",
       "      <td>229</td>\n",
       "    </tr>\n",
       "    <tr>\n",
       "      <th>3</th>\n",
       "      <td>ciclo</td>\n",
       "      <td>175</td>\n",
       "    </tr>\n",
       "    <tr>\n",
       "      <th>570</th>\n",
       "      <td>tfidf_ensenanza</td>\n",
       "      <td>174</td>\n",
       "    </tr>\n",
       "    <tr>\n",
       "      <th>943</th>\n",
       "      <td>tfidf_mejorar</td>\n",
       "      <td>150</td>\n",
       "    </tr>\n",
       "    <tr>\n",
       "      <th>915</th>\n",
       "      <td>tfidf_mas</td>\n",
       "      <td>146</td>\n",
       "    </tr>\n",
       "    <tr>\n",
       "      <th>1198</th>\n",
       "      <td>tfidf_profesores</td>\n",
       "      <td>145</td>\n",
       "    </tr>\n",
       "    <tr>\n",
       "      <th>200</th>\n",
       "      <td>tfidf_buena</td>\n",
       "      <td>134</td>\n",
       "    </tr>\n",
       "    <tr>\n",
       "      <th>642</th>\n",
       "      <td>tfidf_exigencia</td>\n",
       "      <td>123</td>\n",
       "    </tr>\n",
       "    <tr>\n",
       "      <th>1516</th>\n",
       "      <td>tfidf_valoro</td>\n",
       "      <td>121</td>\n",
       "    </tr>\n",
       "  </tbody>\n",
       "</table>\n",
       "</div>"
      ],
      "text/plain": [
       "               feature  importance\n",
       "8       nwords_comment         371\n",
       "2     clave_de_carrera         229\n",
       "3                ciclo         175\n",
       "570    tfidf_ensenanza         174\n",
       "943      tfidf_mejorar         150\n",
       "915          tfidf_mas         146\n",
       "1198  tfidf_profesores         145\n",
       "200        tfidf_buena         134\n",
       "642    tfidf_exigencia         123\n",
       "1516      tfidf_valoro         121"
      ]
     },
     "execution_count": 161,
     "metadata": {},
     "output_type": "execute_result"
    }
   ],
   "source": [
    "imp.sort_values('importance', ascending=False)[:10]"
   ]
  },
  {
   "cell_type": "markdown",
   "metadata": {},
   "source": [
    "## Predict test"
   ]
  },
  {
   "cell_type": "code",
   "execution_count": 162,
   "metadata": {},
   "outputs": [],
   "source": [
    "test = pd.read_excel('test_universidad.xlsx', sheet_name=0)"
   ]
  },
  {
   "cell_type": "code",
   "execution_count": 163,
   "metadata": {},
   "outputs": [],
   "source": [
    "test.columns = ['_'.join(c.strip().lower().split()) for c in test]"
   ]
  },
  {
   "cell_type": "code",
   "execution_count": 166,
   "metadata": {},
   "outputs": [],
   "source": [
    "test_data = list(test.head(3).to_dict(orient='index').values())"
   ]
  },
  {
   "cell_type": "code",
   "execution_count": 183,
   "metadata": {},
   "outputs": [
    {
     "data": {
      "text/plain": [
       "{'data': [{'cant_cursos_matricu_sin_ingles': 5.0,\n",
       "   'ciclo': 6,\n",
       "   'clave_de_carrera': 7,\n",
       "   'cod_encuestado': 15118,\n",
       "   'comentario': ' La universidad debería de ser mas exigente con respecto a los que ingresan a la universidad. Mucha diferencia intelectual',\n",
       "   'ind_delegado': nan,\n",
       "   'ind_gea': nan,\n",
       "   'nivel_actual': 'AC',\n",
       "   'nombre_campus': 3,\n",
       "   'uod_depostista_ind_deportista': 'Deportista'},\n",
       "  {'cant_cursos_matricu_sin_ingles': 5.0,\n",
       "   'ciclo': 1,\n",
       "   'clave_de_carrera': 39,\n",
       "   'cod_encuestado': 6715,\n",
       "   'comentario': ' No me han fallafo en nada',\n",
       "   'ind_delegado': nan,\n",
       "   'ind_gea': nan,\n",
       "   'nivel_actual': 'AC',\n",
       "   'nombre_campus': 3,\n",
       "   'uod_depostista_ind_deportista': nan},\n",
       "  {'cant_cursos_matricu_sin_ingles': 5.0,\n",
       "   'ciclo': 4,\n",
       "   'clave_de_carrera': 101,\n",
       "   'cod_encuestado': 27492,\n",
       "   'comentario': ' Prestigio, calidad de enseñanza de los profesores y variedad de horarios.',\n",
       "   'ind_delegado': nan,\n",
       "   'ind_gea': nan,\n",
       "   'nivel_actual': 'FC',\n",
       "   'nombre_campus': 3,\n",
       "   'uod_depostista_ind_deportista': nan}]}"
      ]
     },
     "execution_count": 183,
     "metadata": {},
     "output_type": "execute_result"
    }
   ],
   "source": [
    "{\n",
    "    'data': test_data\n",
    "}"
   ]
  },
  {
   "cell_type": "code",
   "execution_count": 167,
   "metadata": {},
   "outputs": [
    {
     "data": {
      "text/plain": [
       "[{'cant_cursos_matricu_sin_ingles': 5.0,\n",
       "  'ciclo': 6,\n",
       "  'clave_de_carrera': 7,\n",
       "  'cod_encuestado': 15118,\n",
       "  'comentario': ' La universidad debería de ser mas exigente con respecto a los que ingresan a la universidad. Mucha diferencia intelectual',\n",
       "  'ind_delegado': nan,\n",
       "  'ind_gea': nan,\n",
       "  'nivel_actual': 'AC',\n",
       "  'nombre_campus': 3,\n",
       "  'uod_depostista_ind_deportista': 'Deportista'},\n",
       " {'cant_cursos_matricu_sin_ingles': 5.0,\n",
       "  'ciclo': 1,\n",
       "  'clave_de_carrera': 39,\n",
       "  'cod_encuestado': 6715,\n",
       "  'comentario': ' No me han fallafo en nada',\n",
       "  'ind_delegado': nan,\n",
       "  'ind_gea': nan,\n",
       "  'nivel_actual': 'AC',\n",
       "  'nombre_campus': 3,\n",
       "  'uod_depostista_ind_deportista': nan},\n",
       " {'cant_cursos_matricu_sin_ingles': 5.0,\n",
       "  'ciclo': 4,\n",
       "  'clave_de_carrera': 101,\n",
       "  'cod_encuestado': 27492,\n",
       "  'comentario': ' Prestigio, calidad de enseñanza de los profesores y variedad de horarios.',\n",
       "  'ind_delegado': nan,\n",
       "  'ind_gea': nan,\n",
       "  'nivel_actual': 'FC',\n",
       "  'nombre_campus': 3,\n",
       "  'uod_depostista_ind_deportista': nan}]"
      ]
     },
     "execution_count": 167,
     "metadata": {},
     "output_type": "execute_result"
    }
   ],
   "source": [
    "test_data"
   ]
  },
  {
   "cell_type": "code",
   "execution_count": 168,
   "metadata": {},
   "outputs": [],
   "source": [
    "def preprocess(data, filter_cols, binary_cols, cat_cols, lencoders, vectorizer):\n",
    "    df = pd.DataFrame(data)\n",
    "    X = df[filter_cols].copy()\n",
    "    for c in binary_cols:\n",
    "        X[c] = X[c].notnull()\n",
    "    X.fillna(0, inplace=True)\n",
    "    for c in cat_cols:\n",
    "        X[c] = lencoders[c].transform(X[c])\n",
    "    X['nwords_comment'] = df.comentario.apply(lambda x: len(x.split()))\n",
    "    clean_comments = df.comentario.apply(clean)\n",
    "    X_tfidf = vectorizer.transform(clean_comments)\n",
    "    X_all = np.concatenate([X, X_tfidf.toarray()], axis=1)\n",
    "    return X_all"
   ]
  },
  {
   "cell_type": "code",
   "execution_count": 169,
   "metadata": {},
   "outputs": [],
   "source": [
    "X_test = preprocess(test_data, cols, binary_cols, cat_cols, lencoders,\n",
    "                    vectorizer)"
   ]
  },
  {
   "cell_type": "code",
   "execution_count": 172,
   "metadata": {},
   "outputs": [
    {
     "data": {
      "text/plain": [
       "(3, 1564)"
      ]
     },
     "execution_count": 172,
     "metadata": {},
     "output_type": "execute_result"
    }
   ],
   "source": [
    "X_test.shape"
   ]
  },
  {
   "cell_type": "code",
   "execution_count": 174,
   "metadata": {},
   "outputs": [],
   "source": [
    "def predict(model, data, filter_cols, binary_cols, cat_cols, \n",
    "            lencoders, vectorizer):\n",
    "    X = preprocess(data, filter_cols, binary_cols, cat_cols, lencoders,\n",
    "                    vectorizer)\n",
    "    return list(model.predict(X))"
   ]
  },
  {
   "cell_type": "code",
   "execution_count": 173,
   "metadata": {},
   "outputs": [
    {
     "data": {
      "text/plain": [
       "array([3, 3, 4])"
      ]
     },
     "execution_count": 173,
     "metadata": {},
     "output_type": "execute_result"
    }
   ],
   "source": [
    "model.predict(X_test)"
   ]
  },
  {
   "cell_type": "markdown",
   "metadata": {},
   "source": [
    "# Export"
   ]
  },
  {
   "cell_type": "code",
   "execution_count": 177,
   "metadata": {},
   "outputs": [
    {
     "data": {
      "text/plain": [
       "['model.joblib']"
      ]
     },
     "execution_count": 177,
     "metadata": {},
     "output_type": "execute_result"
    }
   ],
   "source": [
    "from joblib import dump, load\n",
    "dump(model, 'model.joblib') "
   ]
  },
  {
   "cell_type": "code",
   "execution_count": 178,
   "metadata": {},
   "outputs": [],
   "source": [
    "params = {\n",
    "    'filter_cols': cols,\n",
    "    'binary_cols': binary_cols,\n",
    "    'cat_cols': cat_cols,\n",
    "    'lencoders': lencoders,\n",
    "    'vectorizer': vectorizer\n",
    "}"
   ]
  },
  {
   "cell_type": "code",
   "execution_count": 179,
   "metadata": {},
   "outputs": [],
   "source": [
    "import pickle\n",
    "with open('params.pkl', 'wb') as f:\n",
    "    pickle.dump(params, f, protocol=pickle.HIGHEST_PROTOCOL)"
   ]
  },
  {
   "cell_type": "markdown",
   "metadata": {},
   "source": [
    "# Load"
   ]
  },
  {
   "cell_type": "code",
   "execution_count": 180,
   "metadata": {},
   "outputs": [],
   "source": [
    "loaded_model = load('model.joblib')\n",
    "with open('params.pkl', 'rb') as f:\n",
    "    loaded_params = pickle.load(f)"
   ]
  },
  {
   "cell_type": "code",
   "execution_count": 182,
   "metadata": {},
   "outputs": [
    {
     "data": {
      "text/plain": [
       "[3, 3, 4]"
      ]
     },
     "execution_count": 182,
     "metadata": {},
     "output_type": "execute_result"
    }
   ],
   "source": [
    "predict(loaded_model, test_data, **loaded_params)"
   ]
  },
  {
   "cell_type": "markdown",
   "metadata": {},
   "source": [
    "# Testing API"
   ]
  },
  {
   "cell_type": "code",
   "execution_count": 191,
   "metadata": {},
   "outputs": [],
   "source": [
    "import requests, json"
   ]
  },
  {
   "cell_type": "code",
   "execution_count": 186,
   "metadata": {},
   "outputs": [],
   "source": [
    "r = requests.get('http://127.0.0.1:5000')"
   ]
  },
  {
   "cell_type": "code",
   "execution_count": 190,
   "metadata": {},
   "outputs": [],
   "source": [
    "payload = {'data': test_data}"
   ]
  },
  {
   "cell_type": "code",
   "execution_count": 193,
   "metadata": {},
   "outputs": [],
   "source": [
    "r = requests.post('http://127.0.0.1:5000/predict',\n",
    "                  data=json.dumps(payload))"
   ]
  },
  {
   "cell_type": "code",
   "execution_count": 194,
   "metadata": {},
   "outputs": [
    {
     "data": {
      "text/plain": [
       "(200, 'OK')"
      ]
     },
     "execution_count": 194,
     "metadata": {},
     "output_type": "execute_result"
    }
   ],
   "source": [
    "r.status_code, r.reason"
   ]
  },
  {
   "cell_type": "code",
   "execution_count": 196,
   "metadata": {},
   "outputs": [],
   "source": [
    "preds = json.loads(r.content)['predictions']"
   ]
  },
  {
   "cell_type": "code",
   "execution_count": 197,
   "metadata": {},
   "outputs": [
    {
     "data": {
      "text/plain": [
       "[3, 3, 4]"
      ]
     },
     "execution_count": 197,
     "metadata": {},
     "output_type": "execute_result"
    }
   ],
   "source": [
    "preds"
   ]
  },
  {
   "cell_type": "code",
   "execution_count": 198,
   "metadata": {},
   "outputs": [
    {
     "data": {
      "text/plain": [
       "3"
      ]
     },
     "execution_count": 198,
     "metadata": {},
     "output_type": "execute_result"
    }
   ],
   "source": [
    "len(preds)"
   ]
  }
 ],
 "metadata": {
  "kernelspec": {
   "display_name": "Python 3",
   "language": "python",
   "name": "python3"
  },
  "language_info": {
   "codemirror_mode": {
    "name": "ipython",
    "version": 3
   },
   "file_extension": ".py",
   "mimetype": "text/x-python",
   "name": "python",
   "nbconvert_exporter": "python",
   "pygments_lexer": "ipython3",
   "version": "3.6.3"
  }
 },
 "nbformat": 4,
 "nbformat_minor": 2
}
