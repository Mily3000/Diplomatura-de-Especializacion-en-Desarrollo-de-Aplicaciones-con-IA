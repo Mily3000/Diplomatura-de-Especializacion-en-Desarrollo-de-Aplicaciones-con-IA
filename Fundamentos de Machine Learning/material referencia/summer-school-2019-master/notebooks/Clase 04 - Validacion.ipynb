{
 "cells": [
  {
   "cell_type": "code",
   "execution_count": 59,
   "metadata": {},
   "outputs": [],
   "source": [
    "import pandas as pd\n",
    "train = pd.read_csv('train.csv')\n",
    "test = pd.read_csv('test.csv')"
   ]
  },
  {
   "cell_type": "code",
   "execution_count": 60,
   "metadata": {},
   "outputs": [],
   "source": [
    "drop_cols = ['PassengerId', 'Name', 'Ticket', 'Cabin', 'Survived']\n",
    "keep_cols = [c for c in train.columns if c not in drop_cols]"
   ]
  },
  {
   "cell_type": "code",
   "execution_count": 61,
   "metadata": {},
   "outputs": [],
   "source": [
    "cat_cols = ['Sex', 'Embarked']\n",
    "cont_cols = ['Age']"
   ]
  },
  {
   "cell_type": "code",
   "execution_count": 62,
   "metadata": {},
   "outputs": [],
   "source": [
    "from sklearn.preprocessing import LabelEncoder"
   ]
  },
  {
   "cell_type": "code",
   "execution_count": 82,
   "metadata": {},
   "outputs": [],
   "source": [
    "def process_data_train(X, keep_cols, cat_cols, cont_cols):\n",
    "    X = X[keep_cols].copy()\n",
    "    for c in cat_cols:\n",
    "        X[c] = X[c].astype(str)\n",
    "        \n",
    "    lencoders = {}\n",
    "    for c in cat_cols:\n",
    "        lencoders[c] = LabelEncoder()\n",
    "        X[c] = lencoders[c].fit_transform(X[c])\n",
    "    \n",
    "    means = {}\n",
    "    for c in cont_cols:\n",
    "        means[c] = X[c].mean()\n",
    "        X[f'{c}Missing'] = X[c].isnull()\n",
    "        X[c] = X[c].fillna(means[c])\n",
    "    return X, lencoders, means"
   ]
  },
  {
   "cell_type": "code",
   "execution_count": 83,
   "metadata": {},
   "outputs": [],
   "source": [
    "def process_data_test(X, keep_cols, cat_cols, lencoders,\n",
    "                        means):\n",
    "    X = X[keep_cols].copy()\n",
    "    for c in cat_cols:\n",
    "        X[c] = X[c].fillna('S').astype(str)\n",
    "    for c in cat_cols:\n",
    "        X[c] = lencoders[c].transform(X[c])\n",
    "    for c in cont_cols:\n",
    "        X[f'{c}Missing'] = X[c].isnull()\n",
    "        X[c] = X[c].fillna(means[c])\n",
    "    return X"
   ]
  },
  {
   "cell_type": "code",
   "execution_count": 84,
   "metadata": {},
   "outputs": [],
   "source": [
    "X, lencoders, means = process_data_train(train, \n",
    "                        keep_cols, cat_cols, cont_cols)"
   ]
  },
  {
   "cell_type": "code",
   "execution_count": 85,
   "metadata": {},
   "outputs": [],
   "source": [
    "X_test = process_data_test(test, keep_cols, cat_cols,\n",
    "                      lencoders, means)"
   ]
  },
  {
   "cell_type": "markdown",
   "metadata": {},
   "source": [
    "## Train - validation split"
   ]
  },
  {
   "cell_type": "code",
   "execution_count": 86,
   "metadata": {},
   "outputs": [],
   "source": [
    "from sklearn.model_selection import train_test_split"
   ]
  },
  {
   "cell_type": "code",
   "execution_count": 87,
   "metadata": {},
   "outputs": [],
   "source": [
    "trn, val = train_test_split(train, test_size=0.2, \n",
    "                            random_state=100)"
   ]
  },
  {
   "cell_type": "code",
   "execution_count": 88,
   "metadata": {},
   "outputs": [],
   "source": [
    "X_trn, lencoders, means = process_data_train(trn, \n",
    "                        keep_cols, cat_cols, cont_cols)\n",
    "X_val = process_data_test(val, keep_cols, cat_cols,\n",
    "                      lencoders, means)"
   ]
  },
  {
   "cell_type": "code",
   "execution_count": 89,
   "metadata": {},
   "outputs": [
    {
     "data": {
      "text/plain": [
       "(712, 179, 891)"
      ]
     },
     "execution_count": 89,
     "metadata": {},
     "output_type": "execute_result"
    }
   ],
   "source": [
    "len(trn), len(val), len(train)"
   ]
  },
  {
   "cell_type": "code",
   "execution_count": 90,
   "metadata": {},
   "outputs": [],
   "source": [
    "from sklearn.tree import DecisionTreeClassifier\n",
    "tree = DecisionTreeClassifier()"
   ]
  },
  {
   "cell_type": "code",
   "execution_count": 91,
   "metadata": {},
   "outputs": [
    {
     "data": {
      "text/plain": [
       "DecisionTreeClassifier(class_weight=None, criterion='gini', max_depth=None,\n",
       "            max_features=None, max_leaf_nodes=None,\n",
       "            min_impurity_decrease=0.0, min_impurity_split=None,\n",
       "            min_samples_leaf=1, min_samples_split=2,\n",
       "            min_weight_fraction_leaf=0.0, presort=False, random_state=None,\n",
       "            splitter='best')"
      ]
     },
     "execution_count": 91,
     "metadata": {},
     "output_type": "execute_result"
    }
   ],
   "source": [
    "tree.fit(X_trn, trn.Survived)"
   ]
  },
  {
   "cell_type": "code",
   "execution_count": 92,
   "metadata": {},
   "outputs": [],
   "source": [
    "from sklearn.metrics import accuracy_score"
   ]
  },
  {
   "cell_type": "code",
   "execution_count": 93,
   "metadata": {},
   "outputs": [
    {
     "name": "stdout",
     "output_type": "stream",
     "text": [
      "Train: 98.74% | Val: 77.65%\n"
     ]
    }
   ],
   "source": [
    "y_trn = tree.predict(X_trn)\n",
    "y_val = tree.predict(X_val)\n",
    "trn_acc = accuracy_score(trn.Survived, y_trn)\n",
    "val_acc = accuracy_score(val.Survived, y_val)\n",
    "print(f'Train: {trn_acc:.2%} | Val: {val_acc:.2%}')"
   ]
  },
  {
   "cell_type": "code",
   "execution_count": 94,
   "metadata": {},
   "outputs": [
    {
     "name": "stdout",
     "output_type": "stream",
     "text": [
      "Train: 98.74% | Val: 77.65%\n"
     ]
    }
   ],
   "source": [
    "y_trn = tree.predict(X_trn)\n",
    "y_val = tree.predict(X_val)\n",
    "trn_acc = accuracy_score(trn.Survived, y_trn)\n",
    "val_acc = accuracy_score(val.Survived, y_val)\n",
    "print(f'Train: {trn_acc:.2%} | Val: {val_acc:.2%}')"
   ]
  },
  {
   "cell_type": "code",
   "execution_count": 95,
   "metadata": {},
   "outputs": [],
   "source": [
    "from sklearn.model_selection import KFold"
   ]
  },
  {
   "cell_type": "code",
   "execution_count": 96,
   "metadata": {},
   "outputs": [],
   "source": [
    "kfolds = KFold(n_splits=5, shuffle=True, random_state=42)"
   ]
  },
  {
   "cell_type": "code",
   "execution_count": 98,
   "metadata": {},
   "outputs": [],
   "source": [
    "import numpy as np"
   ]
  },
  {
   "cell_type": "code",
   "execution_count": 139,
   "metadata": {},
   "outputs": [],
   "source": [
    "def cross_val(train, model, s):\n",
    "    mean_val_acc = []\n",
    "    for trn_idx, val_idx in kfolds.split(train):\n",
    "        trn, val = train.iloc[trn_idx], train.iloc[val_idx]\n",
    "        X_trn, lencoders, means = process_data_train(trn, \n",
    "                                keep_cols, cat_cols, cont_cols)\n",
    "        X_val = process_data_test(val, keep_cols, cat_cols,\n",
    "                              lencoders, means)\n",
    "        \n",
    "        model.fit(X_trn, trn.Survived)\n",
    "        y_trn = model.predict(X_trn)\n",
    "        y_val = model.predict(X_val)\n",
    "        trn_acc = accuracy_score(trn.Survived, y_trn)\n",
    "        val_acc = accuracy_score(val.Survived, y_val)\n",
    "        mean_val_acc.append(val_acc)\n",
    "#         print(f'Train: {trn_acc:.2%} | Val: {val_acc:.2%}')\n",
    "    print(f'Mean val: {np.mean(mean_val_acc):.2%} | ', s)"
   ]
  },
  {
   "cell_type": "code",
   "execution_count": 104,
   "metadata": {},
   "outputs": [
    {
     "name": "stdout",
     "output_type": "stream",
     "text": [
      "Train: 98.03% | Val: 78.21%\n",
      "Train: 98.32% | Val: 74.72%\n",
      "Train: 98.60% | Val: 82.58%\n",
      "Train: 98.88% | Val: 75.84%\n",
      "Train: 98.60% | Val: 80.34%\n",
      "Mean val: 78.34%\n"
     ]
    }
   ],
   "source": [
    "tree = DecisionTreeClassifier()\n",
    "cross_val(train, tree)"
   ]
  },
  {
   "cell_type": "code",
   "execution_count": 105,
   "metadata": {},
   "outputs": [
    {
     "name": "stdout",
     "output_type": "stream",
     "text": [
      "Train: 85.11% | Val: 79.89%\n",
      "Train: 84.29% | Val: 79.78%\n",
      "Train: 83.73% | Val: 87.08%\n",
      "Train: 85.83% | Val: 79.78%\n",
      "Train: 84.85% | Val: 80.34%\n",
      "Mean val: 81.37%\n"
     ]
    }
   ],
   "source": [
    "tree = DecisionTreeClassifier(max_depth=5)\n",
    "cross_val(train, tree)"
   ]
  },
  {
   "cell_type": "code",
   "execution_count": 117,
   "metadata": {},
   "outputs": [
    {
     "name": "stdout",
     "output_type": "stream",
     "text": [
      "Mean val: 81.48% |  min_samples_split = 5 | max_depth = 5\n",
      "Mean val: 80.81% |  min_samples_split = 5 | max_depth = 10\n",
      "Mean val: 79.46% |  min_samples_split = 5 | max_depth = 15\n",
      "Mean val: 79.01% |  min_samples_split = 5 | max_depth = 20\n",
      "Mean val: 79.91% |  min_samples_split = 5 | max_depth = 30\n",
      "Mean val: 81.48% |  min_samples_split = 10 | max_depth = 5\n",
      "Mean val: 81.37% |  min_samples_split = 10 | max_depth = 10\n",
      "Mean val: 81.14% |  min_samples_split = 10 | max_depth = 15\n",
      "Mean val: 81.03% |  min_samples_split = 10 | max_depth = 20\n",
      "Mean val: 80.92% |  min_samples_split = 10 | max_depth = 30\n",
      "Mean val: 81.15% |  min_samples_split = 20 | max_depth = 5\n",
      "Mean val: 82.94% |  min_samples_split = 20 | max_depth = 10\n",
      "Mean val: 82.94% |  min_samples_split = 20 | max_depth = 15\n",
      "Mean val: 82.94% |  min_samples_split = 20 | max_depth = 20\n",
      "Mean val: 82.94% |  min_samples_split = 20 | max_depth = 30\n",
      "Mean val: 80.02% |  min_samples_split = 30 | max_depth = 5\n",
      "Mean val: 81.03% |  min_samples_split = 30 | max_depth = 10\n",
      "Mean val: 80.81% |  min_samples_split = 30 | max_depth = 15\n",
      "Mean val: 80.81% |  min_samples_split = 30 | max_depth = 20\n",
      "Mean val: 80.92% |  min_samples_split = 30 | max_depth = 30\n"
     ]
    }
   ],
   "source": [
    "for min_samples_split in [5, 10, 20, 30]:\n",
    "    for max_depth in [5, 10, 15, 20, 30]:\n",
    "        tree = DecisionTreeClassifier(max_depth=max_depth,\n",
    "                                      min_samples_split=min_samples_split)\n",
    "        s = f'min_samples_split = {min_samples_split} | max_depth = {max_depth}'\n",
    "        cross_val(train, tree, s)"
   ]
  },
  {
   "cell_type": "code",
   "execution_count": 119,
   "metadata": {},
   "outputs": [
    {
     "name": "stdout",
     "output_type": "stream",
     "text": [
      "Mean val: 81.25% |  min_samples_split = 10 | max_depth = 16\n",
      "Mean val: 80.59% |  min_samples_split = 8 | max_depth = 15\n",
      "Mean val: 81.48% |  min_samples_split = 9 | max_depth = 5\n",
      "Mean val: 83.73% |  min_samples_split = 14 | max_depth = 9\n",
      "Mean val: 82.49% |  min_samples_split = 18 | max_depth = 24\n",
      "Mean val: 79.57% |  min_samples_split = 5 | max_depth = 28\n",
      "Mean val: 82.60% |  min_samples_split = 12 | max_depth = 17\n",
      "Mean val: 82.15% |  min_samples_split = 25 | max_depth = 29\n",
      "Mean val: 82.38% |  min_samples_split = 18 | max_depth = 17\n",
      "Mean val: 82.94% |  min_samples_split = 13 | max_depth = 10\n",
      "Mean val: 82.60% |  min_samples_split = 23 | max_depth = 20\n",
      "Mean val: 83.05% |  min_samples_split = 21 | max_depth = 25\n",
      "Mean val: 83.05% |  min_samples_split = 20 | max_depth = 21\n",
      "Mean val: 79.57% |  min_samples_split = 5 | max_depth = 25\n",
      "Mean val: 80.81% |  min_samples_split = 30 | max_depth = 24\n",
      "Mean val: 83.05% |  min_samples_split = 15 | max_depth = 17\n",
      "Mean val: 80.81% |  min_samples_split = 30 | max_depth = 27\n",
      "Mean val: 83.05% |  min_samples_split = 20 | max_depth = 21\n",
      "Mean val: 79.69% |  min_samples_split = 5 | max_depth = 27\n",
      "Mean val: 80.81% |  min_samples_split = 30 | max_depth = 29\n"
     ]
    }
   ],
   "source": [
    "for i in range(20):\n",
    "    max_depth = np.random.randint(5, 31)\n",
    "    min_samples_split = np.random.randint(5, 31)\n",
    "    tree = DecisionTreeClassifier(max_depth=max_depth,\n",
    "                                  min_samples_split=min_samples_split)\n",
    "    s = f'min_samples_split = {min_samples_split} | max_depth = {max_depth}'\n",
    "    cross_val(train, tree, s)"
   ]
  },
  {
   "cell_type": "markdown",
   "metadata": {},
   "source": [
    "# Random Forest"
   ]
  },
  {
   "cell_type": "code",
   "execution_count": 123,
   "metadata": {},
   "outputs": [
    {
     "data": {
      "text/plain": [
       "8"
      ]
     },
     "execution_count": 123,
     "metadata": {},
     "output_type": "execute_result"
    }
   ],
   "source": [
    "import multiprocessing as mp\n",
    "mp.cpu_count()"
   ]
  },
  {
   "cell_type": "code",
   "execution_count": 120,
   "metadata": {},
   "outputs": [],
   "source": [
    "from sklearn.ensemble import RandomForestClassifier"
   ]
  },
  {
   "cell_type": "code",
   "execution_count": 140,
   "metadata": {},
   "outputs": [
    {
     "name": "stdout",
     "output_type": "stream",
     "text": [
      "Mean val: 82.83% |  min_samples_split = 16 | max_depth = 12\n",
      "Mean val: 83.95% |  min_samples_split = 6 | max_depth = 7\n",
      "Mean val: 82.27% |  min_samples_split = 26 | max_depth = 30\n",
      "Mean val: 83.05% |  min_samples_split = 15 | max_depth = 16\n",
      "Mean val: 81.93% |  min_samples_split = 24 | max_depth = 28\n",
      "Mean val: 83.39% |  min_samples_split = 11 | max_depth = 17\n",
      "Mean val: 83.62% |  min_samples_split = 9 | max_depth = 11\n",
      "Mean val: 83.05% |  min_samples_split = 19 | max_depth = 26\n",
      "Mean val: 82.61% |  min_samples_split = 17 | max_depth = 24\n",
      "Mean val: 82.16% |  min_samples_split = 17 | max_depth = 27\n",
      "Mean val: 82.49% |  min_samples_split = 27 | max_depth = 13\n",
      "Mean val: 82.04% |  min_samples_split = 30 | max_depth = 18\n",
      "Mean val: 83.06% |  min_samples_split = 20 | max_depth = 19\n",
      "Mean val: 82.27% |  min_samples_split = 29 | max_depth = 14\n",
      "Mean val: 82.83% |  min_samples_split = 18 | max_depth = 16\n",
      "Mean val: 82.27% |  min_samples_split = 26 | max_depth = 22\n",
      "Mean val: 82.61% |  min_samples_split = 25 | max_depth = 14\n",
      "Mean val: 82.61% |  min_samples_split = 16 | max_depth = 12\n",
      "Mean val: 83.73% |  min_samples_split = 8 | max_depth = 8\n",
      "Mean val: 83.39% |  min_samples_split = 10 | max_depth = 29\n"
     ]
    }
   ],
   "source": [
    "for i in range(20):\n",
    "    max_depth = np.random.randint(5, 31)\n",
    "    min_samples_split = np.random.randint(5, 31)\n",
    "    rf = RandomForestClassifier(\n",
    "        n_estimators=100,\n",
    "        max_features=6,\n",
    "        max_depth=max_depth,\n",
    "        min_samples_split=min_samples_split,\n",
    "        n_jobs=-1\n",
    "    )\n",
    "    s = f'min_samples_split = {min_samples_split} | max_depth = {max_depth}'\n",
    "    cross_val(train, rf, s)"
   ]
  },
  {
   "cell_type": "markdown",
   "metadata": {},
   "source": [
    "# Gradient Boosting"
   ]
  },
  {
   "cell_type": "code",
   "execution_count": 129,
   "metadata": {},
   "outputs": [],
   "source": [
    "# sklearn gradient boosting\n",
    "# xgboost\n",
    "# lightgbm\n",
    "# catboost"
   ]
  },
  {
   "cell_type": "code",
   "execution_count": 133,
   "metadata": {},
   "outputs": [],
   "source": [
    "from lightgbm import LGBMClassifier"
   ]
  },
  {
   "cell_type": "code",
   "execution_count": 142,
   "metadata": {},
   "outputs": [],
   "source": [
    "import warnings\n",
    "warnings.filterwarnings(\"ignore\",category=DeprecationWarning)"
   ]
  },
  {
   "cell_type": "code",
   "execution_count": 144,
   "metadata": {},
   "outputs": [
    {
     "name": "stdout",
     "output_type": "stream",
     "text": [
      "Mean val: 82.60% |  \n",
      "Mean val: 82.27% |  \n",
      "Mean val: 82.94% |  \n",
      "Mean val: 82.72% |  \n",
      "Mean val: 82.27% |  \n",
      "Mean val: 83.05% |  \n",
      "Mean val: 83.50% |  \n",
      "Mean val: 82.27% |  \n",
      "Mean val: 82.72% |  \n",
      "Mean val: 82.27% |  \n",
      "Mean val: 82.27% |  \n",
      "Mean val: 82.27% |  \n",
      "Mean val: 82.27% |  \n",
      "Mean val: 82.27% |  \n",
      "Mean val: 82.27% |  \n",
      "Mean val: 83.17% |  \n",
      "Mean val: 82.94% |  \n",
      "Mean val: 82.60% |  \n",
      "Mean val: 82.27% |  \n",
      "Mean val: 82.27% |  \n"
     ]
    }
   ],
   "source": [
    "for i in range(20):\n",
    "    max_depth = np.random.randint(5, 31)\n",
    "    min_samples_split = np.random.randint(5, 31)\n",
    "    lgbm = LGBMClassifier(max_depth=max_depth)\n",
    "    s = f'min_samples_split = {min_samples_split} | max_depth = {max_depth}'\n",
    "    cross_val(train, lgbm, '')"
   ]
  },
  {
   "cell_type": "markdown",
   "metadata": {},
   "source": [
    "## Metrics"
   ]
  },
  {
   "cell_type": "code",
   "execution_count": 147,
   "metadata": {},
   "outputs": [],
   "source": [
    "trn, val = train_test_split(train, test_size=0.2, \n",
    "                            random_state=100)"
   ]
  },
  {
   "cell_type": "code",
   "execution_count": 148,
   "metadata": {},
   "outputs": [],
   "source": [
    "X_trn, lencoders, means = process_data_train(trn, \n",
    "                        keep_cols, cat_cols, cont_cols)\n",
    "X_val = process_data_test(val, keep_cols, cat_cols,\n",
    "                      lencoders, means)"
   ]
  },
  {
   "cell_type": "code",
   "execution_count": 149,
   "metadata": {},
   "outputs": [
    {
     "data": {
      "text/plain": [
       "LGBMClassifier(boosting_type='gbdt', class_weight=None, colsample_bytree=1.0,\n",
       "        importance_type='split', learning_rate=0.1, max_depth=29,\n",
       "        min_child_samples=20, min_child_weight=0.001, min_split_gain=0.0,\n",
       "        n_estimators=100, n_jobs=-1, num_leaves=31, objective=None,\n",
       "        random_state=None, reg_alpha=0.0, reg_lambda=0.0, silent=True,\n",
       "        subsample=1.0, subsample_for_bin=200000, subsample_freq=0)"
      ]
     },
     "execution_count": 149,
     "metadata": {},
     "output_type": "execute_result"
    }
   ],
   "source": [
    "lgbm.fit(X_trn, trn.Survived)"
   ]
  },
  {
   "cell_type": "code",
   "execution_count": 152,
   "metadata": {},
   "outputs": [],
   "source": [
    "y_pred = lgbm.predict(X_val)"
   ]
  },
  {
   "cell_type": "code",
   "execution_count": 154,
   "metadata": {},
   "outputs": [],
   "source": [
    "from sklearn.metrics import confusion_matrix, classification_report"
   ]
  },
  {
   "cell_type": "code",
   "execution_count": 160,
   "metadata": {},
   "outputs": [],
   "source": [
    "import seaborn as sns\n",
    "import matplotlib.pyplot as plt\n",
    "%matplotlib inline\n",
    "sns.set()"
   ]
  },
  {
   "cell_type": "code",
   "execution_count": 164,
   "metadata": {},
   "outputs": [
    {
     "data": {
      "image/png": "[encoded data removed]",
      "text/plain": [
       "<Figure size 432x288 with 2 Axes>"
      ]
     },
     "metadata": {},
     "output_type": "display_data"
    }
   ],
   "source": [
    "sns.heatmap(confusion_matrix(val.Survived, y_pred),\n",
    "            cmap='Blues', annot=True);"
   ]
  },
  {
   "cell_type": "code",
   "execution_count": 156,
   "metadata": {},
   "outputs": [
    {
     "data": {
      "text/plain": [
       "0    104\n",
       "1     75\n",
       "Name: Survived, dtype: int64"
      ]
     },
     "execution_count": 156,
     "metadata": {},
     "output_type": "execute_result"
    }
   ],
   "source": [
    "val.Survived.value_counts()"
   ]
  },
  {
   "cell_type": "code",
   "execution_count": 165,
   "metadata": {},
   "outputs": [
    {
     "name": "stdout",
     "output_type": "stream",
     "text": [
      "             precision    recall  f1-score   support\n",
      "\n",
      "          0       0.82      0.85      0.83       104\n",
      "          1       0.78      0.75      0.76        75\n",
      "\n",
      "avg / total       0.80      0.80      0.80       179\n",
      "\n"
     ]
    }
   ],
   "source": [
    "print(classification_report(val.Survived, y_pred))"
   ]
  },
  {
   "cell_type": "code",
   "execution_count": 168,
   "metadata": {},
   "outputs": [],
   "source": [
    "y_prob = lgbm.predict_proba(X_val)[:,1]"
   ]
  },
  {
   "cell_type": "code",
   "execution_count": 171,
   "metadata": {},
   "outputs": [],
   "source": [
    "y_pred = y_prob > 0.8"
   ]
  },
  {
   "cell_type": "code",
   "execution_count": 172,
   "metadata": {},
   "outputs": [
    {
     "data": {
      "image/png": "[encoded data removed]",
      "text/plain": [
       "<Figure size 432x288 with 2 Axes>"
      ]
     },
     "metadata": {},
     "output_type": "display_data"
    }
   ],
   "source": [
    "sns.heatmap(confusion_matrix(val.Survived, y_pred),\n",
    "            cmap='Blues', annot=True);"
   ]
  },
  {
   "cell_type": "code",
   "execution_count": 173,
   "metadata": {},
   "outputs": [
    {
     "name": "stdout",
     "output_type": "stream",
     "text": [
      "             precision    recall  f1-score   support\n",
      "\n",
      "          0       0.73      0.95      0.83       104\n",
      "          1       0.89      0.52      0.66        75\n",
      "\n",
      "avg / total       0.80      0.77      0.76       179\n",
      "\n"
     ]
    }
   ],
   "source": [
    "print(classification_report(val.Survived, y_pred))"
   ]
  },
  {
   "cell_type": "code",
   "execution_count": 176,
   "metadata": {},
   "outputs": [],
   "source": [
    "y_pred = y_prob > 0.1"
   ]
  },
  {
   "cell_type": "code",
   "execution_count": 177,
   "metadata": {},
   "outputs": [
    {
     "data": {
      "image/png": "[encoded data removed]",
      "text/plain": [
       "<Figure size 432x288 with 2 Axes>"
      ]
     },
     "metadata": {},
     "output_type": "display_data"
    }
   ],
   "source": [
    "sns.heatmap(confusion_matrix(val.Survived, y_pred),\n",
    "            cmap='Blues', annot=True);"
   ]
  },
  {
   "cell_type": "code",
   "execution_count": 178,
   "metadata": {},
   "outputs": [
    {
     "name": "stdout",
     "output_type": "stream",
     "text": [
      "             precision    recall  f1-score   support\n",
      "\n",
      "          0       0.86      0.52      0.65       104\n",
      "          1       0.57      0.88      0.69        75\n",
      "\n",
      "avg / total       0.74      0.67      0.67       179\n",
      "\n"
     ]
    }
   ],
   "source": [
    "print(classification_report(val.Survived, y_pred))"
   ]
  },
  {
   "cell_type": "code",
   "execution_count": 179,
   "metadata": {},
   "outputs": [
    {
     "data": {
      "text/plain": [
       "0.6703910614525139"
      ]
     },
     "execution_count": 179,
     "metadata": {},
     "output_type": "execute_result"
    }
   ],
   "source": [
    "accuracy_score(val.Survived, y_pred)"
   ]
  },
  {
   "cell_type": "code",
   "execution_count": 180,
   "metadata": {},
   "outputs": [
    {
     "data": {
      "text/plain": [
       "0    0.581006\n",
       "1    0.418994\n",
       "Name: Survived, dtype: float64"
      ]
     },
     "execution_count": 180,
     "metadata": {},
     "output_type": "execute_result"
    }
   ],
   "source": [
    "val.Survived.value_counts(normalize=True)"
   ]
  },
  {
   "cell_type": "code",
   "execution_count": 181,
   "metadata": {},
   "outputs": [
    {
     "data": {
      "text/plain": [
       "0    0.616162\n",
       "1    0.383838\n",
       "Name: Survived, dtype: float64"
      ]
     },
     "execution_count": 181,
     "metadata": {},
     "output_type": "execute_result"
    }
   ],
   "source": [
    "train.Survived.value_counts(normalize=True)"
   ]
  }
 ],
 "metadata": {
  "kernelspec": {
   "display_name": "Python 3",
   "language": "python",
   "name": "python3"
  },
  "language_info": {
   "codemirror_mode": {
    "name": "ipython",
    "version": 3
   },
   "file_extension": ".py",
   "mimetype": "text/x-python",
   "name": "python",
   "nbconvert_exporter": "python",
   "pygments_lexer": "ipython3",
   "version": "3.6.3"
  }
 },
 "nbformat": 4,
 "nbformat_minor": 2
}
