{
 "cells": [
  {
   "cell_type": "code",
   "execution_count": 1,
   "metadata": {},
   "outputs": [],
   "source": [
    "%matplotlib inline\n",
    "%config InlineBackend.figure_format = 'retina'\n",
    "\n",
    "import numpy as np\n",
    "import pandas as pd\n",
    "import matplotlib.pyplot as plt\n",
    "import seaborn as sns\n",
    "sns.set()"
   ]
  },
  {
   "cell_type": "code",
   "execution_count": 120,
   "metadata": {},
   "outputs": [],
   "source": [
    "train = pd.read_excel('../data/train_universidad.xlsx', sheet_name=1)"
   ]
  },
  {
   "cell_type": "code",
   "execution_count": 114,
   "metadata": {},
   "outputs": [
    {
     "data": {
      "text/html": [
       "<div>\n",
       "<style scoped>\n",
       "    .dataframe tbody tr th:only-of-type {\n",
       "        vertical-align: middle;\n",
       "    }\n",
       "\n",
       "    .dataframe tbody tr th {\n",
       "        vertical-align: top;\n",
       "    }\n",
       "\n",
       "    .dataframe thead th {\n",
       "        text-align: right;\n",
       "    }\n",
       "</style>\n",
       "<table border=\"1\" class=\"dataframe\">\n",
       "  <thead>\n",
       "    <tr style=\"text-align: right;\">\n",
       "      <th></th>\n",
       "      <th>COD_ENCUESTADO</th>\n",
       "      <th>Nombre Campus</th>\n",
       "      <th>NIVEL ACTUAL</th>\n",
       "      <th>Clave de carrera</th>\n",
       "      <th>Ciclo</th>\n",
       "      <th>COMENTARIO</th>\n",
       "      <th>IND_GEA</th>\n",
       "      <th>IND_DELEGADO</th>\n",
       "      <th>CANT_CURSOS_MATRICU_SIN_INGLES</th>\n",
       "      <th>UOD_depostista_ind_deportista</th>\n",
       "      <th>NPS</th>\n",
       "    </tr>\n",
       "  </thead>\n",
       "  <tbody>\n",
       "    <tr>\n",
       "      <th>5103</th>\n",
       "      <td>2681</td>\n",
       "      <td>1</td>\n",
       "      <td>AC</td>\n",
       "      <td>37</td>\n",
       "      <td>1</td>\n",
       "      <td>El humo del tabaco en la entrada, tal vez un ...</td>\n",
       "      <td>NaN</td>\n",
       "      <td>NaN</td>\n",
       "      <td>6.0</td>\n",
       "      <td>NaN</td>\n",
       "      <td>3</td>\n",
       "    </tr>\n",
       "    <tr>\n",
       "      <th>573</th>\n",
       "      <td>17679</td>\n",
       "      <td>3</td>\n",
       "      <td>AC</td>\n",
       "      <td>28</td>\n",
       "      <td>1</td>\n",
       "      <td>Hay demasiados alumnos en determinadas horas,...</td>\n",
       "      <td>NaN</td>\n",
       "      <td>NaN</td>\n",
       "      <td>5.0</td>\n",
       "      <td>NaN</td>\n",
       "      <td>3</td>\n",
       "    </tr>\n",
       "    <tr>\n",
       "      <th>11585</th>\n",
       "      <td>28809</td>\n",
       "      <td>4</td>\n",
       "      <td>FC</td>\n",
       "      <td>107</td>\n",
       "      <td>1</td>\n",
       "      <td>Información precisa y concisa sobre algún tema.</td>\n",
       "      <td>NaN</td>\n",
       "      <td>NaN</td>\n",
       "      <td>4.0</td>\n",
       "      <td>NaN</td>\n",
       "      <td>3</td>\n",
       "    </tr>\n",
       "    <tr>\n",
       "      <th>12370</th>\n",
       "      <td>16978</td>\n",
       "      <td>1</td>\n",
       "      <td>AC</td>\n",
       "      <td>38</td>\n",
       "      <td>7</td>\n",
       "      <td>Es una universidad con mucha vision sobre com...</td>\n",
       "      <td>NaN</td>\n",
       "      <td>NaN</td>\n",
       "      <td>8.0</td>\n",
       "      <td>NaN</td>\n",
       "      <td>4</td>\n",
       "    </tr>\n",
       "    <tr>\n",
       "      <th>2057</th>\n",
       "      <td>19132</td>\n",
       "      <td>3</td>\n",
       "      <td>AC</td>\n",
       "      <td>17</td>\n",
       "      <td>8</td>\n",
       "      <td>Creo que lo que más valoro es todo lo que he ...</td>\n",
       "      <td>NaN</td>\n",
       "      <td>Delegado</td>\n",
       "      <td>5.0</td>\n",
       "      <td>NaN</td>\n",
       "      <td>4</td>\n",
       "    </tr>\n",
       "  </tbody>\n",
       "</table>\n",
       "</div>"
      ],
      "text/plain": [
       "       COD_ENCUESTADO  Nombre Campus NIVEL ACTUAL  Clave de carrera  Ciclo  \\\n",
       "5103             2681              1           AC                37      1   \n",
       "573             17679              3           AC                28      1   \n",
       "11585           28809              4           FC               107      1   \n",
       "12370           16978              1           AC                38      7   \n",
       "2057            19132              3           AC                17      8   \n",
       "\n",
       "                                              COMENTARIO IND_GEA IND_DELEGADO  \\\n",
       "5103    El humo del tabaco en la entrada, tal vez un ...     NaN          NaN   \n",
       "573     Hay demasiados alumnos en determinadas horas,...     NaN          NaN   \n",
       "11585    Información precisa y concisa sobre algún tema.     NaN          NaN   \n",
       "12370   Es una universidad con mucha vision sobre com...     NaN          NaN   \n",
       "2057    Creo que lo que más valoro es todo lo que he ...     NaN     Delegado   \n",
       "\n",
       "       CANT_CURSOS_MATRICU_SIN_INGLES UOD_depostista_ind_deportista  NPS  \n",
       "5103                              6.0                           NaN    3  \n",
       "573                               5.0                           NaN    3  \n",
       "11585                             4.0                           NaN    3  \n",
       "12370                             8.0                           NaN    4  \n",
       "2057                              5.0                           NaN    4  "
      ]
     },
     "execution_count": 114,
     "metadata": {},
     "output_type": "execute_result"
    }
   ],
   "source": [
    "train.sample(5)"
   ]
  },
  {
   "cell_type": "code",
   "execution_count": 113,
   "metadata": {},
   "outputs": [
    {
     "data": {
      "text/html": [
       "<div>\n",
       "<style scoped>\n",
       "    .dataframe tbody tr th:only-of-type {\n",
       "        vertical-align: middle;\n",
       "    }\n",
       "\n",
       "    .dataframe tbody tr th {\n",
       "        vertical-align: top;\n",
       "    }\n",
       "\n",
       "    .dataframe thead th {\n",
       "        text-align: right;\n",
       "    }\n",
       "</style>\n",
       "<table border=\"1\" class=\"dataframe\">\n",
       "  <thead>\n",
       "    <tr style=\"text-align: right;\">\n",
       "      <th></th>\n",
       "      <th>count</th>\n",
       "      <th>unique</th>\n",
       "      <th>top</th>\n",
       "      <th>freq</th>\n",
       "      <th>mean</th>\n",
       "      <th>std</th>\n",
       "      <th>min</th>\n",
       "      <th>25%</th>\n",
       "      <th>50%</th>\n",
       "      <th>75%</th>\n",
       "      <th>max</th>\n",
       "    </tr>\n",
       "  </thead>\n",
       "  <tbody>\n",
       "    <tr>\n",
       "      <th>COD_ENCUESTADO</th>\n",
       "      <td>20000</td>\n",
       "      <td>NaN</td>\n",
       "      <td>NaN</td>\n",
       "      <td>NaN</td>\n",
       "      <td>16951.7</td>\n",
       "      <td>9634.97</td>\n",
       "      <td>1</td>\n",
       "      <td>8727.75</td>\n",
       "      <td>17070.5</td>\n",
       "      <td>25274.2</td>\n",
       "      <td>33672</td>\n",
       "    </tr>\n",
       "    <tr>\n",
       "      <th>Nombre Campus</th>\n",
       "      <td>20000</td>\n",
       "      <td>NaN</td>\n",
       "      <td>NaN</td>\n",
       "      <td>NaN</td>\n",
       "      <td>2.60815</td>\n",
       "      <td>1.05074</td>\n",
       "      <td>1</td>\n",
       "      <td>2</td>\n",
       "      <td>3</td>\n",
       "      <td>3</td>\n",
       "      <td>4</td>\n",
       "    </tr>\n",
       "    <tr>\n",
       "      <th>NIVEL ACTUAL</th>\n",
       "      <td>20000</td>\n",
       "      <td>4</td>\n",
       "      <td>AC</td>\n",
       "      <td>14990</td>\n",
       "      <td>NaN</td>\n",
       "      <td>NaN</td>\n",
       "      <td>NaN</td>\n",
       "      <td>NaN</td>\n",
       "      <td>NaN</td>\n",
       "      <td>NaN</td>\n",
       "      <td>NaN</td>\n",
       "    </tr>\n",
       "    <tr>\n",
       "      <th>Clave de carrera</th>\n",
       "      <td>20000</td>\n",
       "      <td>NaN</td>\n",
       "      <td>NaN</td>\n",
       "      <td>NaN</td>\n",
       "      <td>42.3227</td>\n",
       "      <td>44.5185</td>\n",
       "      <td>1</td>\n",
       "      <td>10</td>\n",
       "      <td>26</td>\n",
       "      <td>100</td>\n",
       "      <td>226</td>\n",
       "    </tr>\n",
       "    <tr>\n",
       "      <th>Ciclo</th>\n",
       "      <td>20000</td>\n",
       "      <td>NaN</td>\n",
       "      <td>NaN</td>\n",
       "      <td>NaN</td>\n",
       "      <td>3.0524</td>\n",
       "      <td>2.35532</td>\n",
       "      <td>1</td>\n",
       "      <td>1</td>\n",
       "      <td>2</td>\n",
       "      <td>4</td>\n",
       "      <td>14</td>\n",
       "    </tr>\n",
       "    <tr>\n",
       "      <th>COMENTARIO</th>\n",
       "      <td>20000</td>\n",
       "      <td>17611</td>\n",
       "      <td>La enseñanza</td>\n",
       "      <td>111</td>\n",
       "      <td>NaN</td>\n",
       "      <td>NaN</td>\n",
       "      <td>NaN</td>\n",
       "      <td>NaN</td>\n",
       "      <td>NaN</td>\n",
       "      <td>NaN</td>\n",
       "      <td>NaN</td>\n",
       "    </tr>\n",
       "    <tr>\n",
       "      <th>IND_GEA</th>\n",
       "      <td>299</td>\n",
       "      <td>1</td>\n",
       "      <td>GEA</td>\n",
       "      <td>299</td>\n",
       "      <td>NaN</td>\n",
       "      <td>NaN</td>\n",
       "      <td>NaN</td>\n",
       "      <td>NaN</td>\n",
       "      <td>NaN</td>\n",
       "      <td>NaN</td>\n",
       "      <td>NaN</td>\n",
       "    </tr>\n",
       "    <tr>\n",
       "      <th>IND_DELEGADO</th>\n",
       "      <td>3532</td>\n",
       "      <td>1</td>\n",
       "      <td>Delegado</td>\n",
       "      <td>3532</td>\n",
       "      <td>NaN</td>\n",
       "      <td>NaN</td>\n",
       "      <td>NaN</td>\n",
       "      <td>NaN</td>\n",
       "      <td>NaN</td>\n",
       "      <td>NaN</td>\n",
       "      <td>NaN</td>\n",
       "    </tr>\n",
       "    <tr>\n",
       "      <th>CANT_CURSOS_MATRICU_SIN_INGLES</th>\n",
       "      <td>19634</td>\n",
       "      <td>NaN</td>\n",
       "      <td>NaN</td>\n",
       "      <td>NaN</td>\n",
       "      <td>4.78496</td>\n",
       "      <td>1.41673</td>\n",
       "      <td>0</td>\n",
       "      <td>4</td>\n",
       "      <td>5</td>\n",
       "      <td>6</td>\n",
       "      <td>10</td>\n",
       "    </tr>\n",
       "    <tr>\n",
       "      <th>UOD_depostista_ind_deportista</th>\n",
       "      <td>148</td>\n",
       "      <td>1</td>\n",
       "      <td>Deportista</td>\n",
       "      <td>148</td>\n",
       "      <td>NaN</td>\n",
       "      <td>NaN</td>\n",
       "      <td>NaN</td>\n",
       "      <td>NaN</td>\n",
       "      <td>NaN</td>\n",
       "      <td>NaN</td>\n",
       "      <td>NaN</td>\n",
       "    </tr>\n",
       "    <tr>\n",
       "      <th>NPS</th>\n",
       "      <td>20000</td>\n",
       "      <td>NaN</td>\n",
       "      <td>NaN</td>\n",
       "      <td>NaN</td>\n",
       "      <td>3.12335</td>\n",
       "      <td>0.858587</td>\n",
       "      <td>1</td>\n",
       "      <td>3</td>\n",
       "      <td>3</td>\n",
       "      <td>4</td>\n",
       "      <td>4</td>\n",
       "    </tr>\n",
       "  </tbody>\n",
       "</table>\n",
       "</div>"
      ],
      "text/plain": [
       "                                count unique            top   freq     mean  \\\n",
       "COD_ENCUESTADO                  20000    NaN            NaN    NaN  16951.7   \n",
       "Nombre Campus                   20000    NaN            NaN    NaN  2.60815   \n",
       "NIVEL ACTUAL                    20000      4             AC  14990      NaN   \n",
       "Clave de carrera                20000    NaN            NaN    NaN  42.3227   \n",
       "Ciclo                           20000    NaN            NaN    NaN   3.0524   \n",
       "COMENTARIO                      20000  17611   La enseñanza    111      NaN   \n",
       "IND_GEA                           299      1            GEA    299      NaN   \n",
       "IND_DELEGADO                     3532      1       Delegado   3532      NaN   \n",
       "CANT_CURSOS_MATRICU_SIN_INGLES  19634    NaN            NaN    NaN  4.78496   \n",
       "UOD_depostista_ind_deportista     148      1     Deportista    148      NaN   \n",
       "NPS                             20000    NaN            NaN    NaN  3.12335   \n",
       "\n",
       "                                     std  min      25%      50%      75%  \\\n",
       "COD_ENCUESTADO                   9634.97    1  8727.75  17070.5  25274.2   \n",
       "Nombre Campus                    1.05074    1        2        3        3   \n",
       "NIVEL ACTUAL                         NaN  NaN      NaN      NaN      NaN   \n",
       "Clave de carrera                 44.5185    1       10       26      100   \n",
       "Ciclo                            2.35532    1        1        2        4   \n",
       "COMENTARIO                           NaN  NaN      NaN      NaN      NaN   \n",
       "IND_GEA                              NaN  NaN      NaN      NaN      NaN   \n",
       "IND_DELEGADO                         NaN  NaN      NaN      NaN      NaN   \n",
       "CANT_CURSOS_MATRICU_SIN_INGLES   1.41673    0        4        5        6   \n",
       "UOD_depostista_ind_deportista        NaN  NaN      NaN      NaN      NaN   \n",
       "NPS                             0.858587    1        3        3        4   \n",
       "\n",
       "                                  max  \n",
       "COD_ENCUESTADO                  33672  \n",
       "Nombre Campus                       4  \n",
       "NIVEL ACTUAL                      NaN  \n",
       "Clave de carrera                  226  \n",
       "Ciclo                              14  \n",
       "COMENTARIO                        NaN  \n",
       "IND_GEA                           NaN  \n",
       "IND_DELEGADO                      NaN  \n",
       "CANT_CURSOS_MATRICU_SIN_INGLES     10  \n",
       "UOD_depostista_ind_deportista     NaN  \n",
       "NPS                                 4  "
      ]
     },
     "execution_count": 113,
     "metadata": {},
     "output_type": "execute_result"
    }
   ],
   "source": [
    "train.describe(include='all').T"
   ]
  },
  {
   "cell_type": "code",
   "execution_count": 121,
   "metadata": {},
   "outputs": [],
   "source": [
    "cat_cols = ['COD_ENCUESTADO', 'Nombre Campus', 'NIVEL ACTUAL', 'Clave de carrera']\n",
    "binary_cols = ['IND_GEA', 'IND_DELEGADO', 'UOD_depostista_ind_deportista']"
   ]
  },
  {
   "cell_type": "code",
   "execution_count": 122,
   "metadata": {},
   "outputs": [],
   "source": [
    "for c in cat_cols:\n",
    "    train[c] = train[c].astype(str)"
   ]
  },
  {
   "cell_type": "code",
   "execution_count": 123,
   "metadata": {},
   "outputs": [],
   "source": [
    "for c in binary_cols:\n",
    "    train[c] = train[c].notnull()"
   ]
  },
  {
   "cell_type": "code",
   "execution_count": 125,
   "metadata": {},
   "outputs": [],
   "source": [
    "train.fillna(0, inplace=True)"
   ]
  },
  {
   "cell_type": "code",
   "execution_count": 126,
   "metadata": {},
   "outputs": [
    {
     "data": {
      "text/html": [
       "<div>\n",
       "<style scoped>\n",
       "    .dataframe tbody tr th:only-of-type {\n",
       "        vertical-align: middle;\n",
       "    }\n",
       "\n",
       "    .dataframe tbody tr th {\n",
       "        vertical-align: top;\n",
       "    }\n",
       "\n",
       "    .dataframe thead th {\n",
       "        text-align: right;\n",
       "    }\n",
       "</style>\n",
       "<table border=\"1\" class=\"dataframe\">\n",
       "  <thead>\n",
       "    <tr style=\"text-align: right;\">\n",
       "      <th></th>\n",
       "      <th>count</th>\n",
       "      <th>unique</th>\n",
       "      <th>top</th>\n",
       "      <th>freq</th>\n",
       "      <th>mean</th>\n",
       "      <th>std</th>\n",
       "      <th>min</th>\n",
       "      <th>25%</th>\n",
       "      <th>50%</th>\n",
       "      <th>75%</th>\n",
       "      <th>max</th>\n",
       "    </tr>\n",
       "  </thead>\n",
       "  <tbody>\n",
       "    <tr>\n",
       "      <th>COD_ENCUESTADO</th>\n",
       "      <td>20000</td>\n",
       "      <td>20000</td>\n",
       "      <td>18875</td>\n",
       "      <td>1</td>\n",
       "      <td>NaN</td>\n",
       "      <td>NaN</td>\n",
       "      <td>NaN</td>\n",
       "      <td>NaN</td>\n",
       "      <td>NaN</td>\n",
       "      <td>NaN</td>\n",
       "      <td>NaN</td>\n",
       "    </tr>\n",
       "    <tr>\n",
       "      <th>Nombre Campus</th>\n",
       "      <td>20000</td>\n",
       "      <td>4</td>\n",
       "      <td>3</td>\n",
       "      <td>8361</td>\n",
       "      <td>NaN</td>\n",
       "      <td>NaN</td>\n",
       "      <td>NaN</td>\n",
       "      <td>NaN</td>\n",
       "      <td>NaN</td>\n",
       "      <td>NaN</td>\n",
       "      <td>NaN</td>\n",
       "    </tr>\n",
       "    <tr>\n",
       "      <th>NIVEL ACTUAL</th>\n",
       "      <td>20000</td>\n",
       "      <td>4</td>\n",
       "      <td>AC</td>\n",
       "      <td>14990</td>\n",
       "      <td>NaN</td>\n",
       "      <td>NaN</td>\n",
       "      <td>NaN</td>\n",
       "      <td>NaN</td>\n",
       "      <td>NaN</td>\n",
       "      <td>NaN</td>\n",
       "      <td>NaN</td>\n",
       "    </tr>\n",
       "    <tr>\n",
       "      <th>Clave de carrera</th>\n",
       "      <td>20000</td>\n",
       "      <td>72</td>\n",
       "      <td>5</td>\n",
       "      <td>1616</td>\n",
       "      <td>NaN</td>\n",
       "      <td>NaN</td>\n",
       "      <td>NaN</td>\n",
       "      <td>NaN</td>\n",
       "      <td>NaN</td>\n",
       "      <td>NaN</td>\n",
       "      <td>NaN</td>\n",
       "    </tr>\n",
       "    <tr>\n",
       "      <th>Ciclo</th>\n",
       "      <td>20000</td>\n",
       "      <td>NaN</td>\n",
       "      <td>NaN</td>\n",
       "      <td>NaN</td>\n",
       "      <td>3.0524</td>\n",
       "      <td>2.35532</td>\n",
       "      <td>1</td>\n",
       "      <td>1</td>\n",
       "      <td>2</td>\n",
       "      <td>4</td>\n",
       "      <td>14</td>\n",
       "    </tr>\n",
       "    <tr>\n",
       "      <th>COMENTARIO</th>\n",
       "      <td>20000</td>\n",
       "      <td>17611</td>\n",
       "      <td>La enseñanza</td>\n",
       "      <td>111</td>\n",
       "      <td>NaN</td>\n",
       "      <td>NaN</td>\n",
       "      <td>NaN</td>\n",
       "      <td>NaN</td>\n",
       "      <td>NaN</td>\n",
       "      <td>NaN</td>\n",
       "      <td>NaN</td>\n",
       "    </tr>\n",
       "    <tr>\n",
       "      <th>IND_GEA</th>\n",
       "      <td>20000</td>\n",
       "      <td>2</td>\n",
       "      <td>False</td>\n",
       "      <td>19701</td>\n",
       "      <td>NaN</td>\n",
       "      <td>NaN</td>\n",
       "      <td>NaN</td>\n",
       "      <td>NaN</td>\n",
       "      <td>NaN</td>\n",
       "      <td>NaN</td>\n",
       "      <td>NaN</td>\n",
       "    </tr>\n",
       "    <tr>\n",
       "      <th>IND_DELEGADO</th>\n",
       "      <td>20000</td>\n",
       "      <td>2</td>\n",
       "      <td>False</td>\n",
       "      <td>16468</td>\n",
       "      <td>NaN</td>\n",
       "      <td>NaN</td>\n",
       "      <td>NaN</td>\n",
       "      <td>NaN</td>\n",
       "      <td>NaN</td>\n",
       "      <td>NaN</td>\n",
       "      <td>NaN</td>\n",
       "    </tr>\n",
       "    <tr>\n",
       "      <th>CANT_CURSOS_MATRICU_SIN_INGLES</th>\n",
       "      <td>20000</td>\n",
       "      <td>NaN</td>\n",
       "      <td>NaN</td>\n",
       "      <td>NaN</td>\n",
       "      <td>4.6974</td>\n",
       "      <td>1.54329</td>\n",
       "      <td>0</td>\n",
       "      <td>4</td>\n",
       "      <td>5</td>\n",
       "      <td>6</td>\n",
       "      <td>10</td>\n",
       "    </tr>\n",
       "    <tr>\n",
       "      <th>UOD_depostista_ind_deportista</th>\n",
       "      <td>20000</td>\n",
       "      <td>2</td>\n",
       "      <td>False</td>\n",
       "      <td>19852</td>\n",
       "      <td>NaN</td>\n",
       "      <td>NaN</td>\n",
       "      <td>NaN</td>\n",
       "      <td>NaN</td>\n",
       "      <td>NaN</td>\n",
       "      <td>NaN</td>\n",
       "      <td>NaN</td>\n",
       "    </tr>\n",
       "    <tr>\n",
       "      <th>NPS</th>\n",
       "      <td>20000</td>\n",
       "      <td>NaN</td>\n",
       "      <td>NaN</td>\n",
       "      <td>NaN</td>\n",
       "      <td>3.12335</td>\n",
       "      <td>0.858587</td>\n",
       "      <td>1</td>\n",
       "      <td>3</td>\n",
       "      <td>3</td>\n",
       "      <td>4</td>\n",
       "      <td>4</td>\n",
       "    </tr>\n",
       "  </tbody>\n",
       "</table>\n",
       "</div>"
      ],
      "text/plain": [
       "                                count unique            top   freq     mean  \\\n",
       "COD_ENCUESTADO                  20000  20000          18875      1      NaN   \n",
       "Nombre Campus                   20000      4              3   8361      NaN   \n",
       "NIVEL ACTUAL                    20000      4             AC  14990      NaN   \n",
       "Clave de carrera                20000     72              5   1616      NaN   \n",
       "Ciclo                           20000    NaN            NaN    NaN   3.0524   \n",
       "COMENTARIO                      20000  17611   La enseñanza    111      NaN   \n",
       "IND_GEA                         20000      2          False  19701      NaN   \n",
       "IND_DELEGADO                    20000      2          False  16468      NaN   \n",
       "CANT_CURSOS_MATRICU_SIN_INGLES  20000    NaN            NaN    NaN   4.6974   \n",
       "UOD_depostista_ind_deportista   20000      2          False  19852      NaN   \n",
       "NPS                             20000    NaN            NaN    NaN  3.12335   \n",
       "\n",
       "                                     std  min  25%  50%  75%  max  \n",
       "COD_ENCUESTADO                       NaN  NaN  NaN  NaN  NaN  NaN  \n",
       "Nombre Campus                        NaN  NaN  NaN  NaN  NaN  NaN  \n",
       "NIVEL ACTUAL                         NaN  NaN  NaN  NaN  NaN  NaN  \n",
       "Clave de carrera                     NaN  NaN  NaN  NaN  NaN  NaN  \n",
       "Ciclo                            2.35532    1    1    2    4   14  \n",
       "COMENTARIO                           NaN  NaN  NaN  NaN  NaN  NaN  \n",
       "IND_GEA                              NaN  NaN  NaN  NaN  NaN  NaN  \n",
       "IND_DELEGADO                         NaN  NaN  NaN  NaN  NaN  NaN  \n",
       "CANT_CURSOS_MATRICU_SIN_INGLES   1.54329    0    4    5    6   10  \n",
       "UOD_depostista_ind_deportista        NaN  NaN  NaN  NaN  NaN  NaN  \n",
       "NPS                             0.858587    1    3    3    4    4  "
      ]
     },
     "execution_count": 126,
     "metadata": {},
     "output_type": "execute_result"
    }
   ],
   "source": [
    "train.describe(include='all').T"
   ]
  },
  {
   "cell_type": "code",
   "execution_count": 135,
   "metadata": {},
   "outputs": [
    {
     "data": {
      "image/png": "[encoded data removed]",
      "text/plain": [
       "<Figure size 432x288 with 1 Axes>"
      ]
     },
     "metadata": {
      "image/png": {
       "height": 269,
       "width": 401
      }
     },
     "output_type": "display_data"
    }
   ],
   "source": [
    "sns.countplot(train.NPS);"
   ]
  },
  {
   "cell_type": "code",
   "execution_count": 152,
   "metadata": {},
   "outputs": [
    {
     "data": {
      "text/plain": [
       "3    0.40680\n",
       "4    0.38480\n",
       "2    0.15535\n",
       "1    0.05305\n",
       "Name: NPS, dtype: float64"
      ]
     },
     "execution_count": 152,
     "metadata": {},
     "output_type": "execute_result"
    }
   ],
   "source": [
    "train.NPS.value_counts(normalize=True)"
   ]
  },
  {
   "cell_type": "markdown",
   "metadata": {},
   "source": [
    "# Baseline"
   ]
  },
  {
   "cell_type": "code",
   "execution_count": 146,
   "metadata": {},
   "outputs": [],
   "source": [
    "cols = [c for c in train if c not in ['COD_ENCUESTADO', 'COMENTARIO', 'NPS']]\n",
    "X, y = train[cols].copy(), train.NPS"
   ]
  },
  {
   "cell_type": "code",
   "execution_count": 144,
   "metadata": {},
   "outputs": [],
   "source": [
    "from sklearn.preprocessing import LabelEncoder"
   ]
  },
  {
   "cell_type": "code",
   "execution_count": 147,
   "metadata": {},
   "outputs": [],
   "source": [
    "lencoders = {}\n",
    "for c in ['Nombre Campus', 'NIVEL ACTUAL', 'Clave de carrera']:\n",
    "    lencoders[c] = LabelEncoder()\n",
    "    X[c] = lencoders[c].fit_transform(X[c])"
   ]
  },
  {
   "cell_type": "code",
   "execution_count": 162,
   "metadata": {},
   "outputs": [
    {
     "data": {
      "text/html": [
       "<div>\n",
       "<style scoped>\n",
       "    .dataframe tbody tr th:only-of-type {\n",
       "        vertical-align: middle;\n",
       "    }\n",
       "\n",
       "    .dataframe tbody tr th {\n",
       "        vertical-align: top;\n",
       "    }\n",
       "\n",
       "    .dataframe thead th {\n",
       "        text-align: right;\n",
       "    }\n",
       "</style>\n",
       "<table border=\"1\" class=\"dataframe\">\n",
       "  <thead>\n",
       "    <tr style=\"text-align: right;\">\n",
       "      <th></th>\n",
       "      <th>Nombre Campus</th>\n",
       "      <th>NIVEL ACTUAL</th>\n",
       "      <th>Clave de carrera</th>\n",
       "      <th>Ciclo</th>\n",
       "      <th>IND_GEA</th>\n",
       "      <th>IND_DELEGADO</th>\n",
       "      <th>CANT_CURSOS_MATRICU_SIN_INGLES</th>\n",
       "      <th>UOD_depostista_ind_deportista</th>\n",
       "    </tr>\n",
       "  </thead>\n",
       "  <tbody>\n",
       "    <tr>\n",
       "      <th>0</th>\n",
       "      <td>0</td>\n",
       "      <td>0</td>\n",
       "      <td>54</td>\n",
       "      <td>2</td>\n",
       "      <td>False</td>\n",
       "      <td>True</td>\n",
       "      <td>6.0</td>\n",
       "      <td>False</td>\n",
       "    </tr>\n",
       "    <tr>\n",
       "      <th>1</th>\n",
       "      <td>2</td>\n",
       "      <td>0</td>\n",
       "      <td>49</td>\n",
       "      <td>1</td>\n",
       "      <td>False</td>\n",
       "      <td>True</td>\n",
       "      <td>5.0</td>\n",
       "      <td>False</td>\n",
       "    </tr>\n",
       "    <tr>\n",
       "      <th>2</th>\n",
       "      <td>3</td>\n",
       "      <td>0</td>\n",
       "      <td>56</td>\n",
       "      <td>1</td>\n",
       "      <td>False</td>\n",
       "      <td>False</td>\n",
       "      <td>5.0</td>\n",
       "      <td>False</td>\n",
       "    </tr>\n",
       "    <tr>\n",
       "      <th>3</th>\n",
       "      <td>3</td>\n",
       "      <td>0</td>\n",
       "      <td>52</td>\n",
       "      <td>6</td>\n",
       "      <td>True</td>\n",
       "      <td>False</td>\n",
       "      <td>6.0</td>\n",
       "      <td>False</td>\n",
       "    </tr>\n",
       "    <tr>\n",
       "      <th>4</th>\n",
       "      <td>2</td>\n",
       "      <td>0</td>\n",
       "      <td>59</td>\n",
       "      <td>1</td>\n",
       "      <td>False</td>\n",
       "      <td>False</td>\n",
       "      <td>6.0</td>\n",
       "      <td>False</td>\n",
       "    </tr>\n",
       "  </tbody>\n",
       "</table>\n",
       "</div>"
      ],
      "text/plain": [
       "   Nombre Campus  NIVEL ACTUAL  Clave de carrera  Ciclo  IND_GEA  \\\n",
       "0              0             0                54      2    False   \n",
       "1              2             0                49      1    False   \n",
       "2              3             0                56      1    False   \n",
       "3              3             0                52      6     True   \n",
       "4              2             0                59      1    False   \n",
       "\n",
       "   IND_DELEGADO  CANT_CURSOS_MATRICU_SIN_INGLES  UOD_depostista_ind_deportista  \n",
       "0          True                             6.0                          False  \n",
       "1          True                             5.0                          False  \n",
       "2         False                             5.0                          False  \n",
       "3         False                             6.0                          False  \n",
       "4         False                             6.0                          False  "
      ]
     },
     "execution_count": 162,
     "metadata": {},
     "output_type": "execute_result"
    }
   ],
   "source": [
    "X.head()"
   ]
  },
  {
   "cell_type": "code",
   "execution_count": 148,
   "metadata": {},
   "outputs": [],
   "source": [
    "from sklearn.model_selection import KFold\n",
    "kfolds = KFold(n_splits=5, shuffle=True, random_state=42)"
   ]
  },
  {
   "cell_type": "code",
   "execution_count": 149,
   "metadata": {},
   "outputs": [],
   "source": [
    "from sklearn.model_selection import cross_validate\n",
    "from lightgbm import LGBMClassifier\n",
    "model = LGBMClassifier()"
   ]
  },
  {
   "cell_type": "code",
   "execution_count": 160,
   "metadata": {},
   "outputs": [
    {
     "name": "stdout",
     "output_type": "stream",
     "text": [
      "CPU times: user 12.9 s, sys: 219 ms, total: 13.1 s\n",
      "Wall time: 3.57 s\n"
     ]
    }
   ],
   "source": [
    "%%time\n",
    "results = cross_validate(model, X, y, scoring='neg_log_loss', cv=kfolds, \n",
    "                         return_train_score=True)"
   ]
  },
  {
   "cell_type": "code",
   "execution_count": 161,
   "metadata": {},
   "outputs": [
    {
     "data": {
      "text/html": [
       "<div>\n",
       "<style scoped>\n",
       "    .dataframe tbody tr th:only-of-type {\n",
       "        vertical-align: middle;\n",
       "    }\n",
       "\n",
       "    .dataframe tbody tr th {\n",
       "        vertical-align: top;\n",
       "    }\n",
       "\n",
       "    .dataframe thead th {\n",
       "        text-align: right;\n",
       "    }\n",
       "</style>\n",
       "<table border=\"1\" class=\"dataframe\">\n",
       "  <thead>\n",
       "    <tr style=\"text-align: right;\">\n",
       "      <th></th>\n",
       "      <th>fit_time</th>\n",
       "      <th>score_time</th>\n",
       "      <th>test_score</th>\n",
       "      <th>train_score</th>\n",
       "    </tr>\n",
       "  </thead>\n",
       "  <tbody>\n",
       "    <tr>\n",
       "      <th>0</th>\n",
       "      <td>0.672135</td>\n",
       "      <td>0.042960</td>\n",
       "      <td>-1.177007</td>\n",
       "      <td>-1.086104</td>\n",
       "    </tr>\n",
       "    <tr>\n",
       "      <th>1</th>\n",
       "      <td>0.458142</td>\n",
       "      <td>0.045042</td>\n",
       "      <td>-1.189630</td>\n",
       "      <td>-1.081878</td>\n",
       "    </tr>\n",
       "    <tr>\n",
       "      <th>2</th>\n",
       "      <td>0.453618</td>\n",
       "      <td>0.047278</td>\n",
       "      <td>-1.167902</td>\n",
       "      <td>-1.088394</td>\n",
       "    </tr>\n",
       "    <tr>\n",
       "      <th>3</th>\n",
       "      <td>0.441986</td>\n",
       "      <td>0.046569</td>\n",
       "      <td>-1.147050</td>\n",
       "      <td>-1.092831</td>\n",
       "    </tr>\n",
       "    <tr>\n",
       "      <th>4</th>\n",
       "      <td>0.463638</td>\n",
       "      <td>0.047101</td>\n",
       "      <td>-1.161808</td>\n",
       "      <td>-1.089386</td>\n",
       "    </tr>\n",
       "  </tbody>\n",
       "</table>\n",
       "</div>"
      ],
      "text/plain": [
       "   fit_time  score_time  test_score  train_score\n",
       "0  0.672135    0.042960   -1.177007    -1.086104\n",
       "1  0.458142    0.045042   -1.189630    -1.081878\n",
       "2  0.453618    0.047278   -1.167902    -1.088394\n",
       "3  0.441986    0.046569   -1.147050    -1.092831\n",
       "4  0.463638    0.047101   -1.161808    -1.089386"
      ]
     },
     "execution_count": 161,
     "metadata": {},
     "output_type": "execute_result"
    }
   ],
   "source": [
    "pd.DataFrame(results)"
   ]
  },
  {
   "cell_type": "markdown",
   "metadata": {},
   "source": [
    "# Text processing"
   ]
  },
  {
   "cell_type": "code",
   "execution_count": 169,
   "metadata": {},
   "outputs": [],
   "source": [
    "desc = train.COMENTARIO[52]"
   ]
  },
  {
   "cell_type": "code",
   "execution_count": 170,
   "metadata": {},
   "outputs": [
    {
     "data": {
      "text/plain": [
       "' La enseñanza y temas son engaña muchachosel curso de calculo que toma 6 meses en otras universidades y en la universidad lo meten en una semana ,lo mismo para los otros cursos de ciencias. LLos pagos deberian bajarlos si desean hacer su metodo blended El acceso a las sede de la misma universidad luego de quitar las sede de alquiler , se convierte en dolor de cabeza para poder llegar . slds No hablo con el higado deberian preocuparse por el futuro de un pais y ser justos con la enseñanza, no es del todo didáctico'"
      ]
     },
     "execution_count": 170,
     "metadata": {},
     "output_type": "execute_result"
    }
   ],
   "source": [
    "desc"
   ]
  },
  {
   "cell_type": "code",
   "execution_count": 174,
   "metadata": {},
   "outputs": [],
   "source": [
    "import re, unicodedata\n",
    "\n",
    "def normalize(text):\n",
    "    return unicodedata.normalize('NFKD', text) \\\n",
    "           .encode('ascii', 'ignore').decode('utf-8', 'ignore')\n",
    "\n",
    "def clean(s):\n",
    "    s = s.lower()\n",
    "    s = normalize(s)\n",
    "    s = re.sub('[^a-z]+', ' ', s)\n",
    "    return s.strip()"
   ]
  },
  {
   "cell_type": "code",
   "execution_count": 175,
   "metadata": {},
   "outputs": [
    {
     "data": {
      "text/plain": [
       "'la ensenanza y temas son engana muchachosel curso de calculo que toma meses en otras universidades y en la universidad lo meten en una semana lo mismo para los otros cursos de ciencias llos pagos deberian bajarlos si desean hacer su metodo blended el acceso a las sede de la misma universidad luego de quitar las sede de alquiler se convierte en dolor de cabeza para poder llegar slds no hablo con el higado deberian preocuparse por el futuro de un pais y ser justos con la ensenanza no es del todo didactico'"
      ]
     },
     "execution_count": 175,
     "metadata": {},
     "output_type": "execute_result"
    }
   ],
   "source": [
    "clean(desc)"
   ]
  },
  {
   "cell_type": "code",
   "execution_count": 176,
   "metadata": {},
   "outputs": [],
   "source": [
    "train['clean_comment'] = train.COMENTARIO.apply(clean)\n",
    "train['len_comment'] = train.COMENTARIO.apply(len)\n",
    "train['nwords_comment'] = train.COMENTARIO.apply(lambda x: len(x.split()))"
   ]
  },
  {
   "cell_type": "code",
   "execution_count": 183,
   "metadata": {},
   "outputs": [
    {
     "data": {
      "image/png": "[encoded data removed]",
      "text/plain": [
       "<Figure size 432x288 with 1 Axes>"
      ]
     },
     "metadata": {
      "image/png": {
       "height": 269,
       "width": 395
      }
     },
     "output_type": "display_data"
    }
   ],
   "source": [
    "sns.boxplot('NPS', 'len_comment', data=train);"
   ]
  },
  {
   "cell_type": "code",
   "execution_count": 186,
   "metadata": {},
   "outputs": [
    {
     "data": {
      "image/png": "[encoded data removed]",
      "text/plain": [
       "<Figure size 432x288 with 1 Axes>"
      ]
     },
     "metadata": {
      "image/png": {
       "height": 269,
       "width": 395
      }
     },
     "output_type": "display_data"
    }
   ],
   "source": [
    "sns.boxplot('NPS', 'nwords_comment', data=train);"
   ]
  },
  {
   "cell_type": "code",
   "execution_count": 188,
   "metadata": {},
   "outputs": [],
   "source": [
    "from collections import Counter\n",
    "vocab = Counter(' '.join(train.clean_comment).split())"
   ]
  },
  {
   "cell_type": "code",
   "execution_count": 189,
   "metadata": {},
   "outputs": [
    {
     "data": {
      "text/plain": [
       "[('de', 13130),\n",
       " ('la', 11678),\n",
       " ('que', 8273),\n",
       " ('y', 8078),\n",
       " ('en', 7201),\n",
       " ('los', 7197),\n",
       " ('el', 5916),\n",
       " ('no', 4584),\n",
       " ('es', 4086),\n",
       " ('a', 3602)]"
      ]
     },
     "execution_count": 189,
     "metadata": {},
     "output_type": "execute_result"
    }
   ],
   "source": [
    "vocab.most_common()[:10]"
   ]
  },
  {
   "cell_type": "code",
   "execution_count": 190,
   "metadata": {},
   "outputs": [
    {
     "data": {
      "text/plain": [
       "[('retroactivos', 1),\n",
       " ('desordenan', 1),\n",
       " ('primos', 1),\n",
       " ('justificada', 1),\n",
       " ('ceder', 1),\n",
       " ('hipercalorico', 1),\n",
       " ('proteico', 1),\n",
       " ('estabilizan', 1),\n",
       " ('counters', 1),\n",
       " ('registrada', 1)]"
      ]
     },
     "execution_count": 190,
     "metadata": {},
     "output_type": "execute_result"
    }
   ],
   "source": [
    "vocab.most_common()[-10:]"
   ]
  },
  {
   "cell_type": "code",
   "execution_count": 192,
   "metadata": {},
   "outputs": [
    {
     "data": {
      "text/plain": [
       "(11333, 251571)"
      ]
     },
     "execution_count": 192,
     "metadata": {},
     "output_type": "execute_result"
    }
   ],
   "source": [
    "len(vocab), sum(vocab.values())"
   ]
  },
  {
   "cell_type": "markdown",
   "metadata": {},
   "source": [
    "## Vectorization"
   ]
  },
  {
   "cell_type": "code",
   "execution_count": 194,
   "metadata": {},
   "outputs": [
    {
     "data": {
      "text/plain": [
       "(20000, 11309)"
      ]
     },
     "execution_count": 194,
     "metadata": {},
     "output_type": "execute_result"
    }
   ],
   "source": [
    "from sklearn.feature_extraction.text import CountVectorizer, TfidfVectorizer\n",
    "vectorizer = CountVectorizer()\n",
    "X_count = vectorizer.fit_transform(train.clean_comment)\n",
    "X_count.shape"
   ]
  },
  {
   "cell_type": "code",
   "execution_count": 208,
   "metadata": {},
   "outputs": [],
   "source": [
    "from stop_words import get_stop_words\n",
    "stopwords = get_stop_words('spanish')"
   ]
  },
  {
   "cell_type": "code",
   "execution_count": 211,
   "metadata": {},
   "outputs": [
    {
     "data": {
      "text/plain": [
       "(20000, 1555)"
      ]
     },
     "execution_count": 211,
     "metadata": {},
     "output_type": "execute_result"
    }
   ],
   "source": [
    "vectorizer = TfidfVectorizer(max_df=0.7, min_df=10, stop_words=stopwords)\n",
    "X_tfidf = vectorizer.fit_transform(train.clean_comment)\n",
    "X_tfidf.shape"
   ]
  },
  {
   "cell_type": "code",
   "execution_count": 216,
   "metadata": {},
   "outputs": [
    {
     "data": {
      "text/plain": [
       "['gusta',\n",
       " 'metodo',\n",
       " 'blended',\n",
       " 'hace',\n",
       " 'bien',\n",
       " 'profesores',\n",
       " 'metodos',\n",
       " 'ensenanza',\n",
       " 'buena',\n",
       " 'uso']"
      ]
     },
     "execution_count": 216,
     "metadata": {},
     "output_type": "execute_result"
    }
   ],
   "source": [
    "list(vectorizer.vocabulary_.keys())[:10]"
   ]
  },
  {
   "cell_type": "markdown",
   "metadata": {},
   "source": [
    "## Only text"
   ]
  },
  {
   "cell_type": "code",
   "execution_count": 217,
   "metadata": {},
   "outputs": [],
   "source": [
    "from sklearn.model_selection import KFold\n",
    "from sklearn.model_selection import cross_validate\n",
    "from lightgbm import LGBMClassifier\n",
    "model = LGBMClassifier()\n",
    "kfolds = KFold(n_splits=5, shuffle=True, random_state=42)"
   ]
  },
  {
   "cell_type": "code",
   "execution_count": 219,
   "metadata": {},
   "outputs": [
    {
     "name": "stderr",
     "output_type": "stream",
     "text": [
      "[Parallel(n_jobs=1)]: Using backend SequentialBackend with 1 concurrent workers.\n"
     ]
    },
    {
     "name": "stdout",
     "output_type": "stream",
     "text": [
      "CPU times: user 1min 54s, sys: 2.37 s, total: 1min 56s\n",
      "Wall time: 32.7 s\n"
     ]
    },
    {
     "name": "stderr",
     "output_type": "stream",
     "text": [
      "[Parallel(n_jobs=1)]: Done   5 out of   5 | elapsed:   32.7s finished\n"
     ]
    }
   ],
   "source": [
    "%%time\n",
    "results = cross_validate(model, X_tfidf, y, scoring='neg_log_loss', cv=kfolds, \n",
    "                         return_train_score=True, verbose=1)"
   ]
  },
  {
   "cell_type": "code",
   "execution_count": 220,
   "metadata": {},
   "outputs": [
    {
     "data": {
      "text/html": [
       "<div>\n",
       "<style scoped>\n",
       "    .dataframe tbody tr th:only-of-type {\n",
       "        vertical-align: middle;\n",
       "    }\n",
       "\n",
       "    .dataframe tbody tr th {\n",
       "        vertical-align: top;\n",
       "    }\n",
       "\n",
       "    .dataframe thead th {\n",
       "        text-align: right;\n",
       "    }\n",
       "</style>\n",
       "<table border=\"1\" class=\"dataframe\">\n",
       "  <thead>\n",
       "    <tr style=\"text-align: right;\">\n",
       "      <th></th>\n",
       "      <th>fit_time</th>\n",
       "      <th>score_time</th>\n",
       "      <th>test_score</th>\n",
       "      <th>train_score</th>\n",
       "    </tr>\n",
       "  </thead>\n",
       "  <tbody>\n",
       "    <tr>\n",
       "      <th>0</th>\n",
       "      <td>6.726469</td>\n",
       "      <td>0.117886</td>\n",
       "      <td>-0.835978</td>\n",
       "      <td>-0.691337</td>\n",
       "    </tr>\n",
       "    <tr>\n",
       "      <th>1</th>\n",
       "      <td>6.602429</td>\n",
       "      <td>0.099555</td>\n",
       "      <td>-0.846042</td>\n",
       "      <td>-0.687465</td>\n",
       "    </tr>\n",
       "    <tr>\n",
       "      <th>2</th>\n",
       "      <td>5.494077</td>\n",
       "      <td>0.089271</td>\n",
       "      <td>-0.841537</td>\n",
       "      <td>-0.686480</td>\n",
       "    </tr>\n",
       "    <tr>\n",
       "      <th>3</th>\n",
       "      <td>6.070568</td>\n",
       "      <td>0.090990</td>\n",
       "      <td>-0.827133</td>\n",
       "      <td>-0.689893</td>\n",
       "    </tr>\n",
       "    <tr>\n",
       "      <th>4</th>\n",
       "      <td>5.599091</td>\n",
       "      <td>0.092066</td>\n",
       "      <td>-0.844811</td>\n",
       "      <td>-0.685813</td>\n",
       "    </tr>\n",
       "  </tbody>\n",
       "</table>\n",
       "</div>"
      ],
      "text/plain": [
       "   fit_time  score_time  test_score  train_score\n",
       "0  6.726469    0.117886   -0.835978    -0.691337\n",
       "1  6.602429    0.099555   -0.846042    -0.687465\n",
       "2  5.494077    0.089271   -0.841537    -0.686480\n",
       "3  6.070568    0.090990   -0.827133    -0.689893\n",
       "4  5.599091    0.092066   -0.844811    -0.685813"
      ]
     },
     "execution_count": 220,
     "metadata": {},
     "output_type": "execute_result"
    }
   ],
   "source": [
    "pd.DataFrame(results)"
   ]
  },
  {
   "cell_type": "markdown",
   "metadata": {},
   "source": [
    "## TF-IDF + metadata"
   ]
  },
  {
   "cell_type": "code",
   "execution_count": 221,
   "metadata": {},
   "outputs": [
    {
     "data": {
      "text/html": [
       "<div>\n",
       "<style scoped>\n",
       "    .dataframe tbody tr th:only-of-type {\n",
       "        vertical-align: middle;\n",
       "    }\n",
       "\n",
       "    .dataframe tbody tr th {\n",
       "        vertical-align: top;\n",
       "    }\n",
       "\n",
       "    .dataframe thead th {\n",
       "        text-align: right;\n",
       "    }\n",
       "</style>\n",
       "<table border=\"1\" class=\"dataframe\">\n",
       "  <thead>\n",
       "    <tr style=\"text-align: right;\">\n",
       "      <th></th>\n",
       "      <th>Nombre Campus</th>\n",
       "      <th>NIVEL ACTUAL</th>\n",
       "      <th>Clave de carrera</th>\n",
       "      <th>Ciclo</th>\n",
       "      <th>IND_GEA</th>\n",
       "      <th>IND_DELEGADO</th>\n",
       "      <th>CANT_CURSOS_MATRICU_SIN_INGLES</th>\n",
       "      <th>UOD_depostista_ind_deportista</th>\n",
       "    </tr>\n",
       "  </thead>\n",
       "  <tbody>\n",
       "    <tr>\n",
       "      <th>0</th>\n",
       "      <td>0</td>\n",
       "      <td>0</td>\n",
       "      <td>54</td>\n",
       "      <td>2</td>\n",
       "      <td>False</td>\n",
       "      <td>True</td>\n",
       "      <td>6.0</td>\n",
       "      <td>False</td>\n",
       "    </tr>\n",
       "    <tr>\n",
       "      <th>1</th>\n",
       "      <td>2</td>\n",
       "      <td>0</td>\n",
       "      <td>49</td>\n",
       "      <td>1</td>\n",
       "      <td>False</td>\n",
       "      <td>True</td>\n",
       "      <td>5.0</td>\n",
       "      <td>False</td>\n",
       "    </tr>\n",
       "    <tr>\n",
       "      <th>2</th>\n",
       "      <td>3</td>\n",
       "      <td>0</td>\n",
       "      <td>56</td>\n",
       "      <td>1</td>\n",
       "      <td>False</td>\n",
       "      <td>False</td>\n",
       "      <td>5.0</td>\n",
       "      <td>False</td>\n",
       "    </tr>\n",
       "    <tr>\n",
       "      <th>3</th>\n",
       "      <td>3</td>\n",
       "      <td>0</td>\n",
       "      <td>52</td>\n",
       "      <td>6</td>\n",
       "      <td>True</td>\n",
       "      <td>False</td>\n",
       "      <td>6.0</td>\n",
       "      <td>False</td>\n",
       "    </tr>\n",
       "    <tr>\n",
       "      <th>4</th>\n",
       "      <td>2</td>\n",
       "      <td>0</td>\n",
       "      <td>59</td>\n",
       "      <td>1</td>\n",
       "      <td>False</td>\n",
       "      <td>False</td>\n",
       "      <td>6.0</td>\n",
       "      <td>False</td>\n",
       "    </tr>\n",
       "  </tbody>\n",
       "</table>\n",
       "</div>"
      ],
      "text/plain": [
       "   Nombre Campus  NIVEL ACTUAL  Clave de carrera  Ciclo  IND_GEA  \\\n",
       "0              0             0                54      2    False   \n",
       "1              2             0                49      1    False   \n",
       "2              3             0                56      1    False   \n",
       "3              3             0                52      6     True   \n",
       "4              2             0                59      1    False   \n",
       "\n",
       "   IND_DELEGADO  CANT_CURSOS_MATRICU_SIN_INGLES  UOD_depostista_ind_deportista  \n",
       "0          True                             6.0                          False  \n",
       "1          True                             5.0                          False  \n",
       "2         False                             5.0                          False  \n",
       "3         False                             6.0                          False  \n",
       "4         False                             6.0                          False  "
      ]
     },
     "execution_count": 221,
     "metadata": {},
     "output_type": "execute_result"
    }
   ],
   "source": [
    "X.head()"
   ]
  },
  {
   "cell_type": "code",
   "execution_count": 247,
   "metadata": {},
   "outputs": [],
   "source": [
    "train['nupper_comment'] = train.COMENTARIO.apply(lambda x: len([c for c in x if c.isupper()]) / len(x.split()))"
   ]
  },
  {
   "cell_type": "code",
   "execution_count": 252,
   "metadata": {},
   "outputs": [
    {
     "data": {
      "text/plain": [
       "(-0.1, 1)"
      ]
     },
     "execution_count": 252,
     "metadata": {},
     "output_type": "execute_result"
    },
    {
     "data": {
      "image/png": "[encoded data removed]",
      "text/plain": [
       "<Figure size 432x288 with 1 Axes>"
      ]
     },
     "metadata": {
      "image/png": {
       "height": 270,
       "width": 392
      }
     },
     "output_type": "display_data"
    }
   ],
   "source": [
    "sns.boxplot('NPS', 'nupper_comment', data=train);\n",
    "plt.ylim(top=1, bottom=-0.1)"
   ]
  },
  {
   "cell_type": "code",
   "execution_count": 258,
   "metadata": {},
   "outputs": [],
   "source": [
    "X['nwords_comment'] = train.nwords_comment\n",
    "X['nupper_comment'] = train.nupper_comment"
   ]
  },
  {
   "cell_type": "code",
   "execution_count": 259,
   "metadata": {},
   "outputs": [],
   "source": [
    "X_all = np.concatenate([X, X_tfidf.toarray()], axis=1)"
   ]
  },
  {
   "cell_type": "code",
   "execution_count": 260,
   "metadata": {},
   "outputs": [
    {
     "data": {
      "text/plain": [
       "(20000, 1565)"
      ]
     },
     "execution_count": 260,
     "metadata": {},
     "output_type": "execute_result"
    }
   ],
   "source": [
    "X_all.shape"
   ]
  },
  {
   "cell_type": "code",
   "execution_count": 283,
   "metadata": {},
   "outputs": [],
   "source": [
    "from sklearn.model_selection import KFold\n",
    "from sklearn.model_selection import cross_validate\n",
    "from lightgbm import LGBMClassifier\n",
    "model = LGBMClassifier()\n",
    "kfolds = KFold(n_splits=5, shuffle=True, random_state=42)"
   ]
  },
  {
   "cell_type": "code",
   "execution_count": 263,
   "metadata": {},
   "outputs": [
    {
     "name": "stderr",
     "output_type": "stream",
     "text": [
      "[Parallel(n_jobs=1)]: Using backend SequentialBackend with 1 concurrent workers.\n"
     ]
    },
    {
     "name": "stdout",
     "output_type": "stream",
     "text": [
      "CPU times: user 2min 13s, sys: 5.92 s, total: 2min 19s\n",
      "Wall time: 48.1 s\n"
     ]
    },
    {
     "name": "stderr",
     "output_type": "stream",
     "text": [
      "[Parallel(n_jobs=1)]: Done   5 out of   5 | elapsed:   48.1s finished\n"
     ]
    }
   ],
   "source": [
    "%%time\n",
    "results = cross_validate(model, X_all, y, scoring='neg_log_loss', cv=kfolds, \n",
    "                         return_train_score=True, verbose=1)"
   ]
  },
  {
   "cell_type": "code",
   "execution_count": 264,
   "metadata": {},
   "outputs": [
    {
     "data": {
      "text/html": [
       "<div>\n",
       "<style scoped>\n",
       "    .dataframe tbody tr th:only-of-type {\n",
       "        vertical-align: middle;\n",
       "    }\n",
       "\n",
       "    .dataframe tbody tr th {\n",
       "        vertical-align: top;\n",
       "    }\n",
       "\n",
       "    .dataframe thead th {\n",
       "        text-align: right;\n",
       "    }\n",
       "</style>\n",
       "<table border=\"1\" class=\"dataframe\">\n",
       "  <thead>\n",
       "    <tr style=\"text-align: right;\">\n",
       "      <th></th>\n",
       "      <th>fit_time</th>\n",
       "      <th>score_time</th>\n",
       "      <th>test_score</th>\n",
       "      <th>train_score</th>\n",
       "    </tr>\n",
       "  </thead>\n",
       "  <tbody>\n",
       "    <tr>\n",
       "      <th>0</th>\n",
       "      <td>8.382034</td>\n",
       "      <td>0.295074</td>\n",
       "      <td>-0.827897</td>\n",
       "      <td>-0.665709</td>\n",
       "    </tr>\n",
       "    <tr>\n",
       "      <th>1</th>\n",
       "      <td>6.750721</td>\n",
       "      <td>0.291588</td>\n",
       "      <td>-0.843740</td>\n",
       "      <td>-0.661271</td>\n",
       "    </tr>\n",
       "    <tr>\n",
       "      <th>2</th>\n",
       "      <td>8.467809</td>\n",
       "      <td>0.401192</td>\n",
       "      <td>-0.836867</td>\n",
       "      <td>-0.661394</td>\n",
       "    </tr>\n",
       "    <tr>\n",
       "      <th>3</th>\n",
       "      <td>7.767224</td>\n",
       "      <td>0.342295</td>\n",
       "      <td>-0.815952</td>\n",
       "      <td>-0.667034</td>\n",
       "    </tr>\n",
       "    <tr>\n",
       "      <th>4</th>\n",
       "      <td>8.369102</td>\n",
       "      <td>0.309568</td>\n",
       "      <td>-0.831560</td>\n",
       "      <td>-0.662230</td>\n",
       "    </tr>\n",
       "  </tbody>\n",
       "</table>\n",
       "</div>"
      ],
      "text/plain": [
       "   fit_time  score_time  test_score  train_score\n",
       "0  8.382034    0.295074   -0.827897    -0.665709\n",
       "1  6.750721    0.291588   -0.843740    -0.661271\n",
       "2  8.467809    0.401192   -0.836867    -0.661394\n",
       "3  7.767224    0.342295   -0.815952    -0.667034\n",
       "4  8.369102    0.309568   -0.831560    -0.662230"
      ]
     },
     "execution_count": 264,
     "metadata": {},
     "output_type": "execute_result"
    }
   ],
   "source": [
    "pd.DataFrame(results)"
   ]
  },
  {
   "cell_type": "markdown",
   "metadata": {},
   "source": [
    "## N-grams TF-IDF"
   ]
  },
  {
   "cell_type": "code",
   "execution_count": 296,
   "metadata": {},
   "outputs": [
    {
     "data": {
      "text/plain": [
       "(20000, 2000)"
      ]
     },
     "execution_count": 296,
     "metadata": {},
     "output_type": "execute_result"
    }
   ],
   "source": [
    "vectorizer = TfidfVectorizer(max_df=0.8, min_df=10, stop_words=stopwords, \n",
    "                             ngram_range=(1,3), max_features=2000)\n",
    "X_tfidf = vectorizer.fit_transform(train.clean_comment)\n",
    "X_tfidf.shape"
   ]
  },
  {
   "cell_type": "code",
   "execution_count": 297,
   "metadata": {},
   "outputs": [
    {
     "name": "stdout",
     "output_type": "stream",
     "text": [
      "CPU times: user 2min 20s, sys: 5.35 s, total: 2min 25s\n",
      "Wall time: 53.3 s\n"
     ]
    }
   ],
   "source": [
    "%%time\n",
    "results = cross_validate(model, X_tfidf, y, scoring='neg_log_loss', cv=kfolds, \n",
    "                         return_train_score=True)"
   ]
  },
  {
   "cell_type": "code",
   "execution_count": 298,
   "metadata": {},
   "outputs": [
    {
     "data": {
      "text/html": [
       "<div>\n",
       "<style scoped>\n",
       "    .dataframe tbody tr th:only-of-type {\n",
       "        vertical-align: middle;\n",
       "    }\n",
       "\n",
       "    .dataframe tbody tr th {\n",
       "        vertical-align: top;\n",
       "    }\n",
       "\n",
       "    .dataframe thead th {\n",
       "        text-align: right;\n",
       "    }\n",
       "</style>\n",
       "<table border=\"1\" class=\"dataframe\">\n",
       "  <thead>\n",
       "    <tr style=\"text-align: right;\">\n",
       "      <th></th>\n",
       "      <th>fit_time</th>\n",
       "      <th>score_time</th>\n",
       "      <th>test_score</th>\n",
       "      <th>train_score</th>\n",
       "    </tr>\n",
       "  </thead>\n",
       "  <tbody>\n",
       "    <tr>\n",
       "      <th>0</th>\n",
       "      <td>9.933593</td>\n",
       "      <td>0.084156</td>\n",
       "      <td>-0.838813</td>\n",
       "      <td>-0.688879</td>\n",
       "    </tr>\n",
       "    <tr>\n",
       "      <th>1</th>\n",
       "      <td>7.785638</td>\n",
       "      <td>0.090851</td>\n",
       "      <td>-0.844693</td>\n",
       "      <td>-0.684781</td>\n",
       "    </tr>\n",
       "    <tr>\n",
       "      <th>2</th>\n",
       "      <td>9.562371</td>\n",
       "      <td>0.094110</td>\n",
       "      <td>-0.841344</td>\n",
       "      <td>-0.685359</td>\n",
       "    </tr>\n",
       "    <tr>\n",
       "      <th>3</th>\n",
       "      <td>7.600133</td>\n",
       "      <td>0.115838</td>\n",
       "      <td>-0.827403</td>\n",
       "      <td>-0.688153</td>\n",
       "    </tr>\n",
       "    <tr>\n",
       "      <th>4</th>\n",
       "      <td>15.908200</td>\n",
       "      <td>0.114154</td>\n",
       "      <td>-0.841416</td>\n",
       "      <td>-0.685181</td>\n",
       "    </tr>\n",
       "  </tbody>\n",
       "</table>\n",
       "</div>"
      ],
      "text/plain": [
       "    fit_time  score_time  test_score  train_score\n",
       "0   9.933593    0.084156   -0.838813    -0.688879\n",
       "1   7.785638    0.090851   -0.844693    -0.684781\n",
       "2   9.562371    0.094110   -0.841344    -0.685359\n",
       "3   7.600133    0.115838   -0.827403    -0.688153\n",
       "4  15.908200    0.114154   -0.841416    -0.685181"
      ]
     },
     "execution_count": 298,
     "metadata": {},
     "output_type": "execute_result"
    }
   ],
   "source": [
    "pd.DataFrame(results)"
   ]
  },
  {
   "cell_type": "markdown",
   "metadata": {},
   "source": [
    "## Word2Vec"
   ]
  },
  {
   "cell_type": "code",
   "execution_count": 271,
   "metadata": {},
   "outputs": [
    {
     "data": {
      "text/html": [
       "<div>\n",
       "<style scoped>\n",
       "    .dataframe tbody tr th:only-of-type {\n",
       "        vertical-align: middle;\n",
       "    }\n",
       "\n",
       "    .dataframe tbody tr th {\n",
       "        vertical-align: top;\n",
       "    }\n",
       "\n",
       "    .dataframe thead th {\n",
       "        text-align: right;\n",
       "    }\n",
       "</style>\n",
       "<table border=\"1\" class=\"dataframe\">\n",
       "  <thead>\n",
       "    <tr style=\"text-align: right;\">\n",
       "      <th></th>\n",
       "      <th>TOKEN</th>\n",
       "      <th>POS</th>\n",
       "      <th>DEP</th>\n",
       "    </tr>\n",
       "  </thead>\n",
       "  <tbody>\n",
       "    <tr>\n",
       "      <th>0</th>\n",
       "      <td></td>\n",
       "      <td>SPACE</td>\n",
       "      <td></td>\n",
       "    </tr>\n",
       "    <tr>\n",
       "      <th>1</th>\n",
       "      <td>La</td>\n",
       "      <td>DET</td>\n",
       "      <td>det</td>\n",
       "    </tr>\n",
       "    <tr>\n",
       "      <th>2</th>\n",
       "      <td>enseñanza</td>\n",
       "      <td>NOUN</td>\n",
       "      <td>nsubj</td>\n",
       "    </tr>\n",
       "    <tr>\n",
       "      <th>3</th>\n",
       "      <td>y</td>\n",
       "      <td>CONJ</td>\n",
       "      <td>cc</td>\n",
       "    </tr>\n",
       "    <tr>\n",
       "      <th>4</th>\n",
       "      <td>temas</td>\n",
       "      <td>NOUN</td>\n",
       "      <td>conj</td>\n",
       "    </tr>\n",
       "    <tr>\n",
       "      <th>5</th>\n",
       "      <td>son</td>\n",
       "      <td>AUX</td>\n",
       "      <td>cop</td>\n",
       "    </tr>\n",
       "    <tr>\n",
       "      <th>6</th>\n",
       "      <td>engaña</td>\n",
       "      <td>VERB</td>\n",
       "      <td>ROOT</td>\n",
       "    </tr>\n",
       "    <tr>\n",
       "      <th>7</th>\n",
       "      <td>muchachosel</td>\n",
       "      <td>ADJ</td>\n",
       "      <td>ccomp</td>\n",
       "    </tr>\n",
       "    <tr>\n",
       "      <th>8</th>\n",
       "      <td>curso</td>\n",
       "      <td>NOUN</td>\n",
       "      <td>obj</td>\n",
       "    </tr>\n",
       "    <tr>\n",
       "      <th>9</th>\n",
       "      <td>de</td>\n",
       "      <td>ADP</td>\n",
       "      <td>case</td>\n",
       "    </tr>\n",
       "  </tbody>\n",
       "</table>\n",
       "</div>"
      ],
      "text/plain": [
       "         TOKEN    POS    DEP\n",
       "0               SPACE       \n",
       "1           La    DET    det\n",
       "2    enseñanza   NOUN  nsubj\n",
       "3            y   CONJ     cc\n",
       "4        temas   NOUN   conj\n",
       "5          son    AUX    cop\n",
       "6       engaña   VERB   ROOT\n",
       "7  muchachosel    ADJ  ccomp\n",
       "8        curso   NOUN    obj\n",
       "9           de    ADP   case"
      ]
     },
     "execution_count": 271,
     "metadata": {},
     "output_type": "execute_result"
    }
   ],
   "source": [
    "import spacy\n",
    "\n",
    "nlp = spacy.load('es_core_news_md')\n",
    "doc = nlp(desc)\n",
    "pd.DataFrame([(token.text, token.pos_, token.dep_) for token in doc], \n",
    "             columns=['TOKEN', 'POS', 'DEP']).head(10)"
   ]
  },
  {
   "cell_type": "code",
   "execution_count": 278,
   "metadata": {},
   "outputs": [
    {
     "name": "stderr",
     "output_type": "stream",
     "text": [
      "100%|██████████| 20000/20000 [00:09<00:00, 2205.74it/s]\n"
     ]
    }
   ],
   "source": [
    "from tqdm import tqdm\n",
    "X_vec = np.array([nlp.tokenizer(d).vector for d in tqdm(train.clean_comment)])"
   ]
  },
  {
   "cell_type": "code",
   "execution_count": 279,
   "metadata": {},
   "outputs": [
    {
     "data": {
      "text/plain": [
       "(20000, 50)"
      ]
     },
     "execution_count": 279,
     "metadata": {},
     "output_type": "execute_result"
    }
   ],
   "source": [
    "X_vec.shape"
   ]
  },
  {
   "cell_type": "code",
   "execution_count": 281,
   "metadata": {},
   "outputs": [
    {
     "name": "stdout",
     "output_type": "stream",
     "text": [
      "CPU times: user 1min 13s, sys: 1.55 s, total: 1min 15s\n",
      "Wall time: 22 s\n"
     ]
    }
   ],
   "source": [
    "%%time\n",
    "results = cross_validate(model, X_vec, y, scoring='neg_log_loss', cv=kfolds, \n",
    "                         return_train_score=True)"
   ]
  },
  {
   "cell_type": "code",
   "execution_count": 282,
   "metadata": {},
   "outputs": [
    {
     "data": {
      "text/html": [
       "<div>\n",
       "<style scoped>\n",
       "    .dataframe tbody tr th:only-of-type {\n",
       "        vertical-align: middle;\n",
       "    }\n",
       "\n",
       "    .dataframe tbody tr th {\n",
       "        vertical-align: top;\n",
       "    }\n",
       "\n",
       "    .dataframe thead th {\n",
       "        text-align: right;\n",
       "    }\n",
       "</style>\n",
       "<table border=\"1\" class=\"dataframe\">\n",
       "  <thead>\n",
       "    <tr style=\"text-align: right;\">\n",
       "      <th></th>\n",
       "      <th>fit_time</th>\n",
       "      <th>score_time</th>\n",
       "      <th>test_score</th>\n",
       "      <th>train_score</th>\n",
       "    </tr>\n",
       "  </thead>\n",
       "  <tbody>\n",
       "    <tr>\n",
       "      <th>0</th>\n",
       "      <td>3.642960</td>\n",
       "      <td>0.063274</td>\n",
       "      <td>-0.862956</td>\n",
       "      <td>-0.567599</td>\n",
       "    </tr>\n",
       "    <tr>\n",
       "      <th>1</th>\n",
       "      <td>3.925763</td>\n",
       "      <td>0.064851</td>\n",
       "      <td>-0.857101</td>\n",
       "      <td>-0.564874</td>\n",
       "    </tr>\n",
       "    <tr>\n",
       "      <th>2</th>\n",
       "      <td>4.004475</td>\n",
       "      <td>0.073174</td>\n",
       "      <td>-0.867908</td>\n",
       "      <td>-0.564393</td>\n",
       "    </tr>\n",
       "    <tr>\n",
       "      <th>3</th>\n",
       "      <td>5.446663</td>\n",
       "      <td>0.071832</td>\n",
       "      <td>-0.846576</td>\n",
       "      <td>-0.570400</td>\n",
       "    </tr>\n",
       "    <tr>\n",
       "      <th>4</th>\n",
       "      <td>3.576001</td>\n",
       "      <td>0.052750</td>\n",
       "      <td>-0.872690</td>\n",
       "      <td>-0.562467</td>\n",
       "    </tr>\n",
       "  </tbody>\n",
       "</table>\n",
       "</div>"
      ],
      "text/plain": [
       "   fit_time  score_time  test_score  train_score\n",
       "0  3.642960    0.063274   -0.862956    -0.567599\n",
       "1  3.925763    0.064851   -0.857101    -0.564874\n",
       "2  4.004475    0.073174   -0.867908    -0.564393\n",
       "3  5.446663    0.071832   -0.846576    -0.570400\n",
       "4  3.576001    0.052750   -0.872690    -0.562467"
      ]
     },
     "execution_count": 282,
     "metadata": {},
     "output_type": "execute_result"
    }
   ],
   "source": [
    "pd.DataFrame(results)"
   ]
  },
  {
   "cell_type": "markdown",
   "metadata": {},
   "source": [
    "## Word2Vec + Metadata"
   ]
  },
  {
   "cell_type": "code",
   "execution_count": 284,
   "metadata": {},
   "outputs": [],
   "source": [
    "X_all = np.concatenate([X, X_vec], axis=1)"
   ]
  },
  {
   "cell_type": "code",
   "execution_count": 286,
   "metadata": {},
   "outputs": [
    {
     "name": "stdout",
     "output_type": "stream",
     "text": [
      "CPU times: user 1min 28s, sys: 3.12 s, total: 1min 31s\n",
      "Wall time: 29.8 s\n"
     ]
    }
   ],
   "source": [
    "%%time\n",
    "results = cross_validate(model, X_all, y, scoring='neg_log_loss', cv=kfolds, \n",
    "                         return_train_score=True)"
   ]
  },
  {
   "cell_type": "code",
   "execution_count": 287,
   "metadata": {},
   "outputs": [
    {
     "data": {
      "text/html": [
       "<div>\n",
       "<style scoped>\n",
       "    .dataframe tbody tr th:only-of-type {\n",
       "        vertical-align: middle;\n",
       "    }\n",
       "\n",
       "    .dataframe tbody tr th {\n",
       "        vertical-align: top;\n",
       "    }\n",
       "\n",
       "    .dataframe thead th {\n",
       "        text-align: right;\n",
       "    }\n",
       "</style>\n",
       "<table border=\"1\" class=\"dataframe\">\n",
       "  <thead>\n",
       "    <tr style=\"text-align: right;\">\n",
       "      <th></th>\n",
       "      <th>fit_time</th>\n",
       "      <th>score_time</th>\n",
       "      <th>test_score</th>\n",
       "      <th>train_score</th>\n",
       "    </tr>\n",
       "  </thead>\n",
       "  <tbody>\n",
       "    <tr>\n",
       "      <th>0</th>\n",
       "      <td>6.252914</td>\n",
       "      <td>0.071246</td>\n",
       "      <td>-0.854131</td>\n",
       "      <td>-0.553726</td>\n",
       "    </tr>\n",
       "    <tr>\n",
       "      <th>1</th>\n",
       "      <td>5.648055</td>\n",
       "      <td>0.066187</td>\n",
       "      <td>-0.856376</td>\n",
       "      <td>-0.552621</td>\n",
       "    </tr>\n",
       "    <tr>\n",
       "      <th>2</th>\n",
       "      <td>6.498347</td>\n",
       "      <td>0.063550</td>\n",
       "      <td>-0.859821</td>\n",
       "      <td>-0.550752</td>\n",
       "    </tr>\n",
       "    <tr>\n",
       "      <th>3</th>\n",
       "      <td>5.129307</td>\n",
       "      <td>0.061010</td>\n",
       "      <td>-0.836127</td>\n",
       "      <td>-0.557334</td>\n",
       "    </tr>\n",
       "    <tr>\n",
       "      <th>4</th>\n",
       "      <td>4.315972</td>\n",
       "      <td>0.062753</td>\n",
       "      <td>-0.856046</td>\n",
       "      <td>-0.551659</td>\n",
       "    </tr>\n",
       "  </tbody>\n",
       "</table>\n",
       "</div>"
      ],
      "text/plain": [
       "   fit_time  score_time  test_score  train_score\n",
       "0  6.252914    0.071246   -0.854131    -0.553726\n",
       "1  5.648055    0.066187   -0.856376    -0.552621\n",
       "2  6.498347    0.063550   -0.859821    -0.550752\n",
       "3  5.129307    0.061010   -0.836127    -0.557334\n",
       "4  4.315972    0.062753   -0.856046    -0.551659"
      ]
     },
     "execution_count": 287,
     "metadata": {},
     "output_type": "execute_result"
    }
   ],
   "source": [
    "pd.DataFrame(results)"
   ]
  },
  {
   "cell_type": "markdown",
   "metadata": {},
   "source": [
    "# Train with all data"
   ]
  },
  {
   "cell_type": "code",
   "execution_count": 436,
   "metadata": {},
   "outputs": [],
   "source": [
    "train = pd.read_excel('../data/train_universidad.xlsx', sheet_name=1)"
   ]
  },
  {
   "cell_type": "code",
   "execution_count": 437,
   "metadata": {},
   "outputs": [],
   "source": [
    "train.columns = ['_'.join(c.strip().lower().split()) for c in train]"
   ]
  },
  {
   "cell_type": "code",
   "execution_count": 438,
   "metadata": {},
   "outputs": [
    {
     "data": {
      "text/html": [
       "<div>\n",
       "<style scoped>\n",
       "    .dataframe tbody tr th:only-of-type {\n",
       "        vertical-align: middle;\n",
       "    }\n",
       "\n",
       "    .dataframe tbody tr th {\n",
       "        vertical-align: top;\n",
       "    }\n",
       "\n",
       "    .dataframe thead th {\n",
       "        text-align: right;\n",
       "    }\n",
       "</style>\n",
       "<table border=\"1\" class=\"dataframe\">\n",
       "  <thead>\n",
       "    <tr style=\"text-align: right;\">\n",
       "      <th></th>\n",
       "      <th>cod_encuestado</th>\n",
       "      <th>nombre_campus</th>\n",
       "      <th>nivel_actual</th>\n",
       "      <th>clave_de_carrera</th>\n",
       "      <th>ciclo</th>\n",
       "      <th>comentario</th>\n",
       "      <th>ind_gea</th>\n",
       "      <th>ind_delegado</th>\n",
       "      <th>cant_cursos_matricu_sin_ingles</th>\n",
       "      <th>uod_depostista_ind_deportista</th>\n",
       "      <th>nps</th>\n",
       "    </tr>\n",
       "  </thead>\n",
       "  <tbody>\n",
       "    <tr>\n",
       "      <th>0</th>\n",
       "      <td>13501</td>\n",
       "      <td>1</td>\n",
       "      <td>AC</td>\n",
       "      <td>3</td>\n",
       "      <td>2</td>\n",
       "      <td>Me gusta la u es paja bro y soy pito</td>\n",
       "      <td>NaN</td>\n",
       "      <td>Delegado</td>\n",
       "      <td>6.0</td>\n",
       "      <td>NaN</td>\n",
       "      <td>3</td>\n",
       "    </tr>\n",
       "    <tr>\n",
       "      <th>1</th>\n",
       "      <td>23622</td>\n",
       "      <td>3</td>\n",
       "      <td>AC</td>\n",
       "      <td>25</td>\n",
       "      <td>1</td>\n",
       "      <td>El metodo de blended no le hace bien a todos</td>\n",
       "      <td>NaN</td>\n",
       "      <td>Delegado</td>\n",
       "      <td>5.0</td>\n",
       "      <td>NaN</td>\n",
       "      <td>3</td>\n",
       "    </tr>\n",
       "    <tr>\n",
       "      <th>2</th>\n",
       "      <td>8354</td>\n",
       "      <td>4</td>\n",
       "      <td>AC</td>\n",
       "      <td>31</td>\n",
       "      <td>1</td>\n",
       "      <td>Los profesores, sus métodos de enseñanza bes ...</td>\n",
       "      <td>NaN</td>\n",
       "      <td>NaN</td>\n",
       "      <td>5.0</td>\n",
       "      <td>NaN</td>\n",
       "      <td>4</td>\n",
       "    </tr>\n",
       "    <tr>\n",
       "      <th>3</th>\n",
       "      <td>17745</td>\n",
       "      <td>4</td>\n",
       "      <td>AC</td>\n",
       "      <td>28</td>\n",
       "      <td>6</td>\n",
       "      <td>Porque posee gran mayoría de profesores espec...</td>\n",
       "      <td>GEA</td>\n",
       "      <td>NaN</td>\n",
       "      <td>6.0</td>\n",
       "      <td>NaN</td>\n",
       "      <td>3</td>\n",
       "    </tr>\n",
       "    <tr>\n",
       "      <th>4</th>\n",
       "      <td>10867</td>\n",
       "      <td>3</td>\n",
       "      <td>AC</td>\n",
       "      <td>34</td>\n",
       "      <td>1</td>\n",
       "      <td>La pencion</td>\n",
       "      <td>NaN</td>\n",
       "      <td>NaN</td>\n",
       "      <td>6.0</td>\n",
       "      <td>NaN</td>\n",
       "      <td>3</td>\n",
       "    </tr>\n",
       "  </tbody>\n",
       "</table>\n",
       "</div>"
      ],
      "text/plain": [
       "   cod_encuestado  nombre_campus nivel_actual  clave_de_carrera  ciclo  \\\n",
       "0           13501              1           AC                 3      2   \n",
       "1           23622              3           AC                25      1   \n",
       "2            8354              4           AC                31      1   \n",
       "3           17745              4           AC                28      6   \n",
       "4           10867              3           AC                34      1   \n",
       "\n",
       "                                          comentario ind_gea ind_delegado  \\\n",
       "0               Me gusta la u es paja bro y soy pito     NaN     Delegado   \n",
       "1       El metodo de blended no le hace bien a todos     NaN     Delegado   \n",
       "2   Los profesores, sus métodos de enseñanza bes ...     NaN          NaN   \n",
       "3   Porque posee gran mayoría de profesores espec...     GEA          NaN   \n",
       "4                                         La pencion     NaN          NaN   \n",
       "\n",
       "   cant_cursos_matricu_sin_ingles uod_depostista_ind_deportista  nps  \n",
       "0                             6.0                           NaN    3  \n",
       "1                             5.0                           NaN    3  \n",
       "2                             5.0                           NaN    4  \n",
       "3                             6.0                           NaN    3  \n",
       "4                             6.0                           NaN    3  "
      ]
     },
     "execution_count": 438,
     "metadata": {},
     "output_type": "execute_result"
    }
   ],
   "source": [
    "train.head()"
   ]
  },
  {
   "cell_type": "code",
   "execution_count": 439,
   "metadata": {},
   "outputs": [],
   "source": [
    "import re, unicodedata\n",
    "from sklearn.preprocessing import LabelEncoder\n",
    "from sklearn.feature_extraction.text import TfidfVectorizer\n",
    "\n",
    "def clean(s):\n",
    "    s = s.lower()\n",
    "    s = unicodedata.normalize('NFKD', s).encode('ascii', 'ignore') \\\n",
    "                   .decode('utf-8', 'ignore')\n",
    "    s = re.sub('[^a-z]+', ' ', s)\n",
    "    return s.strip()"
   ]
  },
  {
   "cell_type": "code",
   "execution_count": 440,
   "metadata": {},
   "outputs": [],
   "source": [
    "cols = [c for c in train if c not in ['cod_encuestado', 'comentario', 'nps']]\n",
    "X, y = train[cols].copy(), train.nps"
   ]
  },
  {
   "cell_type": "code",
   "execution_count": 441,
   "metadata": {},
   "outputs": [],
   "source": [
    "binary_cols = ['ind_gea', 'ind_delegado', 'uod_depostista_ind_deportista']\n",
    "for c in binary_cols:\n",
    "    X[c] = X[c].notnull()\n",
    "X.fillna(0, inplace=True)"
   ]
  },
  {
   "cell_type": "code",
   "execution_count": 442,
   "metadata": {},
   "outputs": [],
   "source": [
    "lencoders = {}\n",
    "cat_cols = ['nombre_campus', 'nivel_actual', 'clave_de_carrera']\n",
    "for c in cat_cols:\n",
    "    lencoders[c] = LabelEncoder()\n",
    "    X[c] = lencoders[c].fit_transform(X[c])"
   ]
  },
  {
   "cell_type": "code",
   "execution_count": 444,
   "metadata": {},
   "outputs": [],
   "source": [
    "X['nwords_comment'] = train.comentario.apply(lambda x: len(x.split()))\n",
    "X['nupper_comment'] = train.comentario.apply(lambda x: \\\n",
    "                        len([c for c in x if c.isupper()]) / len(x.split()))"
   ]
  },
  {
   "cell_type": "code",
   "execution_count": 445,
   "metadata": {},
   "outputs": [],
   "source": [
    "clean_comments = train.comentario.apply(clean)\n",
    "vectorizer = TfidfVectorizer(max_df=0.7, min_df=10, stop_words=stopwords)\n",
    "X_tfidf = vectorizer.fit_transform(clean_comments)"
   ]
  },
  {
   "cell_type": "code",
   "execution_count": 336,
   "metadata": {},
   "outputs": [
    {
     "data": {
      "text/plain": [
       "(20000, 1565)"
      ]
     },
     "execution_count": 336,
     "metadata": {},
     "output_type": "execute_result"
    }
   ],
   "source": [
    "X_all = np.concatenate([X, X_tfidf.toarray()], axis=1)\n",
    "X_all.shape"
   ]
  },
  {
   "cell_type": "code",
   "execution_count": 337,
   "metadata": {},
   "outputs": [],
   "source": [
    "from lightgbm import LGBMClassifier\n",
    "model = LGBMClassifier()"
   ]
  },
  {
   "cell_type": "code",
   "execution_count": 338,
   "metadata": {},
   "outputs": [
    {
     "data": {
      "text/plain": [
       "LGBMClassifier(boosting_type='gbdt', class_weight=None, colsample_bytree=1.0,\n",
       "        importance_type='split', learning_rate=0.1, max_depth=-1,\n",
       "        min_child_samples=20, min_child_weight=0.001, min_split_gain=0.0,\n",
       "        n_estimators=100, n_jobs=-1, num_leaves=31, objective=None,\n",
       "        random_state=None, reg_alpha=0.0, reg_lambda=0.0, silent=True,\n",
       "        subsample=1.0, subsample_for_bin=200000, subsample_freq=0)"
      ]
     },
     "execution_count": 338,
     "metadata": {},
     "output_type": "execute_result"
    }
   ],
   "source": [
    "model.fit(X_all, y)"
   ]
  },
  {
   "cell_type": "markdown",
   "metadata": {},
   "source": [
    "## Feature importance"
   ]
  },
  {
   "cell_type": "code",
   "execution_count": 446,
   "metadata": {},
   "outputs": [],
   "source": [
    "imp = pd.DataFrame()\n",
    "imp['feature'] = X.columns.tolist() + \\\n",
    "                [f'tfidf_{c}' for c in vectorizer.get_feature_names()]\n",
    "imp['importance'] = model.feature_importances_"
   ]
  },
  {
   "cell_type": "code",
   "execution_count": 447,
   "metadata": {},
   "outputs": [
    {
     "data": {
      "text/html": [
       "<div>\n",
       "<style scoped>\n",
       "    .dataframe tbody tr th:only-of-type {\n",
       "        vertical-align: middle;\n",
       "    }\n",
       "\n",
       "    .dataframe tbody tr th {\n",
       "        vertical-align: top;\n",
       "    }\n",
       "\n",
       "    .dataframe thead th {\n",
       "        text-align: right;\n",
       "    }\n",
       "</style>\n",
       "<table border=\"1\" class=\"dataframe\">\n",
       "  <thead>\n",
       "    <tr style=\"text-align: right;\">\n",
       "      <th></th>\n",
       "      <th>feature</th>\n",
       "      <th>importance</th>\n",
       "    </tr>\n",
       "  </thead>\n",
       "  <tbody>\n",
       "    <tr>\n",
       "      <th>8</th>\n",
       "      <td>nwords_comment</td>\n",
       "      <td>334</td>\n",
       "    </tr>\n",
       "    <tr>\n",
       "      <th>2</th>\n",
       "      <td>clave_de_carrera</td>\n",
       "      <td>231</td>\n",
       "    </tr>\n",
       "    <tr>\n",
       "      <th>9</th>\n",
       "      <td>nupper_comment</td>\n",
       "      <td>195</td>\n",
       "    </tr>\n",
       "    <tr>\n",
       "      <th>571</th>\n",
       "      <td>tfidf_ensenanza</td>\n",
       "      <td>173</td>\n",
       "    </tr>\n",
       "    <tr>\n",
       "      <th>3</th>\n",
       "      <td>ciclo</td>\n",
       "      <td>168</td>\n",
       "    </tr>\n",
       "    <tr>\n",
       "      <th>944</th>\n",
       "      <td>tfidf_mejorar</td>\n",
       "      <td>142</td>\n",
       "    </tr>\n",
       "    <tr>\n",
       "      <th>201</th>\n",
       "      <td>tfidf_buena</td>\n",
       "      <td>134</td>\n",
       "    </tr>\n",
       "    <tr>\n",
       "      <th>916</th>\n",
       "      <td>tfidf_mas</td>\n",
       "      <td>131</td>\n",
       "    </tr>\n",
       "    <tr>\n",
       "      <th>1199</th>\n",
       "      <td>tfidf_profesores</td>\n",
       "      <td>128</td>\n",
       "    </tr>\n",
       "    <tr>\n",
       "      <th>643</th>\n",
       "      <td>tfidf_exigencia</td>\n",
       "      <td>128</td>\n",
       "    </tr>\n",
       "  </tbody>\n",
       "</table>\n",
       "</div>"
      ],
      "text/plain": [
       "               feature  importance\n",
       "8       nwords_comment         334\n",
       "2     clave_de_carrera         231\n",
       "9       nupper_comment         195\n",
       "571    tfidf_ensenanza         173\n",
       "3                ciclo         168\n",
       "944      tfidf_mejorar         142\n",
       "201        tfidf_buena         134\n",
       "916          tfidf_mas         131\n",
       "1199  tfidf_profesores         128\n",
       "643    tfidf_exigencia         128"
      ]
     },
     "execution_count": 447,
     "metadata": {},
     "output_type": "execute_result"
    }
   ],
   "source": [
    "imp.sort_values('importance', ascending=False)[:10]"
   ]
  },
  {
   "cell_type": "code",
   "execution_count": 348,
   "metadata": {},
   "outputs": [
    {
     "data": {
      "text/html": [
       "<div>\n",
       "<style scoped>\n",
       "    .dataframe tbody tr th:only-of-type {\n",
       "        vertical-align: middle;\n",
       "    }\n",
       "\n",
       "    .dataframe tbody tr th {\n",
       "        vertical-align: top;\n",
       "    }\n",
       "\n",
       "    .dataframe thead th {\n",
       "        text-align: right;\n",
       "    }\n",
       "</style>\n",
       "<table border=\"1\" class=\"dataframe\">\n",
       "  <thead>\n",
       "    <tr style=\"text-align: right;\">\n",
       "      <th></th>\n",
       "      <th>feature</th>\n",
       "      <th>importance</th>\n",
       "    </tr>\n",
       "  </thead>\n",
       "  <tbody>\n",
       "    <tr>\n",
       "      <th>836</th>\n",
       "      <td>tfidf_justo</td>\n",
       "      <td>0</td>\n",
       "    </tr>\n",
       "    <tr>\n",
       "      <th>237</th>\n",
       "      <td>tfidf_capacidad</td>\n",
       "      <td>0</td>\n",
       "    </tr>\n",
       "    <tr>\n",
       "      <th>838</th>\n",
       "      <td>tfidf_laborales</td>\n",
       "      <td>0</td>\n",
       "    </tr>\n",
       "    <tr>\n",
       "      <th>840</th>\n",
       "      <td>tfidf_laboratorios</td>\n",
       "      <td>0</td>\n",
       "    </tr>\n",
       "    <tr>\n",
       "      <th>236</th>\n",
       "      <td>tfidf_caos</td>\n",
       "      <td>0</td>\n",
       "    </tr>\n",
       "    <tr>\n",
       "      <th>842</th>\n",
       "      <td>tfidf_lamentablemente</td>\n",
       "      <td>0</td>\n",
       "    </tr>\n",
       "    <tr>\n",
       "      <th>843</th>\n",
       "      <td>tfidf_larga</td>\n",
       "      <td>0</td>\n",
       "    </tr>\n",
       "    <tr>\n",
       "      <th>844</th>\n",
       "      <td>tfidf_largo</td>\n",
       "      <td>0</td>\n",
       "    </tr>\n",
       "    <tr>\n",
       "      <th>845</th>\n",
       "      <td>tfidf_lectura</td>\n",
       "      <td>0</td>\n",
       "    </tr>\n",
       "    <tr>\n",
       "      <th>1564</th>\n",
       "      <td>tfidf_zonas</td>\n",
       "      <td>0</td>\n",
       "    </tr>\n",
       "  </tbody>\n",
       "</table>\n",
       "</div>"
      ],
      "text/plain": [
       "                    feature  importance\n",
       "836             tfidf_justo           0\n",
       "237         tfidf_capacidad           0\n",
       "838         tfidf_laborales           0\n",
       "840      tfidf_laboratorios           0\n",
       "236              tfidf_caos           0\n",
       "842   tfidf_lamentablemente           0\n",
       "843             tfidf_larga           0\n",
       "844             tfidf_largo           0\n",
       "845           tfidf_lectura           0\n",
       "1564            tfidf_zonas           0"
      ]
     },
     "execution_count": 348,
     "metadata": {},
     "output_type": "execute_result"
    }
   ],
   "source": [
    "imp.sort_values('importance', ascending=False)[-10:]"
   ]
  },
  {
   "cell_type": "markdown",
   "metadata": {},
   "source": [
    "# Predict test"
   ]
  },
  {
   "cell_type": "code",
   "execution_count": 448,
   "metadata": {},
   "outputs": [],
   "source": [
    "test = pd.read_excel('../data/test_universidad.xlsx', sheet_name=0)"
   ]
  },
  {
   "cell_type": "code",
   "execution_count": 449,
   "metadata": {},
   "outputs": [],
   "source": [
    "test.columns = ['_'.join(c.strip().lower().split()) for c in test]"
   ]
  },
  {
   "cell_type": "code",
   "execution_count": 450,
   "metadata": {},
   "outputs": [
    {
     "data": {
      "text/html": [
       "<div>\n",
       "<style scoped>\n",
       "    .dataframe tbody tr th:only-of-type {\n",
       "        vertical-align: middle;\n",
       "    }\n",
       "\n",
       "    .dataframe tbody tr th {\n",
       "        vertical-align: top;\n",
       "    }\n",
       "\n",
       "    .dataframe thead th {\n",
       "        text-align: right;\n",
       "    }\n",
       "</style>\n",
       "<table border=\"1\" class=\"dataframe\">\n",
       "  <thead>\n",
       "    <tr style=\"text-align: right;\">\n",
       "      <th></th>\n",
       "      <th>cod_encuestado</th>\n",
       "      <th>nombre_campus</th>\n",
       "      <th>nivel_actual</th>\n",
       "      <th>clave_de_carrera</th>\n",
       "      <th>ciclo</th>\n",
       "      <th>comentario</th>\n",
       "      <th>ind_gea</th>\n",
       "      <th>ind_delegado</th>\n",
       "      <th>cant_cursos_matricu_sin_ingles</th>\n",
       "      <th>uod_depostista_ind_deportista</th>\n",
       "    </tr>\n",
       "  </thead>\n",
       "  <tbody>\n",
       "    <tr>\n",
       "      <th>0</th>\n",
       "      <td>15118</td>\n",
       "      <td>3</td>\n",
       "      <td>AC</td>\n",
       "      <td>7</td>\n",
       "      <td>6</td>\n",
       "      <td>La universidad debería de ser mas exigente co...</td>\n",
       "      <td>NaN</td>\n",
       "      <td>NaN</td>\n",
       "      <td>5.0</td>\n",
       "      <td>Deportista</td>\n",
       "    </tr>\n",
       "    <tr>\n",
       "      <th>1</th>\n",
       "      <td>6715</td>\n",
       "      <td>3</td>\n",
       "      <td>AC</td>\n",
       "      <td>39</td>\n",
       "      <td>1</td>\n",
       "      <td>No me han fallafo en nada</td>\n",
       "      <td>NaN</td>\n",
       "      <td>NaN</td>\n",
       "      <td>5.0</td>\n",
       "      <td>NaN</td>\n",
       "    </tr>\n",
       "    <tr>\n",
       "      <th>2</th>\n",
       "      <td>27492</td>\n",
       "      <td>3</td>\n",
       "      <td>FC</td>\n",
       "      <td>101</td>\n",
       "      <td>4</td>\n",
       "      <td>Prestigio, calidad de enseñanza de los profes...</td>\n",
       "      <td>NaN</td>\n",
       "      <td>NaN</td>\n",
       "      <td>5.0</td>\n",
       "      <td>NaN</td>\n",
       "    </tr>\n",
       "    <tr>\n",
       "      <th>3</th>\n",
       "      <td>29693</td>\n",
       "      <td>2</td>\n",
       "      <td>FC</td>\n",
       "      <td>101</td>\n",
       "      <td>4</td>\n",
       "      <td>Educacion de calidad y con exigencia.</td>\n",
       "      <td>NaN</td>\n",
       "      <td>NaN</td>\n",
       "      <td>5.0</td>\n",
       "      <td>NaN</td>\n",
       "    </tr>\n",
       "    <tr>\n",
       "      <th>4</th>\n",
       "      <td>29677</td>\n",
       "      <td>2</td>\n",
       "      <td>FC</td>\n",
       "      <td>100</td>\n",
       "      <td>6</td>\n",
       "      <td>No cumplen con los convenios académicos de de...</td>\n",
       "      <td>NaN</td>\n",
       "      <td>NaN</td>\n",
       "      <td>4.0</td>\n",
       "      <td>NaN</td>\n",
       "    </tr>\n",
       "  </tbody>\n",
       "</table>\n",
       "</div>"
      ],
      "text/plain": [
       "   cod_encuestado  nombre_campus nivel_actual  clave_de_carrera  ciclo  \\\n",
       "0           15118              3           AC                 7      6   \n",
       "1            6715              3           AC                39      1   \n",
       "2           27492              3           FC               101      4   \n",
       "3           29693              2           FC               101      4   \n",
       "4           29677              2           FC               100      6   \n",
       "\n",
       "                                          comentario ind_gea ind_delegado  \\\n",
       "0   La universidad debería de ser mas exigente co...     NaN          NaN   \n",
       "1                          No me han fallafo en nada     NaN          NaN   \n",
       "2   Prestigio, calidad de enseñanza de los profes...     NaN          NaN   \n",
       "3              Educacion de calidad y con exigencia.     NaN          NaN   \n",
       "4   No cumplen con los convenios académicos de de...     NaN          NaN   \n",
       "\n",
       "   cant_cursos_matricu_sin_ingles uod_depostista_ind_deportista  \n",
       "0                             5.0                    Deportista  \n",
       "1                             5.0                           NaN  \n",
       "2                             5.0                           NaN  \n",
       "3                             5.0                           NaN  \n",
       "4                             4.0                           NaN  "
      ]
     },
     "execution_count": 450,
     "metadata": {},
     "output_type": "execute_result"
    }
   ],
   "source": [
    "test.head()"
   ]
  },
  {
   "cell_type": "code",
   "execution_count": 451,
   "metadata": {},
   "outputs": [],
   "source": [
    "test_data = list(test.head(3).to_dict(orient='index').values())"
   ]
  },
  {
   "cell_type": "code",
   "execution_count": 452,
   "metadata": {},
   "outputs": [],
   "source": [
    "from pprint import pprint"
   ]
  },
  {
   "cell_type": "code",
   "execution_count": 453,
   "metadata": {},
   "outputs": [
    {
     "name": "stdout",
     "output_type": "stream",
     "text": [
      "[{'cant_cursos_matricu_sin_ingles': 5.0,\n",
      "  'ciclo': 6,\n",
      "  'clave_de_carrera': 7,\n",
      "  'cod_encuestado': 15118,\n",
      "  'comentario': ' La universidad debería de ser mas exigente con respecto a '\n",
      "                'los que ingresan a la universidad. Mucha diferencia '\n",
      "                'intelectual',\n",
      "  'ind_delegado': nan,\n",
      "  'ind_gea': nan,\n",
      "  'nivel_actual': 'AC',\n",
      "  'nombre_campus': 3,\n",
      "  'uod_depostista_ind_deportista': 'Deportista'},\n",
      " {'cant_cursos_matricu_sin_ingles': 5.0,\n",
      "  'ciclo': 1,\n",
      "  'clave_de_carrera': 39,\n",
      "  'cod_encuestado': 6715,\n",
      "  'comentario': ' No me han fallafo en nada',\n",
      "  'ind_delegado': nan,\n",
      "  'ind_gea': nan,\n",
      "  'nivel_actual': 'AC',\n",
      "  'nombre_campus': 3,\n",
      "  'uod_depostista_ind_deportista': nan},\n",
      " {'cant_cursos_matricu_sin_ingles': 5.0,\n",
      "  'ciclo': 4,\n",
      "  'clave_de_carrera': 101,\n",
      "  'cod_encuestado': 27492,\n",
      "  'comentario': ' Prestigio, calidad de enseñanza de los profesores y variedad '\n",
      "                'de horarios.',\n",
      "  'ind_delegado': nan,\n",
      "  'ind_gea': nan,\n",
      "  'nivel_actual': 'FC',\n",
      "  'nombre_campus': 3,\n",
      "  'uod_depostista_ind_deportista': nan}]\n"
     ]
    }
   ],
   "source": [
    "pprint(test_data)"
   ]
  },
  {
   "cell_type": "code",
   "execution_count": 454,
   "metadata": {},
   "outputs": [],
   "source": [
    "def preprocess(data, filter_cols, binary_cols, cat_cols, lencoders, vectorizer):\n",
    "    df = pd.DataFrame(data)\n",
    "    X = df[filter_cols].copy()\n",
    "    for c in binary_cols:\n",
    "        X[c] = X[c].notnull()\n",
    "    X.fillna(0, inplace=True)\n",
    "    for c in cat_cols:\n",
    "        X[c] = lencoders[c].transform(X[c])\n",
    "    X['nwords_comment'] = df.comentario.apply(lambda x: len(x.split()))\n",
    "    X['nupper_comment'] = df.comentario.apply(lambda x: \\\n",
    "                            len([c for c in x if c.isupper()]) / len(x.split()))\n",
    "    clean_comments = df.comentario.apply(clean)\n",
    "    X_tfidf = vectorizer.transform(clean_comments)\n",
    "    X_all = np.concatenate([X, X_tfidf.toarray()], axis=1)\n",
    "    return X_all"
   ]
  },
  {
   "cell_type": "code",
   "execution_count": 455,
   "metadata": {},
   "outputs": [],
   "source": [
    "X_test = preprocess(test_data, cols, binary_cols, cat_cols, lencoders,\n",
    "                    vectorizer)"
   ]
  },
  {
   "cell_type": "code",
   "execution_count": 456,
   "metadata": {},
   "outputs": [
    {
     "data": {
      "text/plain": [
       "(3, 1565)"
      ]
     },
     "execution_count": 456,
     "metadata": {},
     "output_type": "execute_result"
    }
   ],
   "source": [
    "X_test.shape"
   ]
  },
  {
   "cell_type": "code",
   "execution_count": 457,
   "metadata": {},
   "outputs": [
    {
     "data": {
      "text/plain": [
       "[3, 3, 4]"
      ]
     },
     "execution_count": 457,
     "metadata": {},
     "output_type": "execute_result"
    }
   ],
   "source": [
    "list(model.predict(X_test))"
   ]
  },
  {
   "cell_type": "code",
   "execution_count": 458,
   "metadata": {},
   "outputs": [],
   "source": [
    "def predict(model, data, filter_cols, binary_cols, cat_cols, \n",
    "            lencoders, vectorizer):\n",
    "    X = preprocess(data, filter_cols, binary_cols, cat_cols, lencoders,\n",
    "                    vectorizer)\n",
    "    return list(model.predict(X))"
   ]
  },
  {
   "cell_type": "code",
   "execution_count": 459,
   "metadata": {},
   "outputs": [
    {
     "data": {
      "text/plain": [
       "[3, 3, 4]"
      ]
     },
     "execution_count": 459,
     "metadata": {},
     "output_type": "execute_result"
    }
   ],
   "source": [
    "predict(model, test_data, cols, binary_cols, cat_cols, lencoders,\n",
    "                    vectorizer)"
   ]
  },
  {
   "cell_type": "code",
   "execution_count": 460,
   "metadata": {},
   "outputs": [],
   "source": [
    "params = {\n",
    "    'filter_cols': cols,\n",
    "    'binary_cols': binary_cols,\n",
    "    'cat_cols': cat_cols,\n",
    "    'lencoders': lencoders,\n",
    "    'vectorizer': vectorizer\n",
    "}"
   ]
  },
  {
   "cell_type": "code",
   "execution_count": 461,
   "metadata": {},
   "outputs": [
    {
     "name": "stdout",
     "output_type": "stream",
     "text": [
      "CPU times: user 13.2 ms, sys: 2.6 ms, total: 15.9 ms\n",
      "Wall time: 13.5 ms\n"
     ]
    },
    {
     "data": {
      "text/plain": [
       "[3, 3, 4]"
      ]
     },
     "execution_count": 461,
     "metadata": {},
     "output_type": "execute_result"
    }
   ],
   "source": [
    "%%time\n",
    "predict(model, test_data, **params)"
   ]
  },
  {
   "cell_type": "markdown",
   "metadata": {},
   "source": [
    "## Export model and params"
   ]
  },
  {
   "cell_type": "code",
   "execution_count": 463,
   "metadata": {},
   "outputs": [
    {
     "data": {
      "text/plain": [
       "['model.joblib']"
      ]
     },
     "execution_count": 463,
     "metadata": {},
     "output_type": "execute_result"
    }
   ],
   "source": [
    "from joblib import dump, load\n",
    "dump(model, 'model.joblib') "
   ]
  },
  {
   "cell_type": "code",
   "execution_count": 462,
   "metadata": {},
   "outputs": [],
   "source": [
    "import pickle\n",
    "with open('params.pkl', 'wb') as f:\n",
    "    pickle.dump(params, f, protocol=pickle.HIGHEST_PROTOCOL)"
   ]
  },
  {
   "cell_type": "markdown",
   "metadata": {},
   "source": [
    "## Load model and params"
   ]
  },
  {
   "cell_type": "code",
   "execution_count": 464,
   "metadata": {},
   "outputs": [],
   "source": [
    "loaded_model = load('model.joblib')"
   ]
  },
  {
   "cell_type": "code",
   "execution_count": 465,
   "metadata": {},
   "outputs": [],
   "source": [
    "with open('params.pkl', 'rb') as f:\n",
    "    loaded_params = pickle.load(f)"
   ]
  },
  {
   "cell_type": "code",
   "execution_count": 466,
   "metadata": {},
   "outputs": [
    {
     "name": "stdout",
     "output_type": "stream",
     "text": [
      "CPU times: user 13 ms, sys: 2.46 ms, total: 15.4 ms\n",
      "Wall time: 12.9 ms\n"
     ]
    },
    {
     "data": {
      "text/plain": [
       "[3, 3, 4]"
      ]
     },
     "execution_count": 466,
     "metadata": {},
     "output_type": "execute_result"
    }
   ],
   "source": [
    "%%time\n",
    "predict(loaded_model, test_data, **loaded_params)"
   ]
  },
  {
   "cell_type": "markdown",
   "metadata": {},
   "source": [
    "# Testing API"
   ]
  },
  {
   "cell_type": "code",
   "execution_count": 418,
   "metadata": {},
   "outputs": [],
   "source": [
    "r = requests.get('http://127.0.0.1:5000')"
   ]
  },
  {
   "cell_type": "code",
   "execution_count": 468,
   "metadata": {},
   "outputs": [],
   "source": [
    "import requests, json"
   ]
  },
  {
   "cell_type": "code",
   "execution_count": 469,
   "metadata": {},
   "outputs": [],
   "source": [
    "payload = {'data': test_data}"
   ]
  },
  {
   "cell_type": "code",
   "execution_count": 486,
   "metadata": {},
   "outputs": [],
   "source": [
    "r = requests.post('http://127.0.0.1:5000/predict', \n",
    "                  data=json.dumps(payload))"
   ]
  },
  {
   "cell_type": "code",
   "execution_count": 487,
   "metadata": {},
   "outputs": [
    {
     "data": {
      "text/plain": [
       "(200, 'OK')"
      ]
     },
     "execution_count": 487,
     "metadata": {},
     "output_type": "execute_result"
    }
   ],
   "source": [
    "r.status_code, r.reason"
   ]
  },
  {
   "cell_type": "code",
   "execution_count": 489,
   "metadata": {},
   "outputs": [
    {
     "data": {
      "text/plain": [
       "[3, 3, 4]"
      ]
     },
     "execution_count": 489,
     "metadata": {},
     "output_type": "execute_result"
    }
   ],
   "source": [
    "preds = json.loads(r.content)['predictions']\n",
    "preds"
   ]
  }
 ],
 "metadata": {
  "kernelspec": {
   "display_name": "Python 3",
   "language": "python",
   "name": "python3"
  },
  "language_info": {
   "codemirror_mode": {
    "name": "ipython",
    "version": 3
   },
   "file_extension": ".py",
   "mimetype": "text/x-python",
   "name": "python",
   "nbconvert_exporter": "python",
   "pygments_lexer": "ipython3",
   "version": "3.6.3"
  }
 },
 "nbformat": 4,
 "nbformat_minor": 2
}
