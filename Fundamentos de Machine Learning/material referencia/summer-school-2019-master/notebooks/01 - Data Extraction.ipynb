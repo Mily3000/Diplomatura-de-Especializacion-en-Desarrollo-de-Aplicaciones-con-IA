{
 "cells": [
  {
   "cell_type": "code",
   "execution_count": 1,
   "metadata": {},
   "outputs": [],
   "source": [
    "import pandas as pd"
   ]
  },
  {
   "cell_type": "markdown",
   "metadata": {},
   "source": [
    "## File"
   ]
  },
  {
   "cell_type": "code",
   "execution_count": 24,
   "metadata": {},
   "outputs": [],
   "source": [
    "df = pd.read_csv('train.csv')"
   ]
  },
  {
   "cell_type": "code",
   "execution_count": 25,
   "metadata": {},
   "outputs": [
    {
     "data": {
      "text/html": [
       "<div>\n",
       "<style scoped>\n",
       "    .dataframe tbody tr th:only-of-type {\n",
       "        vertical-align: middle;\n",
       "    }\n",
       "\n",
       "    .dataframe tbody tr th {\n",
       "        vertical-align: top;\n",
       "    }\n",
       "\n",
       "    .dataframe thead th {\n",
       "        text-align: right;\n",
       "    }\n",
       "</style>\n",
       "<table border=\"1\" class=\"dataframe\">\n",
       "  <thead>\n",
       "    <tr style=\"text-align: right;\">\n",
       "      <th></th>\n",
       "      <th>PassengerId</th>\n",
       "      <th>Survived</th>\n",
       "      <th>Pclass</th>\n",
       "      <th>Name</th>\n",
       "      <th>Sex</th>\n",
       "      <th>Age</th>\n",
       "      <th>SibSp</th>\n",
       "      <th>Parch</th>\n",
       "      <th>Ticket</th>\n",
       "      <th>Fare</th>\n",
       "      <th>Cabin</th>\n",
       "      <th>Embarked</th>\n",
       "    </tr>\n",
       "  </thead>\n",
       "  <tbody>\n",
       "    <tr>\n",
       "      <th>0</th>\n",
       "      <td>1</td>\n",
       "      <td>0</td>\n",
       "      <td>3</td>\n",
       "      <td>Braund, Mr. Owen Harris</td>\n",
       "      <td>male</td>\n",
       "      <td>22.0</td>\n",
       "      <td>1</td>\n",
       "      <td>0</td>\n",
       "      <td>A/5 21171</td>\n",
       "      <td>7.2500</td>\n",
       "      <td>NaN</td>\n",
       "      <td>S</td>\n",
       "    </tr>\n",
       "    <tr>\n",
       "      <th>1</th>\n",
       "      <td>2</td>\n",
       "      <td>1</td>\n",
       "      <td>1</td>\n",
       "      <td>Cumings, Mrs. John Bradley (Florence Briggs Th...</td>\n",
       "      <td>female</td>\n",
       "      <td>38.0</td>\n",
       "      <td>1</td>\n",
       "      <td>0</td>\n",
       "      <td>PC 17599</td>\n",
       "      <td>71.2833</td>\n",
       "      <td>C85</td>\n",
       "      <td>C</td>\n",
       "    </tr>\n",
       "    <tr>\n",
       "      <th>2</th>\n",
       "      <td>3</td>\n",
       "      <td>1</td>\n",
       "      <td>3</td>\n",
       "      <td>Heikkinen, Miss. Laina</td>\n",
       "      <td>female</td>\n",
       "      <td>26.0</td>\n",
       "      <td>0</td>\n",
       "      <td>0</td>\n",
       "      <td>STON/O2. 3101282</td>\n",
       "      <td>7.9250</td>\n",
       "      <td>NaN</td>\n",
       "      <td>S</td>\n",
       "    </tr>\n",
       "    <tr>\n",
       "      <th>3</th>\n",
       "      <td>4</td>\n",
       "      <td>1</td>\n",
       "      <td>1</td>\n",
       "      <td>Futrelle, Mrs. Jacques Heath (Lily May Peel)</td>\n",
       "      <td>female</td>\n",
       "      <td>35.0</td>\n",
       "      <td>1</td>\n",
       "      <td>0</td>\n",
       "      <td>113803</td>\n",
       "      <td>53.1000</td>\n",
       "      <td>C123</td>\n",
       "      <td>S</td>\n",
       "    </tr>\n",
       "    <tr>\n",
       "      <th>4</th>\n",
       "      <td>5</td>\n",
       "      <td>0</td>\n",
       "      <td>3</td>\n",
       "      <td>Allen, Mr. William Henry</td>\n",
       "      <td>male</td>\n",
       "      <td>35.0</td>\n",
       "      <td>0</td>\n",
       "      <td>0</td>\n",
       "      <td>373450</td>\n",
       "      <td>8.0500</td>\n",
       "      <td>NaN</td>\n",
       "      <td>S</td>\n",
       "    </tr>\n",
       "  </tbody>\n",
       "</table>\n",
       "</div>"
      ],
      "text/plain": [
       "   PassengerId  Survived  Pclass  \\\n",
       "0            1         0       3   \n",
       "1            2         1       1   \n",
       "2            3         1       3   \n",
       "3            4         1       1   \n",
       "4            5         0       3   \n",
       "\n",
       "                                                Name     Sex   Age  SibSp  \\\n",
       "0                            Braund, Mr. Owen Harris    male  22.0      1   \n",
       "1  Cumings, Mrs. John Bradley (Florence Briggs Th...  female  38.0      1   \n",
       "2                             Heikkinen, Miss. Laina  female  26.0      0   \n",
       "3       Futrelle, Mrs. Jacques Heath (Lily May Peel)  female  35.0      1   \n",
       "4                           Allen, Mr. William Henry    male  35.0      0   \n",
       "\n",
       "   Parch            Ticket     Fare Cabin Embarked  \n",
       "0      0         A/5 21171   7.2500   NaN        S  \n",
       "1      0          PC 17599  71.2833   C85        C  \n",
       "2      0  STON/O2. 3101282   7.9250   NaN        S  \n",
       "3      0            113803  53.1000  C123        S  \n",
       "4      0            373450   8.0500   NaN        S  "
      ]
     },
     "execution_count": 25,
     "metadata": {},
     "output_type": "execute_result"
    }
   ],
   "source": [
    "df.head()"
   ]
  },
  {
   "cell_type": "code",
   "execution_count": 26,
   "metadata": {},
   "outputs": [],
   "source": [
    "df = pd.read_excel('Employee data.xls', sheet_name=0)"
   ]
  },
  {
   "cell_type": "code",
   "execution_count": 27,
   "metadata": {},
   "outputs": [
    {
     "data": {
      "text/html": [
       "<div>\n",
       "<style scoped>\n",
       "    .dataframe tbody tr th:only-of-type {\n",
       "        vertical-align: middle;\n",
       "    }\n",
       "\n",
       "    .dataframe tbody tr th {\n",
       "        vertical-align: top;\n",
       "    }\n",
       "\n",
       "    .dataframe thead th {\n",
       "        text-align: right;\n",
       "    }\n",
       "</style>\n",
       "<table border=\"1\" class=\"dataframe\">\n",
       "  <thead>\n",
       "    <tr style=\"text-align: right;\">\n",
       "      <th></th>\n",
       "      <th>id</th>\n",
       "      <th>gender</th>\n",
       "      <th>bdate</th>\n",
       "      <th>educ</th>\n",
       "      <th>jobcat</th>\n",
       "      <th>salary</th>\n",
       "      <th>salbegin</th>\n",
       "      <th>jobtime</th>\n",
       "      <th>prevexp</th>\n",
       "      <th>minority</th>\n",
       "    </tr>\n",
       "  </thead>\n",
       "  <tbody>\n",
       "    <tr>\n",
       "      <th>0</th>\n",
       "      <td>1</td>\n",
       "      <td>m</td>\n",
       "      <td>1952-02-03</td>\n",
       "      <td>15</td>\n",
       "      <td>3</td>\n",
       "      <td>57000</td>\n",
       "      <td>27000</td>\n",
       "      <td>98</td>\n",
       "      <td>144</td>\n",
       "      <td>0</td>\n",
       "    </tr>\n",
       "    <tr>\n",
       "      <th>1</th>\n",
       "      <td>2</td>\n",
       "      <td>m</td>\n",
       "      <td>1958-05-23</td>\n",
       "      <td>16</td>\n",
       "      <td>1</td>\n",
       "      <td>40200</td>\n",
       "      <td>18750</td>\n",
       "      <td>98</td>\n",
       "      <td>36</td>\n",
       "      <td>0</td>\n",
       "    </tr>\n",
       "    <tr>\n",
       "      <th>2</th>\n",
       "      <td>3</td>\n",
       "      <td>f</td>\n",
       "      <td>1929-07-26</td>\n",
       "      <td>12</td>\n",
       "      <td>1</td>\n",
       "      <td>21450</td>\n",
       "      <td>12000</td>\n",
       "      <td>98</td>\n",
       "      <td>381</td>\n",
       "      <td>0</td>\n",
       "    </tr>\n",
       "    <tr>\n",
       "      <th>3</th>\n",
       "      <td>4</td>\n",
       "      <td>f</td>\n",
       "      <td>1947-04-15</td>\n",
       "      <td>8</td>\n",
       "      <td>1</td>\n",
       "      <td>21900</td>\n",
       "      <td>13200</td>\n",
       "      <td>98</td>\n",
       "      <td>190</td>\n",
       "      <td>0</td>\n",
       "    </tr>\n",
       "    <tr>\n",
       "      <th>4</th>\n",
       "      <td>5</td>\n",
       "      <td>m</td>\n",
       "      <td>1955-02-09</td>\n",
       "      <td>15</td>\n",
       "      <td>1</td>\n",
       "      <td>45000</td>\n",
       "      <td>21000</td>\n",
       "      <td>98</td>\n",
       "      <td>138</td>\n",
       "      <td>0</td>\n",
       "    </tr>\n",
       "  </tbody>\n",
       "</table>\n",
       "</div>"
      ],
      "text/plain": [
       "   id gender      bdate  educ  jobcat  salary  salbegin  jobtime  prevexp  \\\n",
       "0   1      m 1952-02-03    15       3   57000     27000       98      144   \n",
       "1   2      m 1958-05-23    16       1   40200     18750       98       36   \n",
       "2   3      f 1929-07-26    12       1   21450     12000       98      381   \n",
       "3   4      f 1947-04-15     8       1   21900     13200       98      190   \n",
       "4   5      m 1955-02-09    15       1   45000     21000       98      138   \n",
       "\n",
       "   minority  \n",
       "0         0  \n",
       "1         0  \n",
       "2         0  \n",
       "3         0  \n",
       "4         0  "
      ]
     },
     "execution_count": 27,
     "metadata": {},
     "output_type": "execute_result"
    }
   ],
   "source": [
    "df.head()"
   ]
  },
  {
   "cell_type": "markdown",
   "metadata": {},
   "source": [
    "## Database"
   ]
  },
  {
   "cell_type": "code",
   "execution_count": null,
   "metadata": {},
   "outputs": [],
   "source": [
    "from sqlalchemy import create_engine\n",
    "uri = 'mongodb://ufk2vps0a7j:p7bb9de7d5fa58cb72a105ae756813ba7'\n",
    "      '@ec2-38-129-168-191.compute-1.amazonaws.com:5432/deu4neob640'\n",
    "engine = create_engine(uri)\n",
    "conn = engine.raw_connection()"
   ]
  },
  {
   "cell_type": "code",
   "execution_count": 20,
   "metadata": {},
   "outputs": [],
   "source": [
    "import sqlite3\n",
    "conn = sqlite3.connect(\"flights.db\")\n",
    "# airports, airlines, and routes"
   ]
  },
  {
   "cell_type": "code",
   "execution_count": 21,
   "metadata": {},
   "outputs": [],
   "source": [
    "query = \"SELECT * FROM airports\""
   ]
  },
  {
   "cell_type": "code",
   "execution_count": 22,
   "metadata": {},
   "outputs": [],
   "source": [
    "df = pd.read_sql_query(query, con=conn)"
   ]
  },
  {
   "cell_type": "code",
   "execution_count": 23,
   "metadata": {},
   "outputs": [
    {
     "data": {
      "text/html": [
       "<div>\n",
       "<style scoped>\n",
       "    .dataframe tbody tr th:only-of-type {\n",
       "        vertical-align: middle;\n",
       "    }\n",
       "\n",
       "    .dataframe tbody tr th {\n",
       "        vertical-align: top;\n",
       "    }\n",
       "\n",
       "    .dataframe thead th {\n",
       "        text-align: right;\n",
       "    }\n",
       "</style>\n",
       "<table border=\"1\" class=\"dataframe\">\n",
       "  <thead>\n",
       "    <tr style=\"text-align: right;\">\n",
       "      <th></th>\n",
       "      <th>index</th>\n",
       "      <th>id</th>\n",
       "      <th>name</th>\n",
       "      <th>city</th>\n",
       "      <th>country</th>\n",
       "      <th>code</th>\n",
       "      <th>icao</th>\n",
       "      <th>latitude</th>\n",
       "      <th>longitude</th>\n",
       "      <th>altitude</th>\n",
       "      <th>offset</th>\n",
       "      <th>dst</th>\n",
       "      <th>timezone</th>\n",
       "    </tr>\n",
       "  </thead>\n",
       "  <tbody>\n",
       "    <tr>\n",
       "      <th>0</th>\n",
       "      <td>0</td>\n",
       "      <td>1</td>\n",
       "      <td>Goroka</td>\n",
       "      <td>Goroka</td>\n",
       "      <td>Papua New Guinea</td>\n",
       "      <td>GKA</td>\n",
       "      <td>AYGA</td>\n",
       "      <td>-6.081689</td>\n",
       "      <td>145.391881</td>\n",
       "      <td>5282</td>\n",
       "      <td>10</td>\n",
       "      <td>U</td>\n",
       "      <td>Pacific/Port_Moresby</td>\n",
       "    </tr>\n",
       "    <tr>\n",
       "      <th>1</th>\n",
       "      <td>1</td>\n",
       "      <td>2</td>\n",
       "      <td>Madang</td>\n",
       "      <td>Madang</td>\n",
       "      <td>Papua New Guinea</td>\n",
       "      <td>MAG</td>\n",
       "      <td>AYMD</td>\n",
       "      <td>-5.207083</td>\n",
       "      <td>145.7887</td>\n",
       "      <td>20</td>\n",
       "      <td>10</td>\n",
       "      <td>U</td>\n",
       "      <td>Pacific/Port_Moresby</td>\n",
       "    </tr>\n",
       "    <tr>\n",
       "      <th>2</th>\n",
       "      <td>2</td>\n",
       "      <td>3</td>\n",
       "      <td>Mount Hagen</td>\n",
       "      <td>Mount Hagen</td>\n",
       "      <td>Papua New Guinea</td>\n",
       "      <td>HGU</td>\n",
       "      <td>AYMH</td>\n",
       "      <td>-5.826789</td>\n",
       "      <td>144.295861</td>\n",
       "      <td>5388</td>\n",
       "      <td>10</td>\n",
       "      <td>U</td>\n",
       "      <td>Pacific/Port_Moresby</td>\n",
       "    </tr>\n",
       "    <tr>\n",
       "      <th>3</th>\n",
       "      <td>3</td>\n",
       "      <td>4</td>\n",
       "      <td>Nadzab</td>\n",
       "      <td>Nadzab</td>\n",
       "      <td>Papua New Guinea</td>\n",
       "      <td>LAE</td>\n",
       "      <td>AYNZ</td>\n",
       "      <td>-6.569828</td>\n",
       "      <td>146.726242</td>\n",
       "      <td>239</td>\n",
       "      <td>10</td>\n",
       "      <td>U</td>\n",
       "      <td>Pacific/Port_Moresby</td>\n",
       "    </tr>\n",
       "    <tr>\n",
       "      <th>4</th>\n",
       "      <td>4</td>\n",
       "      <td>5</td>\n",
       "      <td>Port Moresby Jacksons Intl</td>\n",
       "      <td>Port Moresby</td>\n",
       "      <td>Papua New Guinea</td>\n",
       "      <td>POM</td>\n",
       "      <td>AYPY</td>\n",
       "      <td>-9.443383</td>\n",
       "      <td>147.22005</td>\n",
       "      <td>146</td>\n",
       "      <td>10</td>\n",
       "      <td>U</td>\n",
       "      <td>Pacific/Port_Moresby</td>\n",
       "    </tr>\n",
       "  </tbody>\n",
       "</table>\n",
       "</div>"
      ],
      "text/plain": [
       "   index id                        name          city           country code  \\\n",
       "0      0  1                      Goroka        Goroka  Papua New Guinea  GKA   \n",
       "1      1  2                      Madang        Madang  Papua New Guinea  MAG   \n",
       "2      2  3                 Mount Hagen   Mount Hagen  Papua New Guinea  HGU   \n",
       "3      3  4                      Nadzab        Nadzab  Papua New Guinea  LAE   \n",
       "4      4  5  Port Moresby Jacksons Intl  Port Moresby  Papua New Guinea  POM   \n",
       "\n",
       "   icao   latitude   longitude altitude offset dst              timezone  \n",
       "0  AYGA  -6.081689  145.391881     5282     10   U  Pacific/Port_Moresby  \n",
       "1  AYMD  -5.207083    145.7887       20     10   U  Pacific/Port_Moresby  \n",
       "2  AYMH  -5.826789  144.295861     5388     10   U  Pacific/Port_Moresby  \n",
       "3  AYNZ  -6.569828  146.726242      239     10   U  Pacific/Port_Moresby  \n",
       "4  AYPY  -9.443383   147.22005      146     10   U  Pacific/Port_Moresby  "
      ]
     },
     "execution_count": 23,
     "metadata": {},
     "output_type": "execute_result"
    }
   ],
   "source": [
    "df.head()"
   ]
  },
  {
   "cell_type": "markdown",
   "metadata": {},
   "source": [
    "## API"
   ]
  },
  {
   "cell_type": "code",
   "execution_count": 50,
   "metadata": {},
   "outputs": [],
   "source": [
    "import requests\n",
    "api_key = '3e3549aba4a6d288ce'\n",
    "endpoint = f'http://www.apilayer.net/api/live?access_key={api_key}&format=1'"
   ]
  },
  {
   "cell_type": "code",
   "execution_count": 51,
   "metadata": {},
   "outputs": [
    {
     "data": {
      "text/plain": [
       "200"
      ]
     },
     "execution_count": 51,
     "metadata": {},
     "output_type": "execute_result"
    }
   ],
   "source": [
    "response = requests.get(endpoint)\n",
    "response.status_code"
   ]
  },
  {
   "cell_type": "code",
   "execution_count": 53,
   "metadata": {},
   "outputs": [],
   "source": [
    "import json\n",
    "json_string = response.content.decode('utf-8')\n",
    "data = json.loads(json_string)"
   ]
  },
  {
   "cell_type": "code",
   "execution_count": 54,
   "metadata": {},
   "outputs": [
    {
     "data": {
      "text/plain": [
       "dict_keys(['success', 'terms', 'privacy', 'timestamp', 'source', 'quotes'])"
      ]
     },
     "execution_count": 54,
     "metadata": {},
     "output_type": "execute_result"
    }
   ],
   "source": [
    "data.keys()"
   ]
  },
  {
   "cell_type": "code",
   "execution_count": 70,
   "metadata": {},
   "outputs": [],
   "source": [
    "df = pd.DataFrame()\n",
    "df['Currency'] = data['quotes'].keys()\n",
    "df['Exchange Rate'] = data['quotes'].values()\n",
    "df['Timestamp'] = data['timestamp']"
   ]
  },
  {
   "cell_type": "code",
   "execution_count": 71,
   "metadata": {},
   "outputs": [
    {
     "data": {
      "text/html": [
       "<div>\n",
       "<style scoped>\n",
       "    .dataframe tbody tr th:only-of-type {\n",
       "        vertical-align: middle;\n",
       "    }\n",
       "\n",
       "    .dataframe tbody tr th {\n",
       "        vertical-align: top;\n",
       "    }\n",
       "\n",
       "    .dataframe thead th {\n",
       "        text-align: right;\n",
       "    }\n",
       "</style>\n",
       "<table border=\"1\" class=\"dataframe\">\n",
       "  <thead>\n",
       "    <tr style=\"text-align: right;\">\n",
       "      <th></th>\n",
       "      <th>Currency</th>\n",
       "      <th>Exchange Rate</th>\n",
       "      <th>Timestamp</th>\n",
       "    </tr>\n",
       "  </thead>\n",
       "  <tbody>\n",
       "    <tr>\n",
       "      <th>0</th>\n",
       "      <td>USDAED</td>\n",
       "      <td>3.673150</td>\n",
       "      <td>1548837546</td>\n",
       "    </tr>\n",
       "    <tr>\n",
       "      <th>1</th>\n",
       "      <td>USDAFN</td>\n",
       "      <td>75.764505</td>\n",
       "      <td>1548837546</td>\n",
       "    </tr>\n",
       "    <tr>\n",
       "      <th>2</th>\n",
       "      <td>USDALL</td>\n",
       "      <td>109.000097</td>\n",
       "      <td>1548837546</td>\n",
       "    </tr>\n",
       "    <tr>\n",
       "      <th>3</th>\n",
       "      <td>USDAMD</td>\n",
       "      <td>486.040074</td>\n",
       "      <td>1548837546</td>\n",
       "    </tr>\n",
       "    <tr>\n",
       "      <th>4</th>\n",
       "      <td>USDANG</td>\n",
       "      <td>1.785250</td>\n",
       "      <td>1548837546</td>\n",
       "    </tr>\n",
       "  </tbody>\n",
       "</table>\n",
       "</div>"
      ],
      "text/plain": [
       "  Currency  Exchange Rate   Timestamp\n",
       "0   USDAED       3.673150  1548837546\n",
       "1   USDAFN      75.764505  1548837546\n",
       "2   USDALL     109.000097  1548837546\n",
       "3   USDAMD     486.040074  1548837546\n",
       "4   USDANG       1.785250  1548837546"
      ]
     },
     "execution_count": 71,
     "metadata": {},
     "output_type": "execute_result"
    }
   ],
   "source": [
    "df.head()"
   ]
  },
  {
   "cell_type": "code",
   "execution_count": 72,
   "metadata": {},
   "outputs": [
    {
     "data": {
      "text/plain": [
       "6    168\n",
       "Name: Currency, dtype: int64"
      ]
     },
     "execution_count": 72,
     "metadata": {},
     "output_type": "execute_result"
    }
   ],
   "source": [
    "df.Currency.apply(len).value_counts()"
   ]
  },
  {
   "cell_type": "code",
   "execution_count": 75,
   "metadata": {},
   "outputs": [],
   "source": [
    "df['Source'] = df.Currency.apply(lambda x: x[:3])\n",
    "df['Target'] = df.Currency.apply(lambda x: x[3:])\n",
    "df['Date'] =  pd.to_datetime(df.Timestamp, unit='s', utc=True) "
   ]
  },
  {
   "cell_type": "code",
   "execution_count": 76,
   "metadata": {},
   "outputs": [
    {
     "data": {
      "text/html": [
       "<div>\n",
       "<style scoped>\n",
       "    .dataframe tbody tr th:only-of-type {\n",
       "        vertical-align: middle;\n",
       "    }\n",
       "\n",
       "    .dataframe tbody tr th {\n",
       "        vertical-align: top;\n",
       "    }\n",
       "\n",
       "    .dataframe thead th {\n",
       "        text-align: right;\n",
       "    }\n",
       "</style>\n",
       "<table border=\"1\" class=\"dataframe\">\n",
       "  <thead>\n",
       "    <tr style=\"text-align: right;\">\n",
       "      <th></th>\n",
       "      <th>Currency</th>\n",
       "      <th>Exchange Rate</th>\n",
       "      <th>Timestamp</th>\n",
       "      <th>Source</th>\n",
       "      <th>Target</th>\n",
       "      <th>Date</th>\n",
       "    </tr>\n",
       "  </thead>\n",
       "  <tbody>\n",
       "    <tr>\n",
       "      <th>0</th>\n",
       "      <td>USDAED</td>\n",
       "      <td>3.673150</td>\n",
       "      <td>1548837546</td>\n",
       "      <td>USD</td>\n",
       "      <td>AED</td>\n",
       "      <td>2019-01-30 08:39:06+00:00</td>\n",
       "    </tr>\n",
       "    <tr>\n",
       "      <th>1</th>\n",
       "      <td>USDAFN</td>\n",
       "      <td>75.764505</td>\n",
       "      <td>1548837546</td>\n",
       "      <td>USD</td>\n",
       "      <td>AFN</td>\n",
       "      <td>2019-01-30 08:39:06+00:00</td>\n",
       "    </tr>\n",
       "    <tr>\n",
       "      <th>2</th>\n",
       "      <td>USDALL</td>\n",
       "      <td>109.000097</td>\n",
       "      <td>1548837546</td>\n",
       "      <td>USD</td>\n",
       "      <td>ALL</td>\n",
       "      <td>2019-01-30 08:39:06+00:00</td>\n",
       "    </tr>\n",
       "    <tr>\n",
       "      <th>3</th>\n",
       "      <td>USDAMD</td>\n",
       "      <td>486.040074</td>\n",
       "      <td>1548837546</td>\n",
       "      <td>USD</td>\n",
       "      <td>AMD</td>\n",
       "      <td>2019-01-30 08:39:06+00:00</td>\n",
       "    </tr>\n",
       "    <tr>\n",
       "      <th>4</th>\n",
       "      <td>USDANG</td>\n",
       "      <td>1.785250</td>\n",
       "      <td>1548837546</td>\n",
       "      <td>USD</td>\n",
       "      <td>ANG</td>\n",
       "      <td>2019-01-30 08:39:06+00:00</td>\n",
       "    </tr>\n",
       "  </tbody>\n",
       "</table>\n",
       "</div>"
      ],
      "text/plain": [
       "  Currency  Exchange Rate   Timestamp Source Target                      Date\n",
       "0   USDAED       3.673150  1548837546    USD    AED 2019-01-30 08:39:06+00:00\n",
       "1   USDAFN      75.764505  1548837546    USD    AFN 2019-01-30 08:39:06+00:00\n",
       "2   USDALL     109.000097  1548837546    USD    ALL 2019-01-30 08:39:06+00:00\n",
       "3   USDAMD     486.040074  1548837546    USD    AMD 2019-01-30 08:39:06+00:00\n",
       "4   USDANG       1.785250  1548837546    USD    ANG 2019-01-30 08:39:06+00:00"
      ]
     },
     "execution_count": 76,
     "metadata": {},
     "output_type": "execute_result"
    }
   ],
   "source": [
    "df.head()"
   ]
  },
  {
   "cell_type": "code",
   "execution_count": 77,
   "metadata": {},
   "outputs": [],
   "source": [
    "df['Date'] = df.Date.dt.strftime('%Y-%m-%d')"
   ]
  },
  {
   "cell_type": "code",
   "execution_count": 78,
   "metadata": {},
   "outputs": [
    {
     "data": {
      "text/html": [
       "<div>\n",
       "<style scoped>\n",
       "    .dataframe tbody tr th:only-of-type {\n",
       "        vertical-align: middle;\n",
       "    }\n",
       "\n",
       "    .dataframe tbody tr th {\n",
       "        vertical-align: top;\n",
       "    }\n",
       "\n",
       "    .dataframe thead th {\n",
       "        text-align: right;\n",
       "    }\n",
       "</style>\n",
       "<table border=\"1\" class=\"dataframe\">\n",
       "  <thead>\n",
       "    <tr style=\"text-align: right;\">\n",
       "      <th></th>\n",
       "      <th>Currency</th>\n",
       "      <th>Exchange Rate</th>\n",
       "      <th>Timestamp</th>\n",
       "      <th>Source</th>\n",
       "      <th>Target</th>\n",
       "      <th>Date</th>\n",
       "    </tr>\n",
       "  </thead>\n",
       "  <tbody>\n",
       "    <tr>\n",
       "      <th>0</th>\n",
       "      <td>USDAED</td>\n",
       "      <td>3.673150</td>\n",
       "      <td>1548837546</td>\n",
       "      <td>USD</td>\n",
       "      <td>AED</td>\n",
       "      <td>2019-01-30</td>\n",
       "    </tr>\n",
       "    <tr>\n",
       "      <th>1</th>\n",
       "      <td>USDAFN</td>\n",
       "      <td>75.764505</td>\n",
       "      <td>1548837546</td>\n",
       "      <td>USD</td>\n",
       "      <td>AFN</td>\n",
       "      <td>2019-01-30</td>\n",
       "    </tr>\n",
       "    <tr>\n",
       "      <th>2</th>\n",
       "      <td>USDALL</td>\n",
       "      <td>109.000097</td>\n",
       "      <td>1548837546</td>\n",
       "      <td>USD</td>\n",
       "      <td>ALL</td>\n",
       "      <td>2019-01-30</td>\n",
       "    </tr>\n",
       "    <tr>\n",
       "      <th>3</th>\n",
       "      <td>USDAMD</td>\n",
       "      <td>486.040074</td>\n",
       "      <td>1548837546</td>\n",
       "      <td>USD</td>\n",
       "      <td>AMD</td>\n",
       "      <td>2019-01-30</td>\n",
       "    </tr>\n",
       "    <tr>\n",
       "      <th>4</th>\n",
       "      <td>USDANG</td>\n",
       "      <td>1.785250</td>\n",
       "      <td>1548837546</td>\n",
       "      <td>USD</td>\n",
       "      <td>ANG</td>\n",
       "      <td>2019-01-30</td>\n",
       "    </tr>\n",
       "  </tbody>\n",
       "</table>\n",
       "</div>"
      ],
      "text/plain": [
       "  Currency  Exchange Rate   Timestamp Source Target        Date\n",
       "0   USDAED       3.673150  1548837546    USD    AED  2019-01-30\n",
       "1   USDAFN      75.764505  1548837546    USD    AFN  2019-01-30\n",
       "2   USDALL     109.000097  1548837546    USD    ALL  2019-01-30\n",
       "3   USDAMD     486.040074  1548837546    USD    AMD  2019-01-30\n",
       "4   USDANG       1.785250  1548837546    USD    ANG  2019-01-30"
      ]
     },
     "execution_count": 78,
     "metadata": {},
     "output_type": "execute_result"
    }
   ],
   "source": [
    "df.head()"
   ]
  },
  {
   "cell_type": "markdown",
   "metadata": {},
   "source": [
    "## Web Scraping"
   ]
  },
  {
   "cell_type": "code",
   "execution_count": 79,
   "metadata": {},
   "outputs": [],
   "source": [
    "import requests\n",
    "website = 'http://www.hubertiming.com/results/2017GPTR10K'"
   ]
  },
  {
   "cell_type": "code",
   "execution_count": 86,
   "metadata": {},
   "outputs": [
    {
     "data": {
      "text/plain": [
       "200"
      ]
     },
     "execution_count": 86,
     "metadata": {},
     "output_type": "execute_result"
    }
   ],
   "source": [
    "response = requests.get(website)\n",
    "response.status_code"
   ]
  },
  {
   "cell_type": "code",
   "execution_count": 87,
   "metadata": {},
   "outputs": [],
   "source": [
    "from bs4 import BeautifulSoup\n",
    "html = BeautifulSoup(response.content, 'lxml')"
   ]
  },
  {
   "cell_type": "code",
   "execution_count": 106,
   "metadata": {},
   "outputs": [],
   "source": [
    "individual_results = html.find(attrs={\n",
    "    'id': 'individualResults'\n",
    "})"
   ]
  },
  {
   "cell_type": "code",
   "execution_count": 108,
   "metadata": {},
   "outputs": [],
   "source": [
    "table_headers = individual_results.find_all('th')\n",
    "table_headers = [h.text for h in table_headers]"
   ]
  },
  {
   "cell_type": "code",
   "execution_count": 109,
   "metadata": {},
   "outputs": [
    {
     "data": {
      "text/plain": [
       "['Place',\n",
       " 'Bib',\n",
       " 'Name',\n",
       " 'Gender',\n",
       " 'City',\n",
       " 'State',\n",
       " 'Chip Time',\n",
       " 'Chip Pace',\n",
       " 'Gender Place',\n",
       " 'Age Group',\n",
       " 'Age Group Place',\n",
       " 'Time to Start',\n",
       " 'Gun Time',\n",
       " 'Team']"
      ]
     },
     "execution_count": 109,
     "metadata": {},
     "output_type": "execute_result"
    }
   ],
   "source": [
    "table_headers"
   ]
  },
  {
   "cell_type": "code",
   "execution_count": 112,
   "metadata": {},
   "outputs": [],
   "source": [
    "table_rows = individual_results.find_all('tr')"
   ]
  },
  {
   "cell_type": "code",
   "execution_count": 113,
   "metadata": {},
   "outputs": [],
   "source": [
    "data = [[element.text for element in row.find_all('td')] for row in table_rows]"
   ]
  },
  {
   "cell_type": "code",
   "execution_count": 115,
   "metadata": {},
   "outputs": [],
   "source": [
    "df = pd.DataFrame(data)"
   ]
  },
  {
   "cell_type": "code",
   "execution_count": 121,
   "metadata": {},
   "outputs": [],
   "source": [
    "df.columns = table_headers"
   ]
  },
  {
   "cell_type": "code",
   "execution_count": 119,
   "metadata": {},
   "outputs": [],
   "source": [
    "df.drop(0, axis=0, inplace=True)"
   ]
  },
  {
   "cell_type": "code",
   "execution_count": 122,
   "metadata": {},
   "outputs": [
    {
     "data": {
      "text/html": [
       "<div>\n",
       "<style scoped>\n",
       "    .dataframe tbody tr th:only-of-type {\n",
       "        vertical-align: middle;\n",
       "    }\n",
       "\n",
       "    .dataframe tbody tr th {\n",
       "        vertical-align: top;\n",
       "    }\n",
       "\n",
       "    .dataframe thead th {\n",
       "        text-align: right;\n",
       "    }\n",
       "</style>\n",
       "<table border=\"1\" class=\"dataframe\">\n",
       "  <thead>\n",
       "    <tr style=\"text-align: right;\">\n",
       "      <th></th>\n",
       "      <th>Place</th>\n",
       "      <th>Bib</th>\n",
       "      <th>Name</th>\n",
       "      <th>Gender</th>\n",
       "      <th>City</th>\n",
       "      <th>State</th>\n",
       "      <th>Chip Time</th>\n",
       "      <th>Chip Pace</th>\n",
       "      <th>Gender Place</th>\n",
       "      <th>Age Group</th>\n",
       "      <th>Age Group Place</th>\n",
       "      <th>Time to Start</th>\n",
       "      <th>Gun Time</th>\n",
       "      <th>Team</th>\n",
       "    </tr>\n",
       "  </thead>\n",
       "  <tbody>\n",
       "    <tr>\n",
       "      <th>1</th>\n",
       "      <td>1</td>\n",
       "      <td>814</td>\n",
       "      <td>JARED WILSON</td>\n",
       "      <td>M</td>\n",
       "      <td>TIGARD</td>\n",
       "      <td>OR</td>\n",
       "      <td>00:36:21</td>\n",
       "      <td>05:51</td>\n",
       "      <td>1 of 414</td>\n",
       "      <td>M 36-45</td>\n",
       "      <td>1 of 152</td>\n",
       "      <td>00:00:03</td>\n",
       "      <td>00:36:24</td>\n",
       "      <td></td>\n",
       "    </tr>\n",
       "    <tr>\n",
       "      <th>2</th>\n",
       "      <td>2</td>\n",
       "      <td>573</td>\n",
       "      <td>NATHAN A SUSTERSIC</td>\n",
       "      <td>M</td>\n",
       "      <td>PORTLAND</td>\n",
       "      <td>OR</td>\n",
       "      <td>00:36:42</td>\n",
       "      <td>05:55</td>\n",
       "      <td>2 of 414</td>\n",
       "      <td>M 26-35</td>\n",
       "      <td>1 of 154</td>\n",
       "      <td>00:00:03</td>\n",
       "      <td>00:36:45</td>\n",
       "      <td>INTEL TEAM F</td>\n",
       "    </tr>\n",
       "    <tr>\n",
       "      <th>3</th>\n",
       "      <td>3</td>\n",
       "      <td>687</td>\n",
       "      <td>FRANCISCO MAYA</td>\n",
       "      <td>M</td>\n",
       "      <td>PORTLAND</td>\n",
       "      <td>OR</td>\n",
       "      <td>00:37:44</td>\n",
       "      <td>06:05</td>\n",
       "      <td>3 of 414</td>\n",
       "      <td>M 46-55</td>\n",
       "      <td>1 of 64</td>\n",
       "      <td>00:00:04</td>\n",
       "      <td>00:37:48</td>\n",
       "      <td></td>\n",
       "    </tr>\n",
       "    <tr>\n",
       "      <th>4</th>\n",
       "      <td>4</td>\n",
       "      <td>623</td>\n",
       "      <td>PAUL MORROW</td>\n",
       "      <td>M</td>\n",
       "      <td>BEAVERTON</td>\n",
       "      <td>OR</td>\n",
       "      <td>00:38:34</td>\n",
       "      <td>06:13</td>\n",
       "      <td>4 of 414</td>\n",
       "      <td>M 36-45</td>\n",
       "      <td>2 of 152</td>\n",
       "      <td>00:00:03</td>\n",
       "      <td>00:38:37</td>\n",
       "      <td></td>\n",
       "    </tr>\n",
       "    <tr>\n",
       "      <th>5</th>\n",
       "      <td>5</td>\n",
       "      <td>569</td>\n",
       "      <td>DEREK G OSBORNE</td>\n",
       "      <td>M</td>\n",
       "      <td>HILLSBORO</td>\n",
       "      <td>OR</td>\n",
       "      <td>00:39:21</td>\n",
       "      <td>06:20</td>\n",
       "      <td>5 of 414</td>\n",
       "      <td>M 26-35</td>\n",
       "      <td>2 of 154</td>\n",
       "      <td>00:00:03</td>\n",
       "      <td>00:39:24</td>\n",
       "      <td>INTEL TEAM F</td>\n",
       "    </tr>\n",
       "  </tbody>\n",
       "</table>\n",
       "</div>"
      ],
      "text/plain": [
       "  Place  Bib                Name Gender       City State Chip Time Chip Pace  \\\n",
       "1     1  814        JARED WILSON      M     TIGARD    OR  00:36:21     05:51   \n",
       "2     2  573  NATHAN A SUSTERSIC      M   PORTLAND    OR  00:36:42     05:55   \n",
       "3     3  687      FRANCISCO MAYA      M   PORTLAND    OR  00:37:44     06:05   \n",
       "4     4  623         PAUL MORROW      M  BEAVERTON    OR  00:38:34     06:13   \n",
       "5     5  569     DEREK G OSBORNE      M  HILLSBORO    OR  00:39:21     06:20   \n",
       "\n",
       "  Gender Place Age Group Age Group Place Time to Start  Gun Time          Team  \n",
       "1     1 of 414   M 36-45        1 of 152      00:00:03  00:36:24                \n",
       "2     2 of 414   M 26-35        1 of 154      00:00:03  00:36:45  INTEL TEAM F  \n",
       "3     3 of 414   M 46-55         1 of 64      00:00:04  00:37:48                \n",
       "4     4 of 414   M 36-45        2 of 152      00:00:03  00:38:37                \n",
       "5     5 of 414   M 26-35        2 of 154      00:00:03  00:39:24  INTEL TEAM F  "
      ]
     },
     "execution_count": 122,
     "metadata": {},
     "output_type": "execute_result"
    }
   ],
   "source": [
    "df.head()"
   ]
  },
  {
   "cell_type": "markdown",
   "metadata": {},
   "source": [
    "# Another example"
   ]
  },
  {
   "cell_type": "code",
   "execution_count": 1,
   "metadata": {},
   "outputs": [],
   "source": [
    "import requests\n",
    "website = 'https://www.cntraveler.com/gallery/best-bars-in-paris'"
   ]
  },
  {
   "cell_type": "code",
   "execution_count": 2,
   "metadata": {},
   "outputs": [
    {
     "data": {
      "text/plain": [
       "200"
      ]
     },
     "execution_count": 2,
     "metadata": {},
     "output_type": "execute_result"
    }
   ],
   "source": [
    "response = requests.get(website)\n",
    "response.status_code"
   ]
  },
  {
   "cell_type": "code",
   "execution_count": 3,
   "metadata": {},
   "outputs": [],
   "source": [
    "from bs4 import BeautifulSoup\n",
    "html = BeautifulSoup(response.content, 'lxml')"
   ]
  },
  {
   "cell_type": "code",
   "execution_count": 4,
   "metadata": {},
   "outputs": [
    {
     "name": "stdout",
     "output_type": "stream",
     "text": [
      "22\n"
     ]
    }
   ],
   "source": [
    "restaurants_html = html.find_all('section', {\n",
    "    'class': 'gallery-item'\n",
    "})\n",
    "print(len(restaurants_html))"
   ]
  },
  {
   "cell_type": "code",
   "execution_count": 13,
   "metadata": {},
   "outputs": [
    {
     "name": "stdout",
     "output_type": "stream",
     "text": [
      "('<section class=\"gallery-item gallery-item-venue\" data-reactid=\"142\">\\n'\n",
      " ' <div class=\"gallery-item-image__container\" data-reactid=\"143\">\\n'\n",
      " '  <picture class=\"component-responsive-image gallery-item-image__container\" '\n",
      " 'data-reactid=\"144\">\\n'\n",
      " '   <source data-reactid=\"145\" media=\"(min-width: 1280px)\" '\n",
      " 'srcset=\"https://media.cntraveler.com/photos/5ab293f060ef3f51835c5ca5/master/w_820,c_limit/Bar-Hemingway-%25C2%25A9-Vincent-Leroux-(1).jpg\"/>\\n'\n",
      " '   <source data-reactid=\"146\" media=\"(min-width: 768px)\" '\n",
      " 'srcset=\"https://media.cntraveler.com/photos/5ab293f060ef3f51835c5ca5/master/w_770,c_limit/Bar-Hemingway-%25C2%25A9-Vincent-Leroux-(1).jpg\"/>\\n'\n",
      " '   <source data-reactid=\"147\" media=\"(min-width: 0px)\" '\n",
      " 'srcset=\"https://media.cntraveler.com/photos/5ab293f060ef3f51835c5ca5/master/w_420,c_limit/Bar-Hemingway-%25C2%25A9-Vincent-Leroux-(1).jpg\"/>\\n'\n",
      " '   <img alt=\"Bar Hemingway Ritz Hotel Paris\" data-reactid=\"148\" '\n",
      " 'src=\"https://media.cntraveler.com/photos/5ab293f060ef3f51835c5ca5/master/w_420,c_limit/Bar-Hemingway-%25C2%25A9-Vincent-Leroux-(1).jpg\" '\n",
      " 'title=\"\"/>\\n'\n",
      " '  </picture>\\n'\n",
      " ' </div>\\n'\n",
      " ' <p class=\"credit\" data-reactid=\"149\">\\n'\n",
      " '  Vincent Leroux\\n'\n",
      " ' </p>\\n'\n",
      " ' <div data-reactid=\"150\">\\n'\n",
      " '  <div class=\"image-content-container\" data-reactid=\"151\">\\n'\n",
      " '   <p class=\"type\" data-reactid=\"152\">\\n'\n",
      " '    bar\\n'\n",
      " '   </p>\\n'\n",
      " '   <a data-reactid=\"153\" href=\"/bars/paris/bar-hemingway\">\\n'\n",
      " '    <h2 class=\"hed\" data-reactid=\"154\">\\n'\n",
      " '     Bar Hemingway\\n'\n",
      " '    </h2>\\n'\n",
      " '   </a>\\n'\n",
      " '   <div class=\"ratings\" data-reactid=\"155\">\\n'\n",
      " '    <p class=\"price\" data-reactid=\"156\">\\n'\n",
      " '     $$\\n'\n",
      " '    </p>\\n'\n",
      " '   </div>\\n'\n",
      " '   <div class=\"dek\" data-reactid=\"157\">\\n'\n",
      " '    <div data-reactid=\"158\">\\n'\n",
      " '     <p data-reactid=\"159\">\\n'\n",
      " '      Despite having received a facelift after a multi-million renovation, '\n",
      " 'the place known for being liberated from the Nazis by author Ernest '\n",
      " 'Hemingway retains its old-world charm with tufted leather banquettes and bar '\n",
      " \"stools. Another thing that, thankfully, hasn't changed: legendary head \"\n",
      " 'barman Colin Field. The bon vivant, decked out in a white dinner jacket '\n",
      " '(complete with his name embroidered on the pocket), gleefully places your '\n",
      " 'drinks, each with their own scented red or pink rose, before you while '\n",
      " 'looking deep into your eyes (and seemingly your soul). Despite having '\n",
      " 'created the menu—which is full of twists-on-classics such as the Clean Dirty '\n",
      " 'Martini, served with a frozen cube of olive juice, and the Ritz Pimms with, '\n",
      " 'of course, many secret ingredients in addition to ginger ale, Champagne, and '\n",
      " 'garnishes of fruit, cucumber, fresh mint and griottine cherries—he’d much '\n",
      " 'rather just choose for you. And once under his Sir-Mix-A lot spell you’ll '\n",
      " 'likely just say OK.\\n'\n",
      " '     </p>\\n'\n",
      " '    </div>\\n'\n",
      " '   </div>\\n'\n",
      " '  </div>\\n'\n",
      " ' </div>\\n'\n",
      " '</section>\\n')\n"
     ]
    }
   ],
   "source": [
    "from pprint import pprint\n",
    "pprint(restaurants_html[0].prettify())"
   ]
  },
  {
   "cell_type": "code",
   "execution_count": 14,
   "metadata": {},
   "outputs": [],
   "source": [
    "first_rest = restaurants_html[0]"
   ]
  },
  {
   "cell_type": "markdown",
   "metadata": {},
   "source": [
    "### Restaurant picture"
   ]
  },
  {
   "cell_type": "code",
   "execution_count": 22,
   "metadata": {},
   "outputs": [
    {
     "data": {
      "text/plain": [
       "<source data-reactid=\"145\" media=\"(min-width: 1280px)\" srcset=\"https://media.cntraveler.com/photos/5ab293f060ef3f51835c5ca5/master/w_820,c_limit/Bar-Hemingway-%25C2%25A9-Vincent-Leroux-(1).jpg\"/>"
      ]
     },
     "execution_count": 22,
     "metadata": {},
     "output_type": "execute_result"
    }
   ],
   "source": [
    "tag = first_rest.find('source')\n",
    "tag"
   ]
  },
  {
   "cell_type": "code",
   "execution_count": 19,
   "metadata": {},
   "outputs": [
    {
     "data": {
      "text/plain": [
       "'https://media.cntraveler.com/photos/5ab293f060ef3f51835c5ca5/master/w_820,c_limit/Bar-Hemingway-%25C2%25A9-Vincent-Leroux-(1).jpg'"
      ]
     },
     "execution_count": 19,
     "metadata": {},
     "output_type": "execute_result"
    }
   ],
   "source": [
    "tag.attrs['srcset']"
   ]
  },
  {
   "cell_type": "code",
   "execution_count": 24,
   "metadata": {},
   "outputs": [
    {
     "data": {
      "text/plain": [
       "'https://media.cntraveler.com/photos/5ab293f060ef3f51835c5ca5/master/w_820,c_limit/Bar-Hemingway-%25C2%25A9-Vincent-Leroux-(1).jpg'"
      ]
     },
     "execution_count": 24,
     "metadata": {},
     "output_type": "execute_result"
    }
   ],
   "source": [
    "image_url = first_rest.find('source').attrs['srcset']\n",
    "image_url"
   ]
  },
  {
   "cell_type": "markdown",
   "metadata": {},
   "source": [
    "### Restaurant name"
   ]
  },
  {
   "cell_type": "code",
   "execution_count": 25,
   "metadata": {},
   "outputs": [
    {
     "data": {
      "text/plain": [
       "<h2 class=\"hed\" data-reactid=\"154\">Bar Hemingway</h2>"
      ]
     },
     "execution_count": 25,
     "metadata": {},
     "output_type": "execute_result"
    }
   ],
   "source": [
    "tag = first_rest.find('h2')\n",
    "tag"
   ]
  },
  {
   "cell_type": "code",
   "execution_count": 27,
   "metadata": {},
   "outputs": [
    {
     "data": {
      "text/plain": [
       "'Bar Hemingway'"
      ]
     },
     "execution_count": 27,
     "metadata": {},
     "output_type": "execute_result"
    }
   ],
   "source": [
    "tag.text"
   ]
  },
  {
   "cell_type": "code",
   "execution_count": 29,
   "metadata": {},
   "outputs": [
    {
     "data": {
      "text/plain": [
       "'Bar Hemingway'"
      ]
     },
     "execution_count": 29,
     "metadata": {},
     "output_type": "execute_result"
    }
   ],
   "source": [
    "rest_name = first_rest.find('h2').text\n",
    "rest_name"
   ]
  },
  {
   "cell_type": "markdown",
   "metadata": {},
   "source": [
    "### Price"
   ]
  },
  {
   "cell_type": "code",
   "execution_count": 31,
   "metadata": {},
   "outputs": [
    {
     "data": {
      "text/plain": [
       "<p class=\"price\" data-reactid=\"156\">$$</p>"
      ]
     },
     "execution_count": 31,
     "metadata": {},
     "output_type": "execute_result"
    }
   ],
   "source": [
    "tag = first_rest.find('p', {'class': 'price'})\n",
    "tag"
   ]
  },
  {
   "cell_type": "code",
   "execution_count": 32,
   "metadata": {},
   "outputs": [
    {
     "data": {
      "text/plain": [
       "'$$'"
      ]
     },
     "execution_count": 32,
     "metadata": {},
     "output_type": "execute_result"
    }
   ],
   "source": [
    "tag.text"
   ]
  },
  {
   "cell_type": "code",
   "execution_count": 47,
   "metadata": {},
   "outputs": [
    {
     "data": {
      "text/plain": [
       "'$$'"
      ]
     },
     "execution_count": 47,
     "metadata": {},
     "output_type": "execute_result"
    }
   ],
   "source": [
    "rest_price = first_rest.find('p', {'class': 'price'}).text\n",
    "rest_price"
   ]
  },
  {
   "cell_type": "markdown",
   "metadata": {},
   "source": [
    "### Restaurant description"
   ]
  },
  {
   "cell_type": "code",
   "execution_count": 42,
   "metadata": {},
   "outputs": [
    {
     "data": {
      "text/plain": [
       "<div class=\"dek\" data-reactid=\"157\"><div data-reactid=\"158\"><p data-reactid=\"159\">Despite having received a facelift after a multi-million renovation, the place known for being liberated from the Nazis by author Ernest Hemingway retains its old-world charm with tufted leather banquettes and bar stools. Another thing that, thankfully, hasn't changed: legendary head barman Colin Field. The bon vivant, decked out in a white dinner jacket (complete with his name embroidered on the pocket), gleefully places your drinks, each with their own scented red or pink rose, before you while looking deep into your eyes (and seemingly your soul). Despite having created the menu—which is full of twists-on-classics such as the Clean Dirty Martini, served with a frozen cube of olive juice, and the Ritz Pimms with, of course, many secret ingredients in addition to ginger ale, Champagne, and garnishes of fruit, cucumber, fresh mint and griottine cherries—he’d much rather just choose for you. And once under his Sir-Mix-A lot spell you’ll likely just say OK.</p></div></div>"
      ]
     },
     "execution_count": 42,
     "metadata": {},
     "output_type": "execute_result"
    }
   ],
   "source": [
    "tag = first_rest.find('div', {'class': 'dek'})\n",
    "tag"
   ]
  },
  {
   "cell_type": "code",
   "execution_count": 43,
   "metadata": {},
   "outputs": [
    {
     "data": {
      "text/plain": [
       "\"Despite having received a facelift after a multi-million renovation, the place known for being liberated from the Nazis by author Ernest Hemingway retains its old-world charm with tufted leather banquettes and bar stools. Another thing that, thankfully, hasn't changed: legendary head barman Colin Field. The bon vivant, decked out in a white dinner jacket (complete with his name embroidered on the pocket), gleefully places your drinks, each with their own scented red or pink rose, before you while looking deep into your eyes (and seemingly your soul). Despite having created the menu—which is full of twists-on-classics such as the Clean Dirty Martini, served with a frozen cube of olive juice, and the Ritz Pimms with, of course, many secret ingredients in addition to ginger ale, Champagne, and garnishes of fruit, cucumber, fresh mint and griottine cherries—he’d much rather just choose for you. And once under his Sir-Mix-A lot spell you’ll likely just say OK.\""
      ]
     },
     "execution_count": 43,
     "metadata": {},
     "output_type": "execute_result"
    }
   ],
   "source": [
    "tag.text"
   ]
  },
  {
   "cell_type": "code",
   "execution_count": 48,
   "metadata": {},
   "outputs": [
    {
     "data": {
      "text/plain": [
       "\"Despite having received a facelift after a multi-million renovation, the place known for being liberated from the Nazis by author Ernest Hemingway retains its old-world charm with tufted leather banquettes and bar stools. Another thing that, thankfully, hasn't changed: legendary head barman Colin Field. The bon vivant, decked out in a white dinner jacket (complete with his name embroidered on the pocket), gleefully places your drinks, each with their own scented red or pink rose, before you while looking deep into your eyes (and seemingly your soul). Despite having created the menu—which is full of twists-on-classics such as the Clean Dirty Martini, served with a frozen cube of olive juice, and the Ritz Pimms with, of course, many secret ingredients in addition to ginger ale, Champagne, and garnishes of fruit, cucumber, fresh mint and griottine cherries—he’d much rather just choose for you. And once under his Sir-Mix-A lot spell you’ll likely just say OK.\""
      ]
     },
     "execution_count": 48,
     "metadata": {},
     "output_type": "execute_result"
    }
   ],
   "source": [
    "rest_desc = first_rest.find('div', {'class': 'dek'}).text\n",
    "rest_desc"
   ]
  },
  {
   "cell_type": "markdown",
   "metadata": {},
   "source": [
    "### Detail URL"
   ]
  },
  {
   "cell_type": "code",
   "execution_count": 50,
   "metadata": {},
   "outputs": [
    {
     "data": {
      "text/plain": [
       "<a data-reactid=\"153\" href=\"/bars/paris/bar-hemingway\"><h2 class=\"hed\" data-reactid=\"154\">Bar Hemingway</h2></a>"
      ]
     },
     "execution_count": 50,
     "metadata": {},
     "output_type": "execute_result"
    }
   ],
   "source": [
    "tag = first_rest.find('a')\n",
    "tag"
   ]
  },
  {
   "cell_type": "code",
   "execution_count": 51,
   "metadata": {},
   "outputs": [
    {
     "data": {
      "text/plain": [
       "'/bars/paris/bar-hemingway'"
      ]
     },
     "execution_count": 51,
     "metadata": {},
     "output_type": "execute_result"
    }
   ],
   "source": [
    "tag.attrs['href']"
   ]
  },
  {
   "cell_type": "code",
   "execution_count": 52,
   "metadata": {},
   "outputs": [
    {
     "data": {
      "text/plain": [
       "'/bars/paris/bar-hemingway'"
      ]
     },
     "execution_count": 52,
     "metadata": {},
     "output_type": "execute_result"
    }
   ],
   "source": [
    "rest_url = first_rest.find('a').attrs['href']\n",
    "rest_url"
   ]
  },
  {
   "cell_type": "markdown",
   "metadata": {},
   "source": [
    "## Restaurant Detail"
   ]
  },
  {
   "cell_type": "code",
   "execution_count": 36,
   "metadata": {},
   "outputs": [
    {
     "data": {
      "text/plain": [
       "200"
      ]
     },
     "execution_count": 36,
     "metadata": {},
     "output_type": "execute_result"
    }
   ],
   "source": [
    "website = f'https://www.cntraveler.com{rest_url}'\n",
    "response = requests.get(website)\n",
    "response.status_code"
   ]
  },
  {
   "cell_type": "code",
   "execution_count": 37,
   "metadata": {},
   "outputs": [],
   "source": [
    "from bs4 import BeautifulSoup\n",
    "html = BeautifulSoup(response.content, 'lxml')"
   ]
  },
  {
   "cell_type": "code",
   "execution_count": 40,
   "metadata": {},
   "outputs": [
    {
     "data": {
      "text/plain": [
       "<div class=\"mapbox\" data-lat=\"48.8680922\" data-lng=\"2.3266494\" data-reactid=\"99\"></div>"
      ]
     },
     "execution_count": 40,
     "metadata": {},
     "output_type": "execute_result"
    }
   ],
   "source": [
    "coords = html.find('div', {'class': 'mapbox'})\n",
    "coords"
   ]
  },
  {
   "cell_type": "code",
   "execution_count": 41,
   "metadata": {},
   "outputs": [],
   "source": [
    "latitude = coords.attrs['data-lat']\n",
    "longitude = coords.attrs['data-lng']"
   ]
  },
  {
   "cell_type": "markdown",
   "metadata": {},
   "source": [
    "## All together"
   ]
  },
  {
   "cell_type": "code",
   "execution_count": 44,
   "metadata": {},
   "outputs": [
    {
     "data": {
      "text/plain": [
       "200"
      ]
     },
     "execution_count": 44,
     "metadata": {},
     "output_type": "execute_result"
    }
   ],
   "source": [
    "import requests\n",
    "website = 'https://www.cntraveler.com/gallery/best-bars-in-paris'\n",
    "response = requests.get(website)\n",
    "response.status_code"
   ]
  },
  {
   "cell_type": "code",
   "execution_count": 45,
   "metadata": {},
   "outputs": [
    {
     "name": "stdout",
     "output_type": "stream",
     "text": [
      "22\n"
     ]
    }
   ],
   "source": [
    "from bs4 import BeautifulSoup\n",
    "html = BeautifulSoup(response.content, 'lxml')\n",
    "restaurants_html = html.find_all('section', {\n",
    "    'class': 'gallery-item'\n",
    "})\n",
    "print(len(restaurants_html))"
   ]
  },
  {
   "cell_type": "code",
   "execution_count": 53,
   "metadata": {},
   "outputs": [],
   "source": [
    "from tqdm import tqdm"
   ]
  },
  {
   "cell_type": "code",
   "execution_count": 70,
   "metadata": {},
   "outputs": [
    {
     "name": "stderr",
     "output_type": "stream",
     "text": [
      "100%|██████████| 22/22 [00:17<00:00,  1.26it/s]\n"
     ]
    }
   ],
   "source": [
    "rest_data = []\n",
    "for r in tqdm(restaurants_html):\n",
    "    image_url = r.find('source').attrs.get('srcset') if r.find('source') else None\n",
    "    rest_name = r.find('h2').text\n",
    "    rest_price = r.find('p', {'class': 'price'}).text\n",
    "    rest_desc = r.find('div', {'class': 'dek'}).text\n",
    "    rest_url = r.find('a').attrs.get('href')\n",
    "    \n",
    "    website = f'https://www.cntraveler.com{rest_url}'\n",
    "    response = requests.get(website)\n",
    "    html = BeautifulSoup(response.content, 'lxml')\n",
    "    coords = html.find('div', {'class': 'mapbox'})\n",
    "    latitude = coords.attrs.get('data-lat')\n",
    "    longitude = coords.attrs.get('data-lng')\n",
    "    \n",
    "    rest_data.append({\n",
    "        'image_url': image_url,\n",
    "        'name': rest_name,\n",
    "        'price': rest_price,\n",
    "        'desc': rest_desc,\n",
    "        'url': website,\n",
    "        'latitude': latitude,\n",
    "        'longitude': longitude\n",
    "    })"
   ]
  },
  {
   "cell_type": "code",
   "execution_count": 71,
   "metadata": {},
   "outputs": [],
   "source": [
    "import pandas as pd\n",
    "restaurants = pd.DataFrame(rest_data)"
   ]
  },
  {
   "cell_type": "code",
   "execution_count": 61,
   "metadata": {},
   "outputs": [
    {
     "data": {
      "text/html": [
       "<div>\n",
       "<style scoped>\n",
       "    .dataframe tbody tr th:only-of-type {\n",
       "        vertical-align: middle;\n",
       "    }\n",
       "\n",
       "    .dataframe tbody tr th {\n",
       "        vertical-align: top;\n",
       "    }\n",
       "\n",
       "    .dataframe thead th {\n",
       "        text-align: right;\n",
       "    }\n",
       "</style>\n",
       "<table border=\"1\" class=\"dataframe\">\n",
       "  <thead>\n",
       "    <tr style=\"text-align: right;\">\n",
       "      <th></th>\n",
       "      <th>desc</th>\n",
       "      <th>image_url</th>\n",
       "      <th>latitude</th>\n",
       "      <th>longitude</th>\n",
       "      <th>name</th>\n",
       "      <th>price</th>\n",
       "      <th>url</th>\n",
       "    </tr>\n",
       "  </thead>\n",
       "  <tbody>\n",
       "    <tr>\n",
       "      <th>0</th>\n",
       "      <td>Despite having received a facelift after a mul...</td>\n",
       "      <td>https://media.cntraveler.com/photos/5ab293f060...</td>\n",
       "      <td>48.8680922</td>\n",
       "      <td>2.3266494</td>\n",
       "      <td>Bar Hemingway</td>\n",
       "      <td>$$</td>\n",
       "      <td>/bars/paris/bar-hemingway</td>\n",
       "    </tr>\n",
       "    <tr>\n",
       "      <th>1</th>\n",
       "      <td>There's no menu at this small bar off the boul...</td>\n",
       "      <td>https://media.cntraveler.com/photos/5a81e9a486...</td>\n",
       "      <td>48.8640676</td>\n",
       "      <td>2.3636478</td>\n",
       "      <td>Bisou</td>\n",
       "      <td>$$</td>\n",
       "      <td>/bars/paris/bisou</td>\n",
       "    </tr>\n",
       "    <tr>\n",
       "      <th>2</th>\n",
       "      <td>Your first thought will be, \"Am I in the right...</td>\n",
       "      <td>https://media.cntraveler.com/photos/5a81e9a71e...</td>\n",
       "      <td>48.8557066</td>\n",
       "      <td>2.369005</td>\n",
       "      <td>Moonshiner</td>\n",
       "      <td>$$</td>\n",
       "      <td>/bars/paris/moonshiner</td>\n",
       "    </tr>\n",
       "    <tr>\n",
       "      <th>3</th>\n",
       "      <td>Since opening in the haute Marais in 2013, it’...</td>\n",
       "      <td>https://media.cntraveler.com/photos/5a80a85da2...</td>\n",
       "      <td>48.8617412</td>\n",
       "      <td>2.3628237</td>\n",
       "      <td>Le Mary Celeste</td>\n",
       "      <td>$$</td>\n",
       "      <td>/restaurants/paris/le-mary-celeste</td>\n",
       "    </tr>\n",
       "    <tr>\n",
       "      <th>4</th>\n",
       "      <td>Opened by Experimental Cocktail Club protégée ...</td>\n",
       "      <td>https://media.cntraveler.com/photos/5a81e9a98e...</td>\n",
       "      <td>48.8637362</td>\n",
       "      <td>2.3614976</td>\n",
       "      <td>Little Red Door</td>\n",
       "      <td>$$</td>\n",
       "      <td>/bars/paris/little-red-door</td>\n",
       "    </tr>\n",
       "  </tbody>\n",
       "</table>\n",
       "</div>"
      ],
      "text/plain": [
       "                                                desc  \\\n",
       "0  Despite having received a facelift after a mul...   \n",
       "1  There's no menu at this small bar off the boul...   \n",
       "2  Your first thought will be, \"Am I in the right...   \n",
       "3  Since opening in the haute Marais in 2013, it’...   \n",
       "4  Opened by Experimental Cocktail Club protégée ...   \n",
       "\n",
       "                                           image_url    latitude  longitude  \\\n",
       "0  https://media.cntraveler.com/photos/5ab293f060...  48.8680922  2.3266494   \n",
       "1  https://media.cntraveler.com/photos/5a81e9a486...  48.8640676  2.3636478   \n",
       "2  https://media.cntraveler.com/photos/5a81e9a71e...  48.8557066   2.369005   \n",
       "3  https://media.cntraveler.com/photos/5a80a85da2...  48.8617412  2.3628237   \n",
       "4  https://media.cntraveler.com/photos/5a81e9a98e...  48.8637362  2.3614976   \n",
       "\n",
       "              name price                                 url  \n",
       "0    Bar Hemingway    $$           /bars/paris/bar-hemingway  \n",
       "1            Bisou    $$                   /bars/paris/bisou  \n",
       "2       Moonshiner    $$              /bars/paris/moonshiner  \n",
       "3  Le Mary Celeste    $$  /restaurants/paris/le-mary-celeste  \n",
       "4  Little Red Door    $$         /bars/paris/little-red-door  "
      ]
     },
     "execution_count": 61,
     "metadata": {},
     "output_type": "execute_result"
    }
   ],
   "source": [
    "restaurants.head()"
   ]
  },
  {
   "cell_type": "code",
   "execution_count": 75,
   "metadata": {},
   "outputs": [],
   "source": [
    "pd.set_option('display.max_colwidth', 130)"
   ]
  },
  {
   "cell_type": "code",
   "execution_count": 78,
   "metadata": {},
   "outputs": [
    {
     "data": {
      "text/html": [
       "<div>\n",
       "<style scoped>\n",
       "    .dataframe tbody tr th:only-of-type {\n",
       "        vertical-align: middle;\n",
       "    }\n",
       "\n",
       "    .dataframe tbody tr th {\n",
       "        vertical-align: top;\n",
       "    }\n",
       "\n",
       "    .dataframe thead th {\n",
       "        text-align: right;\n",
       "    }\n",
       "</style>\n",
       "<table border=\"1\" class=\"dataframe\">\n",
       "  <thead>\n",
       "    <tr style=\"text-align: right;\">\n",
       "      <th></th>\n",
       "      <th>desc</th>\n",
       "      <th>image_url</th>\n",
       "      <th>latitude</th>\n",
       "      <th>longitude</th>\n",
       "      <th>name</th>\n",
       "      <th>price</th>\n",
       "      <th>url</th>\n",
       "    </tr>\n",
       "  </thead>\n",
       "  <tbody>\n",
       "    <tr>\n",
       "      <th>0</th>\n",
       "      <td>Despite having received a facelift after a multi-million renovation, the place known for being liberated from the Nazis by aut...</td>\n",
       "      <td>https://media.cntraveler.com/photos/5ab293f060ef3f51835c5ca5/master/w_820,c_limit/Bar-Hemingway-%25C2%25A9-Vincent-Leroux-(1).jpg</td>\n",
       "      <td>48.8680922</td>\n",
       "      <td>2.3266494</td>\n",
       "      <td>Bar Hemingway</td>\n",
       "      <td>$$</td>\n",
       "      <td>https://www.cntraveler.com/bars/paris/bar-hemingway</td>\n",
       "    </tr>\n",
       "    <tr>\n",
       "      <th>1</th>\n",
       "      <td>There's no menu at this small bar off the boulevard in the Haute Marais. It's all about what you like—and what the bartender f...</td>\n",
       "      <td>https://media.cntraveler.com/photos/5a81e9a486e4b63c297d47a9/master/w_820,c_limit/Bisou14-%25C2%25A9-Ronan-Le-May.jpg</td>\n",
       "      <td>48.8640676</td>\n",
       "      <td>2.3636478</td>\n",
       "      <td>Bisou</td>\n",
       "      <td>$$</td>\n",
       "      <td>https://www.cntraveler.com/bars/paris/bisou</td>\n",
       "    </tr>\n",
       "    <tr>\n",
       "      <th>2</th>\n",
       "      <td>Your first thought will be, \"Am I in the right place?\" and \"Can I order a slice or do I have to get a whole pie?\" The bar's lo...</td>\n",
       "      <td>https://media.cntraveler.com/photos/5a81e9a71eb1e03b9678c16d/master/w_820,c_limit/Moonshiner_DSC_2734.jpg</td>\n",
       "      <td>48.8557066</td>\n",
       "      <td>2.369005</td>\n",
       "      <td>Moonshiner</td>\n",
       "      <td>$$</td>\n",
       "      <td>https://www.cntraveler.com/bars/paris/moonshiner</td>\n",
       "    </tr>\n",
       "    <tr>\n",
       "      <th>3</th>\n",
       "      <td>Since opening in the haute Marais in 2013, it’s become a real neighborhood hotspot for both locals and visitors who come as mu...</td>\n",
       "      <td>https://media.cntraveler.com/photos/5a80a85da2fdaf4c74bb5f50/master/w_820,c_limit/Le-Mary-Celeste_Fabien-Voileau_2018_opt-9939...</td>\n",
       "      <td>48.8617412</td>\n",
       "      <td>2.3628237</td>\n",
       "      <td>Le Mary Celeste</td>\n",
       "      <td>$$</td>\n",
       "      <td>https://www.cntraveler.com/restaurants/paris/le-mary-celeste</td>\n",
       "    </tr>\n",
       "    <tr>\n",
       "      <th>4</th>\n",
       "      <td>Opened by Experimental Cocktail Club protégée Timothée Prangé and Dotan Shalev (who also own the newer Lulu White in Pigalle),...</td>\n",
       "      <td>https://media.cntraveler.com/photos/5a81e9a98ea5f04e2cf7739a/master/w_820,c_limit/The-Red-Door_LRD-interior-%25C2%25A9Maxime-P...</td>\n",
       "      <td>48.8637362</td>\n",
       "      <td>2.3614976</td>\n",
       "      <td>Little Red Door</td>\n",
       "      <td>$$</td>\n",
       "      <td>https://www.cntraveler.com/bars/paris/little-red-door</td>\n",
       "    </tr>\n",
       "  </tbody>\n",
       "</table>\n",
       "</div>"
      ],
      "text/plain": [
       "                                                                                                                                desc  \\\n",
       "0  Despite having received a facelift after a multi-million renovation, the place known for being liberated from the Nazis by aut...   \n",
       "1  There's no menu at this small bar off the boulevard in the Haute Marais. It's all about what you like—and what the bartender f...   \n",
       "2  Your first thought will be, \"Am I in the right place?\" and \"Can I order a slice or do I have to get a whole pie?\" The bar's lo...   \n",
       "3  Since opening in the haute Marais in 2013, it’s become a real neighborhood hotspot for both locals and visitors who come as mu...   \n",
       "4  Opened by Experimental Cocktail Club protégée Timothée Prangé and Dotan Shalev (who also own the newer Lulu White in Pigalle),...   \n",
       "\n",
       "                                                                                                                           image_url  \\\n",
       "0  https://media.cntraveler.com/photos/5ab293f060ef3f51835c5ca5/master/w_820,c_limit/Bar-Hemingway-%25C2%25A9-Vincent-Leroux-(1).jpg   \n",
       "1              https://media.cntraveler.com/photos/5a81e9a486e4b63c297d47a9/master/w_820,c_limit/Bisou14-%25C2%25A9-Ronan-Le-May.jpg   \n",
       "2                          https://media.cntraveler.com/photos/5a81e9a71eb1e03b9678c16d/master/w_820,c_limit/Moonshiner_DSC_2734.jpg   \n",
       "3  https://media.cntraveler.com/photos/5a80a85da2fdaf4c74bb5f50/master/w_820,c_limit/Le-Mary-Celeste_Fabien-Voileau_2018_opt-9939...   \n",
       "4  https://media.cntraveler.com/photos/5a81e9a98ea5f04e2cf7739a/master/w_820,c_limit/The-Red-Door_LRD-interior-%25C2%25A9Maxime-P...   \n",
       "\n",
       "     latitude  longitude             name price  \\\n",
       "0  48.8680922  2.3266494    Bar Hemingway    $$   \n",
       "1  48.8640676  2.3636478            Bisou    $$   \n",
       "2  48.8557066   2.369005       Moonshiner    $$   \n",
       "3  48.8617412  2.3628237  Le Mary Celeste    $$   \n",
       "4  48.8637362  2.3614976  Little Red Door    $$   \n",
       "\n",
       "                                                            url  \n",
       "0           https://www.cntraveler.com/bars/paris/bar-hemingway  \n",
       "1                   https://www.cntraveler.com/bars/paris/bisou  \n",
       "2              https://www.cntraveler.com/bars/paris/moonshiner  \n",
       "3  https://www.cntraveler.com/restaurants/paris/le-mary-celeste  \n",
       "4         https://www.cntraveler.com/bars/paris/little-red-door  "
      ]
     },
     "execution_count": 78,
     "metadata": {},
     "output_type": "execute_result"
    }
   ],
   "source": [
    "restaurants.head()"
   ]
  },
  {
   "cell_type": "code",
   "execution_count": null,
   "metadata": {},
   "outputs": [],
   "source": []
  }
 ],
 "metadata": {
  "kernelspec": {
   "display_name": "Python 3",
   "language": "python",
   "name": "python3"
  },
  "language_info": {
   "codemirror_mode": {
    "name": "ipython",
    "version": 3
   },
   "file_extension": ".py",
   "mimetype": "text/x-python",
   "name": "python",
   "nbconvert_exporter": "python",
   "pygments_lexer": "ipython3",
   "version": "3.6.5"
  }
 },
 "nbformat": 4,
 "nbformat_minor": 2
}
